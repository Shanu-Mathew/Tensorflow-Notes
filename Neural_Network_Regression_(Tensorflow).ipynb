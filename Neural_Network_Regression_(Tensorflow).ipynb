{
  "nbformat": 4,
  "nbformat_minor": 0,
  "metadata": {
    "colab": {
      "provenance": [],
      "authorship_tag": "ABX9TyPOX8yMuQpuGYvzCUncrH6v",
      "include_colab_link": true
    },
    "kernelspec": {
      "name": "python3",
      "display_name": "Python 3"
    },
    "language_info": {
      "name": "python"
    }
  },
  "cells": [
    {
      "cell_type": "markdown",
      "metadata": {
        "id": "view-in-github",
        "colab_type": "text"
      },
      "source": [
        "<a href=\"https://colab.research.google.com/github/Shanu-Mathew/Tensorflow-Notes/blob/main/Neural_Network_Regression_(Tensorflow).ipynb\" target=\"_parent\"><img src=\"https://colab.research.google.com/assets/colab-badge.svg\" alt=\"Open In Colab\"/></a>"
      ]
    },
    {
      "cell_type": "markdown",
      "source": [
        "# Introduction to Regression with Neural Networks in Tensorflow\n",
        "\n",
        "There are many definitions for a regression problem but in our case, we are going to somplify it: Predicting a numerical variable based on some other combination of variables, even shorter...predicting a number"
      ],
      "metadata": {
        "id": "PQrWmB5Qn7_w"
      }
    },
    {
      "cell_type": "markdown",
      "source": [
        "### Importing Libraries"
      ],
      "metadata": {
        "id": "coz2w45C5alX"
      }
    },
    {
      "cell_type": "code",
      "execution_count": 5,
      "metadata": {
        "id": "cFyqNdfFnezs",
        "colab": {
          "base_uri": "https://localhost:8080/"
        },
        "outputId": "31d6eb14-27c4-490e-829f-e04c59f4812d"
      },
      "outputs": [
        {
          "output_type": "stream",
          "name": "stdout",
          "text": [
            "2.12.0\n"
          ]
        }
      ],
      "source": [
        "import tensorflow as tf\n",
        "print(tf.__version__)\n",
        "import numpy as np\n",
        "import matplotlib.pyplot as plt"
      ]
    },
    {
      "cell_type": "markdown",
      "source": [
        "##Data Ingestion"
      ],
      "metadata": {
        "id": "MhqOtqRP5phf"
      }
    },
    {
      "cell_type": "code",
      "source": [
        "#Create Features\n",
        "X=np.array([-7.0,-4.0,-1.0,2.0,5.0,8.0,11.0,14.0])\n",
        "\n",
        "#Create labels\n",
        "y=np.array([3.0,6.0,9.0,12.0,15.0,18.0,21.0,24.0])\n",
        "\n",
        "#Visualisation\n",
        "plt.scatter(X,y);"
      ],
      "metadata": {
        "colab": {
          "base_uri": "https://localhost:8080/",
          "height": 0
        },
        "id": "5rbm620d5rhk",
        "outputId": "b3c1942b-07a1-4c58-9688-46e46d34cbbb"
      },
      "execution_count": 6,
      "outputs": [
        {
          "output_type": "display_data",
          "data": {
            "text/plain": [
              "<Figure size 640x480 with 1 Axes>"
            ],
            "image/png": "[encoded data removed]"
          },
          "metadata": {}
        }
      ]
    },
    {
      "cell_type": "code",
      "source": [
        "y ==X+10"
      ],
      "metadata": {
        "colab": {
          "base_uri": "https://localhost:8080/"
        },
        "id": "qzvsAXQr9fFI",
        "outputId": "f0a77d6b-2e8e-4e80-bc00-2d4d2aaf3302"
      },
      "execution_count": 7,
      "outputs": [
        {
          "output_type": "execute_result",
          "data": {
            "text/plain": [
              "array([ True,  True,  True,  True,  True,  True,  True,  True])"
            ]
          },
          "metadata": {},
          "execution_count": 7
        }
      ]
    },
    {
      "cell_type": "markdown",
      "source": [
        "## Input and Output Shapes"
      ],
      "metadata": {
        "id": "BgL57Epe9tOF"
      }
    },
    {
      "cell_type": "code",
      "source": [
        "#Create a demo tensor\n",
        "house_info=tf.constant(['bedroom','bathroom','garage'])\n",
        "house_price=tf.constant([937000])\n",
        "house_info,house_price"
      ],
      "metadata": {
        "colab": {
          "base_uri": "https://localhost:8080/"
        },
        "id": "w-xYdnLo9wUy",
        "outputId": "fa8d31ad-548e-435f-894b-9391d778389c"
      },
      "execution_count": 8,
      "outputs": [
        {
          "output_type": "execute_result",
          "data": {
            "text/plain": [
              "(<tf.Tensor: shape=(3,), dtype=string, numpy=array([b'bedroom', b'bathroom', b'garage'], dtype=object)>,\n",
              " <tf.Tensor: shape=(1,), dtype=int32, numpy=array([937000], dtype=int32)>)"
            ]
          },
          "metadata": {},
          "execution_count": 8
        }
      ]
    },
    {
      "cell_type": "code",
      "source": [
        "input_shape=X.shape\n",
        "output_shape=y.shape\n",
        "input_shape,output_shape"
      ],
      "metadata": {
        "colab": {
          "base_uri": "https://localhost:8080/"
        },
        "id": "dRn60IoX-CAx",
        "outputId": "fb5dbd9f-ebe1-4ce9-f5d0-9d59392d68dd"
      },
      "execution_count": 9,
      "outputs": [
        {
          "output_type": "execute_result",
          "data": {
            "text/plain": [
              "((8,), (8,))"
            ]
          },
          "metadata": {},
          "execution_count": 9
        }
      ]
    },
    {
      "cell_type": "code",
      "source": [
        "X[0],y[0]"
      ],
      "metadata": {
        "colab": {
          "base_uri": "https://localhost:8080/"
        },
        "id": "YLNu9Z8g-OkS",
        "outputId": "7afe4336-ac47-4994-9323-e26bdd67e64f"
      },
      "execution_count": 10,
      "outputs": [
        {
          "output_type": "execute_result",
          "data": {
            "text/plain": [
              "(-7.0, 3.0)"
            ]
          },
          "metadata": {},
          "execution_count": 10
        }
      ]
    },
    {
      "cell_type": "code",
      "source": [
        "X[1],y[1]"
      ],
      "metadata": {
        "colab": {
          "base_uri": "https://localhost:8080/"
        },
        "id": "ko_WbpRx-Q7V",
        "outputId": "fe5619c4-140d-444b-939a-772139529de3"
      },
      "execution_count": 11,
      "outputs": [
        {
          "output_type": "execute_result",
          "data": {
            "text/plain": [
              "(-4.0, 6.0)"
            ]
          },
          "metadata": {},
          "execution_count": 11
        }
      ]
    },
    {
      "cell_type": "code",
      "source": [
        "input_shape=X[0].shape\n",
        "output_shape=y[0].shape\n",
        "input_shape,output_shape"
      ],
      "metadata": {
        "colab": {
          "base_uri": "https://localhost:8080/"
        },
        "id": "RtW8J6Rk-VqL",
        "outputId": "4b0897c3-99fb-4a39-b108-3e198da13f3a"
      },
      "execution_count": 12,
      "outputs": [
        {
          "output_type": "execute_result",
          "data": {
            "text/plain": [
              "((), ())"
            ]
          },
          "metadata": {},
          "execution_count": 12
        }
      ]
    },
    {
      "cell_type": "code",
      "source": [
        "X[0].ndim"
      ],
      "metadata": {
        "colab": {
          "base_uri": "https://localhost:8080/"
        },
        "id": "R2_i9XZxDdRj",
        "outputId": "fe9cd4d3-7c11-4659-80a7-eae7a56b1f8d"
      },
      "execution_count": 13,
      "outputs": [
        {
          "output_type": "execute_result",
          "data": {
            "text/plain": [
              "0"
            ]
          },
          "metadata": {},
          "execution_count": 13
        }
      ]
    },
    {
      "cell_type": "code",
      "source": [
        "#Numpy array into tensors with dtype float32\n",
        "X=tf.cast(tf.constant(X),dtype=tf.float32)\n",
        "y=tf.cast(tf.constant(y),dtype=tf.float32)\n",
        "X,y"
      ],
      "metadata": {
        "colab": {
          "base_uri": "https://localhost:8080/"
        },
        "id": "lQk139CLDj1h",
        "outputId": "be04128b-45cd-457f-d5e0-c23a0da6e03c"
      },
      "execution_count": 14,
      "outputs": [
        {
          "output_type": "execute_result",
          "data": {
            "text/plain": [
              "(<tf.Tensor: shape=(8,), dtype=float32, numpy=array([-7., -4., -1.,  2.,  5.,  8., 11., 14.], dtype=float32)>,\n",
              " <tf.Tensor: shape=(8,), dtype=float32, numpy=array([ 3.,  6.,  9., 12., 15., 18., 21., 24.], dtype=float32)>)"
            ]
          },
          "metadata": {},
          "execution_count": 14
        }
      ]
    },
    {
      "cell_type": "code",
      "source": [
        "input_shape=X[0].shape\n",
        "output_shape=y[0].shape\n",
        "input_shape, output_shape"
      ],
      "metadata": {
        "colab": {
          "base_uri": "https://localhost:8080/"
        },
        "id": "nBpcNtiwDs1h",
        "outputId": "93f6c755-6699-488a-97ca-83aebd65c877"
      },
      "execution_count": 15,
      "outputs": [
        {
          "output_type": "execute_result",
          "data": {
            "text/plain": [
              "(TensorShape([]), TensorShape([]))"
            ]
          },
          "metadata": {},
          "execution_count": 15
        }
      ]
    },
    {
      "cell_type": "markdown",
      "source": [
        "## Steps in modelling with Tensorflow\n",
        "1. Creating a model - define the input and output layers, as well as the hidden layers of a deep learning model.\n",
        "2. Compiling a model - define the loss function (in other words, the function which tells our model how wrong it is) and the optimizer (tells our model how to improve the patterns its learning) and the evaluation metrics (which we can use to interpret the performance of our model)\n",
        "3. Fitting a model -  Letting the model try to find patterns between X & y (features and Labels)"
      ],
      "metadata": {
        "id": "w4m577cKF37C"
      }
    },
    {
      "cell_type": "code",
      "source": [
        "from keras.engine.training import optimizer\n",
        "# Set Random Seed\n",
        "tf.random.set_seed(42)\n",
        "\n",
        "#1. Create a model using the Sequential API\n",
        "model=tf.keras.Sequential([\n",
        "    tf.keras.layers.Dense(1)\n",
        "])\n",
        "\n",
        "#2. Compile the model\n",
        "model.compile(loss=tf.keras.losses.mae,\n",
        "               optimizer=tf.keras.optimizers.SGD(),\n",
        "               metrics=[\"mae\"])\n",
        "\n",
        "#Fit the model\n",
        "model.fit(tf.expand_dims(X,axis=-1),y,epochs=5);"
      ],
      "metadata": {
        "id": "T75BXKE2Gmri",
        "colab": {
          "base_uri": "https://localhost:8080/"
        },
        "outputId": "cab14554-1faf-4843-83b7-a76bbd039542"
      },
      "execution_count": 16,
      "outputs": [
        {
          "output_type": "stream",
          "name": "stdout",
          "text": [
            "Epoch 1/5\n",
            "1/1 [==============================] - 1s 523ms/step - loss: 13.7942 - mae: 13.7942\n",
            "Epoch 2/5\n",
            "1/1 [==============================] - 0s 20ms/step - loss: 13.6617 - mae: 13.6617\n",
            "Epoch 3/5\n",
            "1/1 [==============================] - 0s 12ms/step - loss: 13.5292 - mae: 13.5292\n",
            "Epoch 4/5\n",
            "1/1 [==============================] - 0s 12ms/step - loss: 13.3967 - mae: 13.3967\n",
            "Epoch 5/5\n",
            "1/1 [==============================] - 0s 9ms/step - loss: 13.2642 - mae: 13.2642\n"
          ]
        }
      ]
    },
    {
      "cell_type": "code",
      "source": [
        "# Making prediction\n",
        "y_pred=model.predict([17.0])\n",
        "y_pred"
      ],
      "metadata": {
        "colab": {
          "base_uri": "https://localhost:8080/"
        },
        "id": "ZLZNCocW2Gtx",
        "outputId": "eefe3341-2b86-4d82-e888-1933bab09db0"
      },
      "execution_count": 17,
      "outputs": [
        {
          "output_type": "stream",
          "name": "stdout",
          "text": [
            "1/1 [==============================] - 0s 96ms/step\n"
          ]
        },
        {
          "output_type": "execute_result",
          "data": {
            "text/plain": [
              "array([[1.5959543]], dtype=float32)"
            ]
          },
          "metadata": {},
          "execution_count": 17
        }
      ]
    },
    {
      "cell_type": "markdown",
      "source": [
        "## Improving  our Model\n",
        "\n",
        "We can improve our model by altering the steps we took to create a model.\n",
        "\n",
        "1. **Creating a model** -\n",
        "    * We might add more layers,\n",
        "    * Increase the number of hidden units (all called neurons) within each of the hidden layers\n",
        "    * Change the activation function of each layer.\n",
        "2. **Compiling a model** -\n",
        "    * Change the optimization function or **learning rate** of the optimization function\n",
        "3. **Fitting a model** -\n",
        "    * Fit a model for more epochs\n",
        "    * Fit a model with more data (& give the model more examples to learn from)\n"
      ],
      "metadata": {
        "id": "Q9-B3B4f73Ri"
      }
    },
    {
      "cell_type": "code",
      "source": [
        "#Improve the model\n",
        "\n",
        "#1. Create the model\n",
        "model=tf.keras.Sequential([\n",
        "    tf.keras.layers.Dense(1)\n",
        "])\n",
        "\n",
        "#2. Compile the model\n",
        "model.compile(loss=tf.keras.losses.mae,\n",
        "              optimizer=tf.keras.optimizers.SGD(),\n",
        "              metrics=['mae'])\n",
        "\n",
        "#3. Fitting the model\n",
        "model.fit(tf.expand_dims(X,axis=-1),y,epochs=100) #Epochs means how many times the model refines on the training data"
      ],
      "metadata": {
        "colab": {
          "base_uri": "https://localhost:8080/"
        },
        "id": "tT4g6h_89w2P",
        "outputId": "e2452e3f-f0a5-4e99-9bbc-086c0b99ad07"
      },
      "execution_count": 18,
      "outputs": [
        {
          "output_type": "stream",
          "name": "stdout",
          "text": [
            "Epoch 1/100\n",
            "1/1 [==============================] - 0s 390ms/step - loss: 9.1650 - mae: 9.1650\n",
            "Epoch 2/100\n",
            "1/1 [==============================] - 0s 15ms/step - loss: 9.0325 - mae: 9.0325\n",
            "Epoch 3/100\n",
            "1/1 [==============================] - 0s 11ms/step - loss: 8.9000 - mae: 8.9000\n",
            "Epoch 4/100\n",
            "1/1 [==============================] - 0s 18ms/step - loss: 8.7675 - mae: 8.7675\n",
            "Epoch 5/100\n",
            "1/1 [==============================] - 0s 14ms/step - loss: 8.6350 - mae: 8.6350\n",
            "Epoch 6/100\n",
            "1/1 [==============================] - 0s 12ms/step - loss: 8.5025 - mae: 8.5025\n",
            "Epoch 7/100\n",
            "1/1 [==============================] - 0s 12ms/step - loss: 8.3700 - mae: 8.3700\n",
            "Epoch 8/100\n",
            "1/1 [==============================] - 0s 12ms/step - loss: 8.2375 - mae: 8.2375\n",
            "Epoch 9/100\n",
            "1/1 [==============================] - 0s 14ms/step - loss: 8.1050 - mae: 8.1050\n",
            "Epoch 10/100\n",
            "1/1 [==============================] - 0s 11ms/step - loss: 7.9725 - mae: 7.9725\n",
            "Epoch 11/100\n",
            "1/1 [==============================] - 0s 10ms/step - loss: 7.8400 - mae: 7.8400\n",
            "Epoch 12/100\n",
            "1/1 [==============================] - 0s 12ms/step - loss: 7.7075 - mae: 7.7075\n",
            "Epoch 13/100\n",
            "1/1 [==============================] - 0s 11ms/step - loss: 7.5750 - mae: 7.5750\n",
            "Epoch 14/100\n",
            "1/1 [==============================] - 0s 14ms/step - loss: 7.4425 - mae: 7.4425\n",
            "Epoch 15/100\n",
            "1/1 [==============================] - 0s 15ms/step - loss: 7.3950 - mae: 7.3950\n",
            "Epoch 16/100\n",
            "1/1 [==============================] - 0s 12ms/step - loss: 7.3894 - mae: 7.3894\n",
            "Epoch 17/100\n",
            "1/1 [==============================] - 0s 12ms/step - loss: 7.3837 - mae: 7.3837\n",
            "Epoch 18/100\n",
            "1/1 [==============================] - 0s 11ms/step - loss: 7.3781 - mae: 7.3781\n",
            "Epoch 19/100\n",
            "1/1 [==============================] - 0s 12ms/step - loss: 7.3725 - mae: 7.3725\n",
            "Epoch 20/100\n",
            "1/1 [==============================] - 0s 11ms/step - loss: 7.3669 - mae: 7.3669\n",
            "Epoch 21/100\n",
            "1/1 [==============================] - 0s 12ms/step - loss: 7.3612 - mae: 7.3612\n",
            "Epoch 22/100\n",
            "1/1 [==============================] - 0s 13ms/step - loss: 7.3556 - mae: 7.3556\n",
            "Epoch 23/100\n",
            "1/1 [==============================] - 0s 11ms/step - loss: 7.3500 - mae: 7.3500\n",
            "Epoch 24/100\n",
            "1/1 [==============================] - 0s 12ms/step - loss: 7.3444 - mae: 7.3444\n",
            "Epoch 25/100\n",
            "1/1 [==============================] - 0s 11ms/step - loss: 7.3387 - mae: 7.3387\n",
            "Epoch 26/100\n",
            "1/1 [==============================] - 0s 11ms/step - loss: 7.3331 - mae: 7.3331\n",
            "Epoch 27/100\n",
            "1/1 [==============================] - 0s 10ms/step - loss: 7.3275 - mae: 7.3275\n",
            "Epoch 28/100\n",
            "1/1 [==============================] - 0s 11ms/step - loss: 7.3219 - mae: 7.3219\n",
            "Epoch 29/100\n",
            "1/1 [==============================] - 0s 10ms/step - loss: 7.3162 - mae: 7.3162\n",
            "Epoch 30/100\n",
            "1/1 [==============================] - 0s 10ms/step - loss: 7.3106 - mae: 7.3106\n",
            "Epoch 31/100\n",
            "1/1 [==============================] - 0s 16ms/step - loss: 7.3050 - mae: 7.3050\n",
            "Epoch 32/100\n",
            "1/1 [==============================] - 0s 12ms/step - loss: 7.2994 - mae: 7.2994\n",
            "Epoch 33/100\n",
            "1/1 [==============================] - 0s 10ms/step - loss: 7.2937 - mae: 7.2937\n",
            "Epoch 34/100\n",
            "1/1 [==============================] - 0s 11ms/step - loss: 7.2881 - mae: 7.2881\n",
            "Epoch 35/100\n",
            "1/1 [==============================] - 0s 10ms/step - loss: 7.2825 - mae: 7.2825\n",
            "Epoch 36/100\n",
            "1/1 [==============================] - 0s 11ms/step - loss: 7.2769 - mae: 7.2769\n",
            "Epoch 37/100\n",
            "1/1 [==============================] - 0s 10ms/step - loss: 7.2712 - mae: 7.2712\n",
            "Epoch 38/100\n",
            "1/1 [==============================] - 0s 10ms/step - loss: 7.2656 - mae: 7.2656\n",
            "Epoch 39/100\n",
            "1/1 [==============================] - 0s 10ms/step - loss: 7.2600 - mae: 7.2600\n",
            "Epoch 40/100\n",
            "1/1 [==============================] - 0s 10ms/step - loss: 7.2544 - mae: 7.2544\n",
            "Epoch 41/100\n",
            "1/1 [==============================] - 0s 10ms/step - loss: 7.2488 - mae: 7.2488\n",
            "Epoch 42/100\n",
            "1/1 [==============================] - 0s 10ms/step - loss: 7.2431 - mae: 7.2431\n",
            "Epoch 43/100\n",
            "1/1 [==============================] - 0s 10ms/step - loss: 7.2375 - mae: 7.2375\n",
            "Epoch 44/100\n",
            "1/1 [==============================] - 0s 10ms/step - loss: 7.2319 - mae: 7.2319\n",
            "Epoch 45/100\n",
            "1/1 [==============================] - 0s 11ms/step - loss: 7.2262 - mae: 7.2262\n",
            "Epoch 46/100\n",
            "1/1 [==============================] - 0s 10ms/step - loss: 7.2206 - mae: 7.2206\n",
            "Epoch 47/100\n",
            "1/1 [==============================] - 0s 10ms/step - loss: 7.2150 - mae: 7.2150\n",
            "Epoch 48/100\n",
            "1/1 [==============================] - 0s 10ms/step - loss: 7.2094 - mae: 7.2094\n",
            "Epoch 49/100\n",
            "1/1 [==============================] - 0s 10ms/step - loss: 7.2038 - mae: 7.2038\n",
            "Epoch 50/100\n",
            "1/1 [==============================] - 0s 10ms/step - loss: 7.1981 - mae: 7.1981\n",
            "Epoch 51/100\n",
            "1/1 [==============================] - 0s 10ms/step - loss: 7.1925 - mae: 7.1925\n",
            "Epoch 52/100\n",
            "1/1 [==============================] - 0s 10ms/step - loss: 7.1869 - mae: 7.1869\n",
            "Epoch 53/100\n",
            "1/1 [==============================] - 0s 11ms/step - loss: 7.1813 - mae: 7.1813\n",
            "Epoch 54/100\n",
            "1/1 [==============================] - 0s 10ms/step - loss: 7.1756 - mae: 7.1756\n",
            "Epoch 55/100\n",
            "1/1 [==============================] - 0s 10ms/step - loss: 7.1700 - mae: 7.1700\n",
            "Epoch 56/100\n",
            "1/1 [==============================] - 0s 10ms/step - loss: 7.1644 - mae: 7.1644\n",
            "Epoch 57/100\n",
            "1/1 [==============================] - 0s 10ms/step - loss: 7.1588 - mae: 7.1588\n",
            "Epoch 58/100\n",
            "1/1 [==============================] - 0s 12ms/step - loss: 7.1531 - mae: 7.1531\n",
            "Epoch 59/100\n",
            "1/1 [==============================] - 0s 11ms/step - loss: 7.1475 - mae: 7.1475\n",
            "Epoch 60/100\n",
            "1/1 [==============================] - 0s 10ms/step - loss: 7.1419 - mae: 7.1419\n",
            "Epoch 61/100\n",
            "1/1 [==============================] - 0s 10ms/step - loss: 7.1363 - mae: 7.1363\n",
            "Epoch 62/100\n",
            "1/1 [==============================] - 0s 10ms/step - loss: 7.1306 - mae: 7.1306\n",
            "Epoch 63/100\n",
            "1/1 [==============================] - 0s 10ms/step - loss: 7.1250 - mae: 7.1250\n",
            "Epoch 64/100\n",
            "1/1 [==============================] - 0s 10ms/step - loss: 7.1194 - mae: 7.1194\n",
            "Epoch 65/100\n",
            "1/1 [==============================] - 0s 11ms/step - loss: 7.1138 - mae: 7.1138\n",
            "Epoch 66/100\n",
            "1/1 [==============================] - 0s 11ms/step - loss: 7.1081 - mae: 7.1081\n",
            "Epoch 67/100\n",
            "1/1 [==============================] - 0s 11ms/step - loss: 7.1025 - mae: 7.1025\n",
            "Epoch 68/100\n",
            "1/1 [==============================] - 0s 11ms/step - loss: 7.0969 - mae: 7.0969\n",
            "Epoch 69/100\n",
            "1/1 [==============================] - 0s 11ms/step - loss: 7.0913 - mae: 7.0913\n",
            "Epoch 70/100\n",
            "1/1 [==============================] - 0s 11ms/step - loss: 7.0856 - mae: 7.0856\n",
            "Epoch 71/100\n",
            "1/1 [==============================] - 0s 16ms/step - loss: 7.0800 - mae: 7.0800\n",
            "Epoch 72/100\n",
            "1/1 [==============================] - 0s 14ms/step - loss: 7.0744 - mae: 7.0744\n",
            "Epoch 73/100\n",
            "1/1 [==============================] - 0s 19ms/step - loss: 7.0687 - mae: 7.0687\n",
            "Epoch 74/100\n",
            "1/1 [==============================] - 0s 10ms/step - loss: 7.0631 - mae: 7.0631\n",
            "Epoch 75/100\n",
            "1/1 [==============================] - 0s 10ms/step - loss: 7.0575 - mae: 7.0575\n",
            "Epoch 76/100\n",
            "1/1 [==============================] - 0s 13ms/step - loss: 7.0519 - mae: 7.0519\n",
            "Epoch 77/100\n",
            "1/1 [==============================] - 0s 11ms/step - loss: 7.0463 - mae: 7.0463\n",
            "Epoch 78/100\n",
            "1/1 [==============================] - 0s 10ms/step - loss: 7.0406 - mae: 7.0406\n",
            "Epoch 79/100\n",
            "1/1 [==============================] - 0s 10ms/step - loss: 7.0350 - mae: 7.0350\n",
            "Epoch 80/100\n",
            "1/1 [==============================] - 0s 10ms/step - loss: 7.0294 - mae: 7.0294\n",
            "Epoch 81/100\n",
            "1/1 [==============================] - 0s 10ms/step - loss: 7.0238 - mae: 7.0238\n",
            "Epoch 82/100\n",
            "1/1 [==============================] - 0s 19ms/step - loss: 7.0181 - mae: 7.0181\n",
            "Epoch 83/100\n",
            "1/1 [==============================] - 0s 12ms/step - loss: 7.0125 - mae: 7.0125\n",
            "Epoch 84/100\n",
            "1/1 [==============================] - 0s 11ms/step - loss: 7.0069 - mae: 7.0069\n",
            "Epoch 85/100\n",
            "1/1 [==============================] - 0s 12ms/step - loss: 7.0013 - mae: 7.0013\n",
            "Epoch 86/100\n",
            "1/1 [==============================] - 0s 15ms/step - loss: 6.9956 - mae: 6.9956\n",
            "Epoch 87/100\n",
            "1/1 [==============================] - 0s 14ms/step - loss: 6.9900 - mae: 6.9900\n",
            "Epoch 88/100\n",
            "1/1 [==============================] - 0s 11ms/step - loss: 6.9844 - mae: 6.9844\n",
            "Epoch 89/100\n",
            "1/1 [==============================] - 0s 10ms/step - loss: 6.9788 - mae: 6.9788\n",
            "Epoch 90/100\n",
            "1/1 [==============================] - 0s 10ms/step - loss: 6.9731 - mae: 6.9731\n",
            "Epoch 91/100\n",
            "1/1 [==============================] - 0s 12ms/step - loss: 6.9675 - mae: 6.9675\n",
            "Epoch 92/100\n",
            "1/1 [==============================] - 0s 13ms/step - loss: 6.9619 - mae: 6.9619\n",
            "Epoch 93/100\n",
            "1/1 [==============================] - 0s 9ms/step - loss: 6.9563 - mae: 6.9563\n",
            "Epoch 94/100\n",
            "1/1 [==============================] - 0s 13ms/step - loss: 6.9506 - mae: 6.9506\n",
            "Epoch 95/100\n",
            "1/1 [==============================] - 0s 11ms/step - loss: 6.9450 - mae: 6.9450\n",
            "Epoch 96/100\n",
            "1/1 [==============================] - 0s 10ms/step - loss: 6.9394 - mae: 6.9394\n",
            "Epoch 97/100\n",
            "1/1 [==============================] - 0s 10ms/step - loss: 6.9338 - mae: 6.9338\n",
            "Epoch 98/100\n",
            "1/1 [==============================] - 0s 11ms/step - loss: 6.9281 - mae: 6.9281\n",
            "Epoch 99/100\n",
            "1/1 [==============================] - 0s 13ms/step - loss: 6.9225 - mae: 6.9225\n",
            "Epoch 100/100\n",
            "1/1 [==============================] - 0s 13ms/step - loss: 6.9169 - mae: 6.9169\n"
          ]
        },
        {
          "output_type": "execute_result",
          "data": {
            "text/plain": [
              "<keras.callbacks.History at 0x7f4de8f96da0>"
            ]
          },
          "metadata": {},
          "execution_count": 18
        }
      ]
    },
    {
      "cell_type": "code",
      "source": [
        "#Prediction of values by new model\n",
        "model.predict([17.0])"
      ],
      "metadata": {
        "colab": {
          "base_uri": "https://localhost:8080/"
        },
        "id": "72lppNNM8m5X",
        "outputId": "b4acc75a-f2f6-4563-e241-ffa1a926c338"
      },
      "execution_count": 19,
      "outputs": [
        {
          "output_type": "stream",
          "name": "stdout",
          "text": [
            "1/1 [==============================] - 0s 151ms/step\n"
          ]
        },
        {
          "output_type": "execute_result",
          "data": {
            "text/plain": [
              "array([[30.170622]], dtype=float32)"
            ]
          },
          "metadata": {},
          "execution_count": 19
        }
      ]
    },
    {
      "cell_type": "code",
      "source": [
        "#Improving Model more\n",
        "\n",
        "#1. Create the model (this time with an extra hidden layer with 100 hidden units)\n",
        "model=tf.keras.Sequential([\n",
        "    tf.keras.layers.Dense(50,activation=\"relu\"),\n",
        "    tf.keras.layers.Dense(1)\n",
        "])\n",
        "#2. Compiling the model\n",
        "model.compile(loss=\"mae\",\n",
        "               optimizer=tf.keras.optimizers.Adam(),\n",
        "               metrics=[\"mae\"])\n",
        "\n",
        "#3. Fit the model\n",
        "model.fit(tf.expand_dims(X,axis=-1),y,epochs=100)\n"
      ],
      "metadata": {
        "colab": {
          "base_uri": "https://localhost:8080/"
        },
        "id": "5n5KprOSHheW",
        "outputId": "cc5788d0-375b-450c-e94d-63a73982cb55"
      },
      "execution_count": 20,
      "outputs": [
        {
          "output_type": "stream",
          "name": "stdout",
          "text": [
            "Epoch 1/100\n",
            "1/1 [==============================] - 1s 899ms/step - loss: 11.7376 - mae: 11.7376\n",
            "Epoch 2/100\n",
            "1/1 [==============================] - 0s 20ms/step - loss: 11.6705 - mae: 11.6705\n",
            "Epoch 3/100\n",
            "1/1 [==============================] - 0s 13ms/step - loss: 11.6034 - mae: 11.6034\n",
            "Epoch 4/100\n",
            "1/1 [==============================] - 0s 10ms/step - loss: 11.5362 - mae: 11.5362\n",
            "Epoch 5/100\n",
            "1/1 [==============================] - 0s 10ms/step - loss: 11.4690 - mae: 11.4690\n",
            "Epoch 6/100\n",
            "1/1 [==============================] - 0s 7ms/step - loss: 11.4018 - mae: 11.4018\n",
            "Epoch 7/100\n",
            "1/1 [==============================] - 0s 11ms/step - loss: 11.3345 - mae: 11.3345\n",
            "Epoch 8/100\n",
            "1/1 [==============================] - 0s 13ms/step - loss: 11.2671 - mae: 11.2671\n",
            "Epoch 9/100\n",
            "1/1 [==============================] - 0s 9ms/step - loss: 11.1996 - mae: 11.1996\n",
            "Epoch 10/100\n",
            "1/1 [==============================] - 0s 11ms/step - loss: 11.1321 - mae: 11.1321\n",
            "Epoch 11/100\n",
            "1/1 [==============================] - 0s 14ms/step - loss: 11.0645 - mae: 11.0645\n",
            "Epoch 12/100\n",
            "1/1 [==============================] - 0s 11ms/step - loss: 10.9969 - mae: 10.9969\n",
            "Epoch 13/100\n",
            "1/1 [==============================] - 0s 12ms/step - loss: 10.9291 - mae: 10.9291\n",
            "Epoch 14/100\n",
            "1/1 [==============================] - 0s 13ms/step - loss: 10.8613 - mae: 10.8613\n",
            "Epoch 15/100\n",
            "1/1 [==============================] - 0s 12ms/step - loss: 10.7934 - mae: 10.7934\n",
            "Epoch 16/100\n",
            "1/1 [==============================] - 0s 9ms/step - loss: 10.7254 - mae: 10.7254\n",
            "Epoch 17/100\n",
            "1/1 [==============================] - 0s 10ms/step - loss: 10.6573 - mae: 10.6573\n",
            "Epoch 18/100\n",
            "1/1 [==============================] - 0s 11ms/step - loss: 10.5891 - mae: 10.5891\n",
            "Epoch 19/100\n",
            "1/1 [==============================] - 0s 18ms/step - loss: 10.5208 - mae: 10.5208\n",
            "Epoch 20/100\n",
            "1/1 [==============================] - 0s 14ms/step - loss: 10.4525 - mae: 10.4525\n",
            "Epoch 21/100\n",
            "1/1 [==============================] - 0s 13ms/step - loss: 10.3841 - mae: 10.3841\n",
            "Epoch 22/100\n",
            "1/1 [==============================] - 0s 10ms/step - loss: 10.3156 - mae: 10.3156\n",
            "Epoch 23/100\n",
            "1/1 [==============================] - 0s 11ms/step - loss: 10.2472 - mae: 10.2472\n",
            "Epoch 24/100\n",
            "1/1 [==============================] - 0s 12ms/step - loss: 10.1787 - mae: 10.1787\n",
            "Epoch 25/100\n",
            "1/1 [==============================] - 0s 10ms/step - loss: 10.1101 - mae: 10.1101\n",
            "Epoch 26/100\n",
            "1/1 [==============================] - 0s 10ms/step - loss: 10.0414 - mae: 10.0414\n",
            "Epoch 27/100\n",
            "1/1 [==============================] - 0s 10ms/step - loss: 9.9725 - mae: 9.9725\n",
            "Epoch 28/100\n",
            "1/1 [==============================] - 0s 11ms/step - loss: 9.9037 - mae: 9.9037\n",
            "Epoch 29/100\n",
            "1/1 [==============================] - 0s 11ms/step - loss: 9.8349 - mae: 9.8349\n",
            "Epoch 30/100\n",
            "1/1 [==============================] - 0s 10ms/step - loss: 9.7661 - mae: 9.7661\n",
            "Epoch 31/100\n",
            "1/1 [==============================] - 0s 10ms/step - loss: 9.6972 - mae: 9.6972\n",
            "Epoch 32/100\n",
            "1/1 [==============================] - 0s 10ms/step - loss: 9.6278 - mae: 9.6278\n",
            "Epoch 33/100\n",
            "1/1 [==============================] - 0s 11ms/step - loss: 9.5582 - mae: 9.5582\n",
            "Epoch 34/100\n",
            "1/1 [==============================] - 0s 11ms/step - loss: 9.4883 - mae: 9.4883\n",
            "Epoch 35/100\n",
            "1/1 [==============================] - 0s 11ms/step - loss: 9.4184 - mae: 9.4184\n",
            "Epoch 36/100\n",
            "1/1 [==============================] - 0s 10ms/step - loss: 9.3483 - mae: 9.3483\n",
            "Epoch 37/100\n",
            "1/1 [==============================] - 0s 10ms/step - loss: 9.2780 - mae: 9.2780\n",
            "Epoch 38/100\n",
            "1/1 [==============================] - 0s 11ms/step - loss: 9.2075 - mae: 9.2075\n",
            "Epoch 39/100\n",
            "1/1 [==============================] - 0s 10ms/step - loss: 9.1368 - mae: 9.1368\n",
            "Epoch 40/100\n",
            "1/1 [==============================] - 0s 10ms/step - loss: 9.0659 - mae: 9.0659\n",
            "Epoch 41/100\n",
            "1/1 [==============================] - 0s 10ms/step - loss: 8.9948 - mae: 8.9948\n",
            "Epoch 42/100\n",
            "1/1 [==============================] - 0s 10ms/step - loss: 8.9235 - mae: 8.9235\n",
            "Epoch 43/100\n",
            "1/1 [==============================] - 0s 10ms/step - loss: 8.8519 - mae: 8.8519\n",
            "Epoch 44/100\n",
            "1/1 [==============================] - 0s 10ms/step - loss: 8.7800 - mae: 8.7800\n",
            "Epoch 45/100\n",
            "1/1 [==============================] - 0s 10ms/step - loss: 8.7079 - mae: 8.7079\n",
            "Epoch 46/100\n",
            "1/1 [==============================] - 0s 10ms/step - loss: 8.6354 - mae: 8.6354\n",
            "Epoch 47/100\n",
            "1/1 [==============================] - 0s 10ms/step - loss: 8.5627 - mae: 8.5627\n",
            "Epoch 48/100\n",
            "1/1 [==============================] - 0s 10ms/step - loss: 8.4897 - mae: 8.4897\n",
            "Epoch 49/100\n",
            "1/1 [==============================] - 0s 10ms/step - loss: 8.4164 - mae: 8.4164\n",
            "Epoch 50/100\n",
            "1/1 [==============================] - 0s 10ms/step - loss: 8.3428 - mae: 8.3428\n",
            "Epoch 51/100\n",
            "1/1 [==============================] - 0s 10ms/step - loss: 8.2689 - mae: 8.2689\n",
            "Epoch 52/100\n",
            "1/1 [==============================] - 0s 11ms/step - loss: 8.1946 - mae: 8.1946\n",
            "Epoch 53/100\n",
            "1/1 [==============================] - 0s 10ms/step - loss: 8.1200 - mae: 8.1200\n",
            "Epoch 54/100\n",
            "1/1 [==============================] - 0s 10ms/step - loss: 8.0451 - mae: 8.0451\n",
            "Epoch 55/100\n",
            "1/1 [==============================] - 0s 10ms/step - loss: 7.9698 - mae: 7.9698\n",
            "Epoch 56/100\n",
            "1/1 [==============================] - 0s 10ms/step - loss: 7.8942 - mae: 7.8942\n",
            "Epoch 57/100\n",
            "1/1 [==============================] - 0s 10ms/step - loss: 7.8182 - mae: 7.8182\n",
            "Epoch 58/100\n",
            "1/1 [==============================] - 0s 10ms/step - loss: 7.7420 - mae: 7.7420\n",
            "Epoch 59/100\n",
            "1/1 [==============================] - 0s 10ms/step - loss: 7.6655 - mae: 7.6655\n",
            "Epoch 60/100\n",
            "1/1 [==============================] - 0s 10ms/step - loss: 7.5887 - mae: 7.5887\n",
            "Epoch 61/100\n",
            "1/1 [==============================] - 0s 11ms/step - loss: 7.5115 - mae: 7.5115\n",
            "Epoch 62/100\n",
            "1/1 [==============================] - 0s 12ms/step - loss: 7.4340 - mae: 7.4340\n",
            "Epoch 63/100\n",
            "1/1 [==============================] - 0s 10ms/step - loss: 7.3561 - mae: 7.3561\n",
            "Epoch 64/100\n",
            "1/1 [==============================] - 0s 10ms/step - loss: 7.2778 - mae: 7.2778\n",
            "Epoch 65/100\n",
            "1/1 [==============================] - 0s 15ms/step - loss: 7.1994 - mae: 7.1994\n",
            "Epoch 66/100\n",
            "1/1 [==============================] - 0s 11ms/step - loss: 7.1207 - mae: 7.1207\n",
            "Epoch 67/100\n",
            "1/1 [==============================] - 0s 10ms/step - loss: 7.0415 - mae: 7.0415\n",
            "Epoch 68/100\n",
            "1/1 [==============================] - 0s 10ms/step - loss: 6.9619 - mae: 6.9619\n",
            "Epoch 69/100\n",
            "1/1 [==============================] - 0s 10ms/step - loss: 6.8819 - mae: 6.8819\n",
            "Epoch 70/100\n",
            "1/1 [==============================] - 0s 11ms/step - loss: 6.8015 - mae: 6.8015\n",
            "Epoch 71/100\n",
            "1/1 [==============================] - 0s 11ms/step - loss: 6.7208 - mae: 6.7208\n",
            "Epoch 72/100\n",
            "1/1 [==============================] - 0s 11ms/step - loss: 6.6396 - mae: 6.6396\n",
            "Epoch 73/100\n",
            "1/1 [==============================] - 0s 11ms/step - loss: 6.5579 - mae: 6.5579\n",
            "Epoch 74/100\n",
            "1/1 [==============================] - 0s 11ms/step - loss: 6.4759 - mae: 6.4759\n",
            "Epoch 75/100\n",
            "1/1 [==============================] - 0s 10ms/step - loss: 6.3935 - mae: 6.3935\n",
            "Epoch 76/100\n",
            "1/1 [==============================] - 0s 10ms/step - loss: 6.3106 - mae: 6.3106\n",
            "Epoch 77/100\n",
            "1/1 [==============================] - 0s 9ms/step - loss: 6.2273 - mae: 6.2273\n",
            "Epoch 78/100\n",
            "1/1 [==============================] - 0s 10ms/step - loss: 6.1436 - mae: 6.1436\n",
            "Epoch 79/100\n",
            "1/1 [==============================] - 0s 9ms/step - loss: 6.0595 - mae: 6.0595\n",
            "Epoch 80/100\n",
            "1/1 [==============================] - 0s 10ms/step - loss: 5.9750 - mae: 5.9750\n",
            "Epoch 81/100\n",
            "1/1 [==============================] - 0s 10ms/step - loss: 5.8902 - mae: 5.8902\n",
            "Epoch 82/100\n",
            "1/1 [==============================] - 0s 9ms/step - loss: 5.8048 - mae: 5.8048\n",
            "Epoch 83/100\n",
            "1/1 [==============================] - 0s 9ms/step - loss: 5.7191 - mae: 5.7191\n",
            "Epoch 84/100\n",
            "1/1 [==============================] - 0s 10ms/step - loss: 5.6329 - mae: 5.6329\n",
            "Epoch 85/100\n",
            "1/1 [==============================] - 0s 10ms/step - loss: 5.5463 - mae: 5.5463\n",
            "Epoch 86/100\n",
            "1/1 [==============================] - 0s 10ms/step - loss: 5.4693 - mae: 5.4693\n",
            "Epoch 87/100\n",
            "1/1 [==============================] - 0s 9ms/step - loss: 5.3946 - mae: 5.3946\n",
            "Epoch 88/100\n",
            "1/1 [==============================] - 0s 9ms/step - loss: 5.3194 - mae: 5.3194\n",
            "Epoch 89/100\n",
            "1/1 [==============================] - 0s 10ms/step - loss: 5.2438 - mae: 5.2438\n",
            "Epoch 90/100\n",
            "1/1 [==============================] - 0s 12ms/step - loss: 5.1677 - mae: 5.1677\n",
            "Epoch 91/100\n",
            "1/1 [==============================] - 0s 9ms/step - loss: 5.0913 - mae: 5.0913\n",
            "Epoch 92/100\n",
            "1/1 [==============================] - 0s 11ms/step - loss: 5.0143 - mae: 5.0143\n",
            "Epoch 93/100\n",
            "1/1 [==============================] - 0s 10ms/step - loss: 4.9369 - mae: 4.9369\n",
            "Epoch 94/100\n",
            "1/1 [==============================] - 0s 10ms/step - loss: 4.8589 - mae: 4.8589\n",
            "Epoch 95/100\n",
            "1/1 [==============================] - 0s 9ms/step - loss: 4.7805 - mae: 4.7805\n",
            "Epoch 96/100\n",
            "1/1 [==============================] - 0s 11ms/step - loss: 4.7016 - mae: 4.7016\n",
            "Epoch 97/100\n",
            "1/1 [==============================] - 0s 10ms/step - loss: 4.6221 - mae: 4.6221\n",
            "Epoch 98/100\n",
            "1/1 [==============================] - 0s 9ms/step - loss: 4.5422 - mae: 4.5422\n",
            "Epoch 99/100\n",
            "1/1 [==============================] - 0s 8ms/step - loss: 4.4620 - mae: 4.4620\n",
            "Epoch 100/100\n",
            "1/1 [==============================] - 0s 9ms/step - loss: 4.3813 - mae: 4.3813\n"
          ]
        },
        {
          "output_type": "execute_result",
          "data": {
            "text/plain": [
              "<keras.callbacks.History at 0x7f4de906a6e0>"
            ]
          },
          "metadata": {},
          "execution_count": 20
        }
      ]
    },
    {
      "cell_type": "code",
      "source": [
        "#Predicting the values\n",
        "model.predict([27.0])"
      ],
      "metadata": {
        "colab": {
          "base_uri": "https://localhost:8080/"
        },
        "id": "hA7X0kBJHj63",
        "outputId": "d7da1f55-512b-445f-d5fa-f6e6461b21b8"
      },
      "execution_count": 21,
      "outputs": [
        {
          "output_type": "stream",
          "name": "stdout",
          "text": [
            "1/1 [==============================] - 0s 167ms/step\n"
          ]
        },
        {
          "output_type": "execute_result",
          "data": {
            "text/plain": [
              "array([[44.12897]], dtype=float32)"
            ]
          },
          "metadata": {},
          "execution_count": 21
        }
      ]
    },
    {
      "cell_type": "code",
      "source": [
        "#Improving Model more\n",
        "\n",
        "#1. Create the model (this time with an extra hidden layer with 100 hidden units)\n",
        "model=tf.keras.Sequential([\n",
        "    tf.keras.layers.Dense(50,activation=None),\n",
        "    tf.keras.layers.Dense(1)\n",
        "])\n",
        "#2. Compiling the model\n",
        "model.compile(loss=\"mae\",\n",
        "               optimizer=tf.keras.optimizers.Adam(learning_rate=0.01),\n",
        "               metrics=[\"mae\"])\n",
        "\n",
        "#3. Fit the model\n",
        "model.fit(tf.expand_dims(X,axis=-1),y,epochs=100)\n"
      ],
      "metadata": {
        "colab": {
          "base_uri": "https://localhost:8080/"
        },
        "id": "m6pGIUukA9ir",
        "outputId": "2d5c43d7-566d-4a99-8247-35f9e1ac005b"
      },
      "execution_count": 22,
      "outputs": [
        {
          "output_type": "stream",
          "name": "stdout",
          "text": [
            "Epoch 1/100\n",
            "1/1 [==============================] - 1s 983ms/step - loss: 13.4896 - mae: 13.4896\n",
            "Epoch 2/100\n",
            "1/1 [==============================] - 0s 10ms/step - loss: 12.8507 - mae: 12.8507\n",
            "Epoch 3/100\n",
            "1/1 [==============================] - 0s 14ms/step - loss: 12.2116 - mae: 12.2116\n",
            "Epoch 4/100\n",
            "1/1 [==============================] - 0s 11ms/step - loss: 11.5693 - mae: 11.5693\n",
            "Epoch 5/100\n",
            "1/1 [==============================] - 0s 10ms/step - loss: 10.9210 - mae: 10.9210\n",
            "Epoch 6/100\n",
            "1/1 [==============================] - 0s 10ms/step - loss: 10.2642 - mae: 10.2642\n",
            "Epoch 7/100\n",
            "1/1 [==============================] - 0s 10ms/step - loss: 9.5964 - mae: 9.5964\n",
            "Epoch 8/100\n",
            "1/1 [==============================] - 0s 10ms/step - loss: 8.9144 - mae: 8.9144\n",
            "Epoch 9/100\n",
            "1/1 [==============================] - 0s 14ms/step - loss: 8.2154 - mae: 8.2154\n",
            "Epoch 10/100\n",
            "1/1 [==============================] - 0s 10ms/step - loss: 7.4966 - mae: 7.4966\n",
            "Epoch 11/100\n",
            "1/1 [==============================] - 0s 9ms/step - loss: 6.8289 - mae: 6.8289\n",
            "Epoch 12/100\n",
            "1/1 [==============================] - 0s 10ms/step - loss: 6.8029 - mae: 6.8029\n",
            "Epoch 13/100\n",
            "1/1 [==============================] - 0s 12ms/step - loss: 7.0827 - mae: 7.0827\n",
            "Epoch 14/100\n",
            "1/1 [==============================] - 0s 11ms/step - loss: 7.2535 - mae: 7.2535\n",
            "Epoch 15/100\n",
            "1/1 [==============================] - 0s 10ms/step - loss: 7.3307 - mae: 7.3307\n",
            "Epoch 16/100\n",
            "1/1 [==============================] - 0s 9ms/step - loss: 7.3793 - mae: 7.3793\n",
            "Epoch 17/100\n",
            "1/1 [==============================] - 0s 10ms/step - loss: 7.2414 - mae: 7.2414\n",
            "Epoch 18/100\n",
            "1/1 [==============================] - 0s 12ms/step - loss: 7.0368 - mae: 7.0368\n",
            "Epoch 19/100\n",
            "1/1 [==============================] - 0s 10ms/step - loss: 6.8226 - mae: 6.8226\n",
            "Epoch 20/100\n",
            "1/1 [==============================] - 0s 13ms/step - loss: 6.5850 - mae: 6.5850\n",
            "Epoch 21/100\n",
            "1/1 [==============================] - 0s 10ms/step - loss: 6.3293 - mae: 6.3293\n",
            "Epoch 22/100\n",
            "1/1 [==============================] - 0s 10ms/step - loss: 6.1715 - mae: 6.1715\n",
            "Epoch 23/100\n",
            "1/1 [==============================] - 0s 10ms/step - loss: 6.1287 - mae: 6.1287\n",
            "Epoch 24/100\n",
            "1/1 [==============================] - 0s 10ms/step - loss: 6.1398 - mae: 6.1398\n",
            "Epoch 25/100\n",
            "1/1 [==============================] - 0s 10ms/step - loss: 6.1936 - mae: 6.1936\n",
            "Epoch 26/100\n",
            "1/1 [==============================] - 0s 10ms/step - loss: 6.1457 - mae: 6.1457\n",
            "Epoch 27/100\n",
            "1/1 [==============================] - 0s 10ms/step - loss: 6.0092 - mae: 6.0092\n",
            "Epoch 28/100\n",
            "1/1 [==============================] - 0s 10ms/step - loss: 5.7934 - mae: 5.7934\n",
            "Epoch 29/100\n",
            "1/1 [==============================] - 0s 10ms/step - loss: 5.6914 - mae: 5.6914\n",
            "Epoch 30/100\n",
            "1/1 [==============================] - 0s 12ms/step - loss: 5.5912 - mae: 5.5912\n",
            "Epoch 31/100\n",
            "1/1 [==============================] - 0s 11ms/step - loss: 5.5275 - mae: 5.5275\n",
            "Epoch 32/100\n",
            "1/1 [==============================] - 0s 11ms/step - loss: 5.5246 - mae: 5.5246\n",
            "Epoch 33/100\n",
            "1/1 [==============================] - 0s 13ms/step - loss: 5.4778 - mae: 5.4778\n",
            "Epoch 34/100\n",
            "1/1 [==============================] - 0s 11ms/step - loss: 5.3906 - mae: 5.3906\n",
            "Epoch 35/100\n",
            "1/1 [==============================] - 0s 10ms/step - loss: 5.2667 - mae: 5.2667\n",
            "Epoch 36/100\n",
            "1/1 [==============================] - 0s 10ms/step - loss: 5.1095 - mae: 5.1095\n",
            "Epoch 37/100\n",
            "1/1 [==============================] - 0s 10ms/step - loss: 4.9583 - mae: 4.9583\n",
            "Epoch 38/100\n",
            "1/1 [==============================] - 0s 10ms/step - loss: 4.8720 - mae: 4.8720\n",
            "Epoch 39/100\n",
            "1/1 [==============================] - 0s 11ms/step - loss: 4.7787 - mae: 4.7787\n",
            "Epoch 40/100\n",
            "1/1 [==============================] - 0s 10ms/step - loss: 4.6783 - mae: 4.6783\n",
            "Epoch 41/100\n",
            "1/1 [==============================] - 0s 16ms/step - loss: 4.5707 - mae: 4.5707\n",
            "Epoch 42/100\n",
            "1/1 [==============================] - 0s 13ms/step - loss: 4.4749 - mae: 4.4749\n",
            "Epoch 43/100\n",
            "1/1 [==============================] - 0s 13ms/step - loss: 4.3227 - mae: 4.3227\n",
            "Epoch 44/100\n",
            "1/1 [==============================] - 0s 11ms/step - loss: 4.1828 - mae: 4.1828\n",
            "Epoch 45/100\n",
            "1/1 [==============================] - 0s 12ms/step - loss: 4.0355 - mae: 4.0355\n",
            "Epoch 46/100\n",
            "1/1 [==============================] - 0s 11ms/step - loss: 3.8805 - mae: 3.8805\n",
            "Epoch 47/100\n",
            "1/1 [==============================] - 0s 12ms/step - loss: 3.7175 - mae: 3.7175\n",
            "Epoch 48/100\n",
            "1/1 [==============================] - 0s 14ms/step - loss: 3.6039 - mae: 3.6039\n",
            "Epoch 49/100\n",
            "1/1 [==============================] - 0s 13ms/step - loss: 3.4537 - mae: 3.4537\n",
            "Epoch 50/100\n",
            "1/1 [==============================] - 0s 11ms/step - loss: 3.2477 - mae: 3.2477\n",
            "Epoch 51/100\n",
            "1/1 [==============================] - 0s 10ms/step - loss: 3.0501 - mae: 3.0501\n",
            "Epoch 52/100\n",
            "1/1 [==============================] - 0s 11ms/step - loss: 2.8750 - mae: 2.8750\n",
            "Epoch 53/100\n",
            "1/1 [==============================] - 0s 10ms/step - loss: 2.7005 - mae: 2.7005\n",
            "Epoch 54/100\n",
            "1/1 [==============================] - 0s 12ms/step - loss: 2.4774 - mae: 2.4774\n",
            "Epoch 55/100\n",
            "1/1 [==============================] - 0s 10ms/step - loss: 2.2556 - mae: 2.2556\n",
            "Epoch 56/100\n",
            "1/1 [==============================] - 0s 12ms/step - loss: 2.0224 - mae: 2.0224\n",
            "Epoch 57/100\n",
            "1/1 [==============================] - 0s 10ms/step - loss: 1.8355 - mae: 1.8355\n",
            "Epoch 58/100\n",
            "1/1 [==============================] - 0s 10ms/step - loss: 1.5878 - mae: 1.5878\n",
            "Epoch 59/100\n",
            "1/1 [==============================] - 0s 11ms/step - loss: 1.2920 - mae: 1.2920\n",
            "Epoch 60/100\n",
            "1/1 [==============================] - 0s 10ms/step - loss: 1.0559 - mae: 1.0559\n",
            "Epoch 61/100\n",
            "1/1 [==============================] - 0s 11ms/step - loss: 0.7513 - mae: 0.7513\n",
            "Epoch 62/100\n",
            "1/1 [==============================] - 0s 11ms/step - loss: 0.5389 - mae: 0.5389\n",
            "Epoch 63/100\n",
            "1/1 [==============================] - 0s 11ms/step - loss: 0.1729 - mae: 0.1729\n",
            "Epoch 64/100\n",
            "1/1 [==============================] - 0s 11ms/step - loss: 0.4034 - mae: 0.4034\n",
            "Epoch 65/100\n",
            "1/1 [==============================] - 0s 11ms/step - loss: 0.4686 - mae: 0.4686\n",
            "Epoch 66/100\n",
            "1/1 [==============================] - 0s 11ms/step - loss: 0.7217 - mae: 0.7217\n",
            "Epoch 67/100\n",
            "1/1 [==============================] - 0s 10ms/step - loss: 0.9201 - mae: 0.9201\n",
            "Epoch 68/100\n",
            "1/1 [==============================] - 0s 10ms/step - loss: 0.8736 - mae: 0.8736\n",
            "Epoch 69/100\n",
            "1/1 [==============================] - 0s 11ms/step - loss: 0.8855 - mae: 0.8855\n",
            "Epoch 70/100\n",
            "1/1 [==============================] - 0s 10ms/step - loss: 1.0280 - mae: 1.0280\n",
            "Epoch 71/100\n",
            "1/1 [==============================] - 0s 10ms/step - loss: 0.9216 - mae: 0.9216\n",
            "Epoch 72/100\n",
            "1/1 [==============================] - 0s 11ms/step - loss: 0.6737 - mae: 0.6737\n",
            "Epoch 73/100\n",
            "1/1 [==============================] - 0s 11ms/step - loss: 0.7052 - mae: 0.7052\n",
            "Epoch 74/100\n",
            "1/1 [==============================] - 0s 12ms/step - loss: 0.5805 - mae: 0.5805\n",
            "Epoch 75/100\n",
            "1/1 [==============================] - 0s 11ms/step - loss: 0.2848 - mae: 0.2848\n",
            "Epoch 76/100\n",
            "1/1 [==============================] - 0s 10ms/step - loss: 0.2902 - mae: 0.2902\n",
            "Epoch 77/100\n",
            "1/1 [==============================] - 0s 11ms/step - loss: 0.1358 - mae: 0.1358\n",
            "Epoch 78/100\n",
            "1/1 [==============================] - 0s 10ms/step - loss: 0.3735 - mae: 0.3735\n",
            "Epoch 79/100\n",
            "1/1 [==============================] - 0s 11ms/step - loss: 0.4741 - mae: 0.4741\n",
            "Epoch 80/100\n",
            "1/1 [==============================] - 0s 10ms/step - loss: 0.3732 - mae: 0.3732\n",
            "Epoch 81/100\n",
            "1/1 [==============================] - 0s 10ms/step - loss: 0.5780 - mae: 0.5780\n",
            "Epoch 82/100\n",
            "1/1 [==============================] - 0s 11ms/step - loss: 0.6454 - mae: 0.6454\n",
            "Epoch 83/100\n",
            "1/1 [==============================] - 0s 11ms/step - loss: 0.5466 - mae: 0.5466\n",
            "Epoch 84/100\n",
            "1/1 [==============================] - 0s 11ms/step - loss: 0.3170 - mae: 0.3170\n",
            "Epoch 85/100\n",
            "1/1 [==============================] - 0s 13ms/step - loss: 0.4335 - mae: 0.4335\n",
            "Epoch 86/100\n",
            "1/1 [==============================] - 0s 13ms/step - loss: 0.3582 - mae: 0.3582\n",
            "Epoch 87/100\n",
            "1/1 [==============================] - 0s 11ms/step - loss: 0.0391 - mae: 0.0391\n",
            "Epoch 88/100\n",
            "1/1 [==============================] - 0s 11ms/step - loss: 0.1212 - mae: 0.1212\n",
            "Epoch 89/100\n",
            "1/1 [==============================] - 0s 11ms/step - loss: 0.2225 - mae: 0.2225\n",
            "Epoch 90/100\n",
            "1/1 [==============================] - 0s 10ms/step - loss: 0.2245 - mae: 0.2245\n",
            "Epoch 91/100\n",
            "1/1 [==============================] - 0s 11ms/step - loss: 0.3618 - mae: 0.3618\n",
            "Epoch 92/100\n",
            "1/1 [==============================] - 0s 11ms/step - loss: 0.3104 - mae: 0.3104\n",
            "Epoch 93/100\n",
            "1/1 [==============================] - 0s 11ms/step - loss: 0.2093 - mae: 0.2093\n",
            "Epoch 94/100\n",
            "1/1 [==============================] - 0s 10ms/step - loss: 0.1643 - mae: 0.1643\n",
            "Epoch 95/100\n",
            "1/1 [==============================] - 0s 12ms/step - loss: 0.0845 - mae: 0.0845\n",
            "Epoch 96/100\n",
            "1/1 [==============================] - 0s 11ms/step - loss: 0.1073 - mae: 0.1073\n",
            "Epoch 97/100\n",
            "1/1 [==============================] - 0s 10ms/step - loss: 0.1694 - mae: 0.1694\n",
            "Epoch 98/100\n",
            "1/1 [==============================] - 0s 11ms/step - loss: 0.1593 - mae: 0.1593\n",
            "Epoch 99/100\n",
            "1/1 [==============================] - 0s 11ms/step - loss: 0.1909 - mae: 0.1909\n",
            "Epoch 100/100\n",
            "1/1 [==============================] - 0s 10ms/step - loss: 0.1324 - mae: 0.1324\n"
          ]
        },
        {
          "output_type": "execute_result",
          "data": {
            "text/plain": [
              "<keras.callbacks.History at 0x7f4de88a1f60>"
            ]
          },
          "metadata": {},
          "execution_count": 22
        }
      ]
    },
    {
      "cell_type": "code",
      "source": [
        "#Predicting the values\n",
        "model.predict([27.0])"
      ],
      "metadata": {
        "colab": {
          "base_uri": "https://localhost:8080/"
        },
        "id": "_JsVImI1EY15",
        "outputId": "1da6003a-cdce-4af4-90af-1a1b28c24694"
      },
      "execution_count": 23,
      "outputs": [
        {
          "output_type": "stream",
          "name": "stdout",
          "text": [
            "1/1 [==============================] - 0s 100ms/step\n"
          ]
        },
        {
          "output_type": "execute_result",
          "data": {
            "text/plain": [
              "array([[37.33923]], dtype=float32)"
            ]
          },
          "metadata": {},
          "execution_count": 23
        }
      ]
    },
    {
      "cell_type": "markdown",
      "source": [
        "## Evaluating a Model\n",
        "In practice, a typical workflow, you'll go through when building a neural network is:\n",
        "\n",
        "```\n",
        "Build a model -> Fit the Model -> Evaluate the model -> Tweak the model -> Fit the model -> Evaluate the model\n",
        "```\n",
        "\n",
        "When we are evaluating the models, We should always visualise.\n",
        "\n",
        "It is good to visualize:-\n",
        "* The data\n",
        "* The model itself\n",
        "* The training of a model\n",
        "* The predictions of a model\n"
      ],
      "metadata": {
        "id": "N57PbjEWEp3G"
      }
    },
    {
      "cell_type": "code",
      "source": [
        "# Make a bigger dataset\n",
        "X=tf.range(-100,100,4)\n",
        "X"
      ],
      "metadata": {
        "colab": {
          "base_uri": "https://localhost:8080/"
        },
        "id": "Ro1H4WBdJ6Q0",
        "outputId": "7d2bdde5-a276-42a8-d0ef-72c4857d5229"
      },
      "execution_count": 24,
      "outputs": [
        {
          "output_type": "execute_result",
          "data": {
            "text/plain": [
              "<tf.Tensor: shape=(50,), dtype=int32, numpy=\n",
              "array([-100,  -96,  -92,  -88,  -84,  -80,  -76,  -72,  -68,  -64,  -60,\n",
              "        -56,  -52,  -48,  -44,  -40,  -36,  -32,  -28,  -24,  -20,  -16,\n",
              "        -12,   -8,   -4,    0,    4,    8,   12,   16,   20,   24,   28,\n",
              "         32,   36,   40,   44,   48,   52,   56,   60,   64,   68,   72,\n",
              "         76,   80,   84,   88,   92,   96], dtype=int32)>"
            ]
          },
          "metadata": {},
          "execution_count": 24
        }
      ]
    },
    {
      "cell_type": "code",
      "source": [
        "# Make labels for the dataset\n",
        "y=X+10\n",
        "y"
      ],
      "metadata": {
        "colab": {
          "base_uri": "https://localhost:8080/"
        },
        "id": "UBCaa4uvJ1ji",
        "outputId": "3038d38a-ab7a-40dd-9356-3cad1f1939d7"
      },
      "execution_count": 25,
      "outputs": [
        {
          "output_type": "execute_result",
          "data": {
            "text/plain": [
              "<tf.Tensor: shape=(50,), dtype=int32, numpy=\n",
              "array([-90, -86, -82, -78, -74, -70, -66, -62, -58, -54, -50, -46, -42,\n",
              "       -38, -34, -30, -26, -22, -18, -14, -10,  -6,  -2,   2,   6,  10,\n",
              "        14,  18,  22,  26,  30,  34,  38,  42,  46,  50,  54,  58,  62,\n",
              "        66,  70,  74,  78,  82,  86,  90,  94,  98, 102, 106], dtype=int32)>"
            ]
          },
          "metadata": {},
          "execution_count": 25
        }
      ]
    },
    {
      "cell_type": "code",
      "source": [
        "#Visualise the data\n",
        "plt.plot(X,y)"
      ],
      "metadata": {
        "colab": {
          "base_uri": "https://localhost:8080/",
          "height": 447
        },
        "id": "exWKtfLIHdYl",
        "outputId": "e57103d9-0754-4468-c59a-996abee413a0"
      },
      "execution_count": 26,
      "outputs": [
        {
          "output_type": "execute_result",
          "data": {
            "text/plain": [
              "[<matplotlib.lines.Line2D at 0x7f4de8389420>]"
            ]
          },
          "metadata": {},
          "execution_count": 26
        },
        {
          "output_type": "display_data",
          "data": {
            "text/plain": [
              "<Figure size 640x480 with 1 Axes>"
            ],
            "image/png": "[encoded data removed]"
          },
          "metadata": {}
        }
      ]
    },
    {
      "cell_type": "code",
      "source": [
        "plt.scatter(X,y)"
      ],
      "metadata": {
        "colab": {
          "base_uri": "https://localhost:8080/",
          "height": 447
        },
        "id": "noICSdwaKNZU",
        "outputId": "dca90036-ae32-45e7-ab55-880b5a402271"
      },
      "execution_count": 27,
      "outputs": [
        {
          "output_type": "execute_result",
          "data": {
            "text/plain": [
              "<matplotlib.collections.PathCollection at 0x7f4de8403430>"
            ]
          },
          "metadata": {},
          "execution_count": 27
        },
        {
          "output_type": "display_data",
          "data": {
            "text/plain": [
              "<Figure size 640x480 with 1 Axes>"
            ],
            "image/png": "[encoded data removed]"
          },
          "metadata": {}
        }
      ]
    },
    {
      "cell_type": "markdown",
      "source": [
        "### The 3 sets....\n",
        "* **Training Set** - The model learns from this data , typically 7-80% of the total data.\n",
        "* **Validation Set** - The models gets tunes on this data, which is typically 10-15% of the data available\n",
        "* **Test Set** - The model gets evaluated on this data, which is typically 10-15% of the data available.\n",
        "\n"
      ],
      "metadata": {
        "id": "iTSYlhKLKTMU"
      }
    },
    {
      "cell_type": "code",
      "source": [
        "len(X)"
      ],
      "metadata": {
        "colab": {
          "base_uri": "https://localhost:8080/"
        },
        "id": "bI1atFPULWEw",
        "outputId": "17c03378-97a7-4726-e250-d1cb35da82c6"
      },
      "execution_count": 28,
      "outputs": [
        {
          "output_type": "execute_result",
          "data": {
            "text/plain": [
              "50"
            ]
          },
          "metadata": {},
          "execution_count": 28
        }
      ]
    },
    {
      "cell_type": "code",
      "source": [
        "#Train Test Split\n",
        "X_train=X[:40] #first 40 are training samples (80% of the data)\n",
        "y_train=y[:40]\n",
        "\n",
        "X_test=X[40:] #last 10 are testing samples (20% of the data)\n",
        "y_test=y[40:]\n",
        "\n",
        "len(X_train),len(X_test), len(y_train), len(y_test)"
      ],
      "metadata": {
        "colab": {
          "base_uri": "https://localhost:8080/"
        },
        "id": "4QxMoK55N8ZB",
        "outputId": "b76c4247-4725-4ac9-d005-02133c674851"
      },
      "execution_count": 29,
      "outputs": [
        {
          "output_type": "execute_result",
          "data": {
            "text/plain": [
              "(40, 10, 40, 10)"
            ]
          },
          "metadata": {},
          "execution_count": 29
        }
      ]
    },
    {
      "cell_type": "markdown",
      "source": [
        "### Visualising Training and Testing Data"
      ],
      "metadata": {
        "id": "6B_e_T2MOe83"
      }
    },
    {
      "cell_type": "code",
      "source": [
        "plt.figure(figsize=(10,7))\n",
        "\n",
        "# Plot training data in blue\n",
        "plt.scatter(X_train,y_train,c=\"b\",label=\"Training Data\")\n",
        "\n",
        "# Plot the testing data in green\n",
        "plt.scatter(X_test,y_test,c=\"g\",label=\"Test Data\")"
      ],
      "metadata": {
        "colab": {
          "base_uri": "https://localhost:8080/",
          "height": 474
        },
        "id": "EMdnIEZ4Orjw",
        "outputId": "1f08ae07-783d-42b7-8f9d-527e438cd702"
      },
      "execution_count": 30,
      "outputs": [
        {
          "output_type": "execute_result",
          "data": {
            "text/plain": [
              "<matplotlib.collections.PathCollection at 0x7f4de829ae00>"
            ]
          },
          "metadata": {},
          "execution_count": 30
        },
        {
          "output_type": "display_data",
          "data": {
            "text/plain": [
              "<Figure size 1000x700 with 1 Axes>"
            ],
            "image/png": "[encoded data removed]"
          },
          "metadata": {}
        }
      ]
    },
    {
      "cell_type": "markdown",
      "source": [
        "### Building Neural Network for the new Data"
      ],
      "metadata": {
        "id": "3fC8tS8POqqD"
      }
    },
    {
      "cell_type": "code",
      "source": [
        "#1. Create a model\n",
        "model=tf.keras.Sequential([\n",
        "    tf.keras.layers.Dense(1)\n",
        "])\n",
        "\n",
        "#2. Compile the model\n",
        "model.compile(loss=tf.keras.losses.mae,\n",
        "               optimizer=tf.keras.optimizers.SGD(),\n",
        "               metrics=[\"mae\"])\n",
        "\n",
        "#3. Fit the model\n",
        "#model.fit(tf.expand_dims(X_train,axis=-1),y_train,epochs=100)"
      ],
      "metadata": {
        "id": "_tNNB1fQPXw0"
      },
      "execution_count": 31,
      "outputs": []
    },
    {
      "cell_type": "markdown",
      "source": [
        "### Visualising the new Neural Network Model\n"
      ],
      "metadata": {
        "id": "FZPicn43QM8A"
      }
    },
    {
      "cell_type": "code",
      "source": [
        "#model.summary()"
      ],
      "metadata": {
        "id": "3mMXUETxQTtw"
      },
      "execution_count": 33,
      "outputs": []
    },
    {
      "cell_type": "code",
      "source": [
        "tf.random.set_seed(42)\n",
        "\n",
        "#1. Creating the model\n",
        "model=tf.keras.Sequential([\n",
        "    tf.keras.layers.Dense(100,input_shape=[1])\n",
        "])\n",
        "\n",
        "#2. Compile the model\n",
        "model.compile(loss=tf.keras.losses.mae,\n",
        "              optimizer=tf.keras.optimizers.SGD(),\n",
        "              metrics=[\"mae\"])"
      ],
      "metadata": {
        "id": "8Ft5gns1Qg3S"
      },
      "execution_count": 34,
      "outputs": []
    },
    {
      "cell_type": "code",
      "source": [
        "model.summary()"
      ],
      "metadata": {
        "id": "z7uvhY6SRBxE",
        "outputId": "17770354-4e0d-4c68-824d-d52e19de8a5c",
        "colab": {
          "base_uri": "https://localhost:8080/"
        }
      },
      "execution_count": 35,
      "outputs": [
        {
          "output_type": "stream",
          "name": "stdout",
          "text": [
            "Model: \"sequential_5\"\n",
            "_________________________________________________________________\n",
            " Layer (type)                Output Shape              Param #   \n",
            "=================================================================\n",
            " dense_7 (Dense)             (None, 100)               200       \n",
            "                                                                 \n",
            "=================================================================\n",
            "Total params: 200\n",
            "Trainable params: 200\n",
            "Non-trainable params: 0\n",
            "_________________________________________________________________\n"
          ]
        }
      ]
    },
    {
      "cell_type": "markdown",
      "source": [
        "* Total params - total number of parameters in the model\n",
        "* Trainable Parameteres - These are the parameters (patterns) the model can update as it trains.\n",
        "* Non-trainable params - These parameters aren't updated during training ( this is typical when you bring in already learn patterns or parameters from other models during **transfer learning**\n",
        "\n",
        "\n",
        "**Resource:** For a more in-depth overview of the trainable parameters within a layer, check out MIT's introduction to deep learning video.\n"
      ],
      "metadata": {
        "id": "QE_B7126vQp8"
      }
    },
    {
      "cell_type": "code",
      "source": [
        "# Fitting the model\n",
        "model.fit(X_train,y_train,epochs=100)"
      ],
      "metadata": {
        "colab": {
          "base_uri": "https://localhost:8080/"
        },
        "id": "DzMjnftIxPpp",
        "outputId": "6f427d62-c424-47ee-ff6e-abb0e8e47705"
      },
      "execution_count": 36,
      "outputs": [
        {
          "output_type": "stream",
          "name": "stdout",
          "text": [
            "Epoch 1/100\n",
            "2/2 [==============================] - 0s 11ms/step - loss: 40.3510 - mae: 40.3510\n",
            "Epoch 2/100\n",
            "2/2 [==============================] - 0s 10ms/step - loss: 40.0037 - mae: 40.0037\n",
            "Epoch 3/100\n",
            "2/2 [==============================] - 0s 10ms/step - loss: 39.6341 - mae: 39.6341\n",
            "Epoch 4/100\n",
            "2/2 [==============================] - 0s 8ms/step - loss: 39.2805 - mae: 39.2805\n",
            "Epoch 5/100\n",
            "2/2 [==============================] - 0s 8ms/step - loss: 38.9240 - mae: 38.9240\n",
            "Epoch 6/100\n",
            "2/2 [==============================] - 0s 11ms/step - loss: 38.5871 - mae: 38.5871\n",
            "Epoch 7/100\n",
            "2/2 [==============================] - 0s 8ms/step - loss: 38.2534 - mae: 38.2534\n",
            "Epoch 8/100\n",
            "2/2 [==============================] - 0s 8ms/step - loss: 37.8938 - mae: 37.8938\n",
            "Epoch 9/100\n",
            "2/2 [==============================] - 0s 7ms/step - loss: 37.4869 - mae: 37.4869\n",
            "Epoch 10/100\n",
            "2/2 [==============================] - 0s 7ms/step - loss: 37.1207 - mae: 37.1207\n",
            "Epoch 11/100\n",
            "2/2 [==============================] - 0s 8ms/step - loss: 36.7815 - mae: 36.7815\n",
            "Epoch 12/100\n",
            "2/2 [==============================] - 0s 7ms/step - loss: 36.3967 - mae: 36.3967\n",
            "Epoch 13/100\n",
            "2/2 [==============================] - 0s 7ms/step - loss: 36.0220 - mae: 36.0220\n",
            "Epoch 14/100\n",
            "2/2 [==============================] - 0s 7ms/step - loss: 35.6175 - mae: 35.6175\n",
            "Epoch 15/100\n",
            "2/2 [==============================] - 0s 11ms/step - loss: 35.2490 - mae: 35.2490\n",
            "Epoch 16/100\n",
            "2/2 [==============================] - 0s 8ms/step - loss: 34.9084 - mae: 34.9084\n",
            "Epoch 17/100\n",
            "2/2 [==============================] - 0s 9ms/step - loss: 34.5455 - mae: 34.5455\n",
            "Epoch 18/100\n",
            "2/2 [==============================] - 0s 7ms/step - loss: 34.1743 - mae: 34.1743\n",
            "Epoch 19/100\n",
            "2/2 [==============================] - 0s 7ms/step - loss: 33.8178 - mae: 33.8178\n",
            "Epoch 20/100\n",
            "2/2 [==============================] - 0s 7ms/step - loss: 33.4807 - mae: 33.4807\n",
            "Epoch 21/100\n",
            "2/2 [==============================] - 0s 9ms/step - loss: 33.1176 - mae: 33.1176\n",
            "Epoch 22/100\n",
            "2/2 [==============================] - 0s 9ms/step - loss: 32.7614 - mae: 32.7614\n",
            "Epoch 23/100\n",
            "2/2 [==============================] - 0s 8ms/step - loss: 32.4398 - mae: 32.4398\n",
            "Epoch 24/100\n",
            "2/2 [==============================] - 0s 10ms/step - loss: 32.1133 - mae: 32.1133\n",
            "Epoch 25/100\n",
            "2/2 [==============================] - 0s 9ms/step - loss: 31.7516 - mae: 31.7516\n",
            "Epoch 26/100\n",
            "2/2 [==============================] - 0s 8ms/step - loss: 31.3749 - mae: 31.3749\n",
            "Epoch 27/100\n",
            "2/2 [==============================] - 0s 8ms/step - loss: 31.0132 - mae: 31.0132\n",
            "Epoch 28/100\n",
            "2/2 [==============================] - 0s 8ms/step - loss: 30.6327 - mae: 30.6327\n",
            "Epoch 29/100\n",
            "2/2 [==============================] - 0s 7ms/step - loss: 30.2758 - mae: 30.2758\n",
            "Epoch 30/100\n",
            "2/2 [==============================] - 0s 12ms/step - loss: 29.8547 - mae: 29.8547\n",
            "Epoch 31/100\n",
            "2/2 [==============================] - 0s 8ms/step - loss: 29.4252 - mae: 29.4252\n",
            "Epoch 32/100\n",
            "2/2 [==============================] - 0s 8ms/step - loss: 29.0830 - mae: 29.0830\n",
            "Epoch 33/100\n",
            "2/2 [==============================] - 0s 8ms/step - loss: 28.7410 - mae: 28.7410\n",
            "Epoch 34/100\n",
            "2/2 [==============================] - 0s 8ms/step - loss: 28.3959 - mae: 28.3959\n",
            "Epoch 35/100\n",
            "2/2 [==============================] - 0s 8ms/step - loss: 28.0698 - mae: 28.0698\n",
            "Epoch 36/100\n",
            "2/2 [==============================] - 0s 6ms/step - loss: 27.7209 - mae: 27.7209\n",
            "Epoch 37/100\n",
            "2/2 [==============================] - 0s 7ms/step - loss: 27.4119 - mae: 27.4119\n",
            "Epoch 38/100\n",
            "2/2 [==============================] - 0s 7ms/step - loss: 27.0705 - mae: 27.0705\n",
            "Epoch 39/100\n",
            "2/2 [==============================] - 0s 7ms/step - loss: 26.7327 - mae: 26.7327\n",
            "Epoch 40/100\n",
            "2/2 [==============================] - 0s 7ms/step - loss: 26.3960 - mae: 26.3960\n",
            "Epoch 41/100\n",
            "2/2 [==============================] - 0s 9ms/step - loss: 26.0626 - mae: 26.0626\n",
            "Epoch 42/100\n",
            "2/2 [==============================] - 0s 10ms/step - loss: 25.7364 - mae: 25.7364\n",
            "Epoch 43/100\n",
            "2/2 [==============================] - 0s 9ms/step - loss: 25.4141 - mae: 25.4141\n",
            "Epoch 44/100\n",
            "2/2 [==============================] - 0s 8ms/step - loss: 25.0354 - mae: 25.0354\n",
            "Epoch 45/100\n",
            "2/2 [==============================] - 0s 8ms/step - loss: 24.7000 - mae: 24.7000\n",
            "Epoch 46/100\n",
            "2/2 [==============================] - 0s 7ms/step - loss: 24.3797 - mae: 24.3797\n",
            "Epoch 47/100\n",
            "2/2 [==============================] - 0s 7ms/step - loss: 24.0979 - mae: 24.0979\n",
            "Epoch 48/100\n",
            "2/2 [==============================] - 0s 8ms/step - loss: 23.7868 - mae: 23.7868\n",
            "Epoch 49/100\n",
            "2/2 [==============================] - 0s 9ms/step - loss: 23.4784 - mae: 23.4784\n",
            "Epoch 50/100\n",
            "2/2 [==============================] - 0s 8ms/step - loss: 23.1664 - mae: 23.1664\n",
            "Epoch 51/100\n",
            "2/2 [==============================] - 0s 7ms/step - loss: 22.8464 - mae: 22.8464\n",
            "Epoch 52/100\n",
            "2/2 [==============================] - 0s 9ms/step - loss: 22.4640 - mae: 22.4640\n",
            "Epoch 53/100\n",
            "2/2 [==============================] - 0s 8ms/step - loss: 22.1091 - mae: 22.1091\n",
            "Epoch 54/100\n",
            "2/2 [==============================] - 0s 8ms/step - loss: 21.7201 - mae: 21.7201\n",
            "Epoch 55/100\n",
            "2/2 [==============================] - 0s 9ms/step - loss: 21.3509 - mae: 21.3509\n",
            "Epoch 56/100\n",
            "2/2 [==============================] - 0s 9ms/step - loss: 21.0322 - mae: 21.0322\n",
            "Epoch 57/100\n",
            "2/2 [==============================] - 0s 8ms/step - loss: 20.7145 - mae: 20.7145\n",
            "Epoch 58/100\n",
            "2/2 [==============================] - 0s 15ms/step - loss: 20.4226 - mae: 20.4226\n",
            "Epoch 59/100\n",
            "2/2 [==============================] - 0s 6ms/step - loss: 20.1234 - mae: 20.1234\n",
            "Epoch 60/100\n",
            "2/2 [==============================] - 0s 13ms/step - loss: 19.8189 - mae: 19.8189\n",
            "Epoch 61/100\n",
            "2/2 [==============================] - 0s 9ms/step - loss: 19.5080 - mae: 19.5080\n",
            "Epoch 62/100\n",
            "2/2 [==============================] - 0s 8ms/step - loss: 19.1881 - mae: 19.1881\n",
            "Epoch 63/100\n",
            "2/2 [==============================] - 0s 7ms/step - loss: 18.8849 - mae: 18.8849\n",
            "Epoch 64/100\n",
            "2/2 [==============================] - 0s 7ms/step - loss: 18.5713 - mae: 18.5713\n",
            "Epoch 65/100\n",
            "2/2 [==============================] - 0s 8ms/step - loss: 18.2553 - mae: 18.2553\n",
            "Epoch 66/100\n",
            "2/2 [==============================] - 0s 8ms/step - loss: 17.9373 - mae: 17.9373\n",
            "Epoch 67/100\n",
            "2/2 [==============================] - 0s 9ms/step - loss: 17.6366 - mae: 17.6366\n",
            "Epoch 68/100\n",
            "2/2 [==============================] - 0s 8ms/step - loss: 17.3474 - mae: 17.3474\n",
            "Epoch 69/100\n",
            "2/2 [==============================] - 0s 7ms/step - loss: 17.0566 - mae: 17.0566\n",
            "Epoch 70/100\n",
            "2/2 [==============================] - 0s 8ms/step - loss: 16.7841 - mae: 16.7841\n",
            "Epoch 71/100\n",
            "2/2 [==============================] - 0s 8ms/step - loss: 16.4935 - mae: 16.4935\n",
            "Epoch 72/100\n",
            "2/2 [==============================] - 0s 8ms/step - loss: 16.2045 - mae: 16.2045\n",
            "Epoch 73/100\n",
            "2/2 [==============================] - 0s 8ms/step - loss: 15.9122 - mae: 15.9122\n",
            "Epoch 74/100\n",
            "2/2 [==============================] - 0s 7ms/step - loss: 15.5851 - mae: 15.5851\n",
            "Epoch 75/100\n",
            "2/2 [==============================] - 0s 8ms/step - loss: 15.3247 - mae: 15.3247\n",
            "Epoch 76/100\n",
            "2/2 [==============================] - 0s 8ms/step - loss: 15.0457 - mae: 15.0457\n",
            "Epoch 77/100\n",
            "2/2 [==============================] - 0s 7ms/step - loss: 14.7655 - mae: 14.7655\n",
            "Epoch 78/100\n",
            "2/2 [==============================] - 0s 8ms/step - loss: 14.5016 - mae: 14.5016\n",
            "Epoch 79/100\n",
            "2/2 [==============================] - 0s 8ms/step - loss: 14.2098 - mae: 14.2098\n",
            "Epoch 80/100\n",
            "2/2 [==============================] - 0s 8ms/step - loss: 13.9155 - mae: 13.9155\n",
            "Epoch 81/100\n",
            "2/2 [==============================] - 0s 8ms/step - loss: 13.6842 - mae: 13.6842\n",
            "Epoch 82/100\n",
            "2/2 [==============================] - 0s 8ms/step - loss: 13.4975 - mae: 13.4975\n",
            "Epoch 83/100\n",
            "2/2 [==============================] - 0s 11ms/step - loss: 13.2900 - mae: 13.2900\n",
            "Epoch 84/100\n",
            "2/2 [==============================] - 0s 10ms/step - loss: 13.0884 - mae: 13.0884\n",
            "Epoch 85/100\n",
            "2/2 [==============================] - 0s 7ms/step - loss: 12.8130 - mae: 12.8130\n",
            "Epoch 86/100\n",
            "2/2 [==============================] - 0s 7ms/step - loss: 12.5650 - mae: 12.5650\n",
            "Epoch 87/100\n",
            "2/2 [==============================] - 0s 7ms/step - loss: 12.3231 - mae: 12.3231\n",
            "Epoch 88/100\n",
            "2/2 [==============================] - 0s 8ms/step - loss: 12.0805 - mae: 12.0805\n",
            "Epoch 89/100\n",
            "2/2 [==============================] - 0s 8ms/step - loss: 11.8702 - mae: 11.8702\n",
            "Epoch 90/100\n",
            "2/2 [==============================] - 0s 8ms/step - loss: 11.6516 - mae: 11.6516\n",
            "Epoch 91/100\n",
            "2/2 [==============================] - 0s 10ms/step - loss: 11.4514 - mae: 11.4514\n",
            "Epoch 92/100\n",
            "2/2 [==============================] - 0s 8ms/step - loss: 11.2421 - mae: 11.2421\n",
            "Epoch 93/100\n",
            "2/2 [==============================] - 0s 9ms/step - loss: 11.0665 - mae: 11.0665\n",
            "Epoch 94/100\n",
            "2/2 [==============================] - 0s 8ms/step - loss: 10.8981 - mae: 10.8981\n",
            "Epoch 95/100\n",
            "2/2 [==============================] - 0s 8ms/step - loss: 10.7223 - mae: 10.7223\n",
            "Epoch 96/100\n",
            "2/2 [==============================] - 0s 9ms/step - loss: 10.5636 - mae: 10.5636\n",
            "Epoch 97/100\n",
            "2/2 [==============================] - 0s 9ms/step - loss: 10.3812 - mae: 10.3812\n",
            "Epoch 98/100\n",
            "2/2 [==============================] - 0s 8ms/step - loss: 10.2446 - mae: 10.2446\n",
            "Epoch 99/100\n",
            "2/2 [==============================] - 0s 10ms/step - loss: 10.0934 - mae: 10.0934\n",
            "Epoch 100/100\n",
            "2/2 [==============================] - 0s 11ms/step - loss: 9.9299 - mae: 9.9299\n"
          ]
        },
        {
          "output_type": "execute_result",
          "data": {
            "text/plain": [
              "<keras.callbacks.History at 0x7f4de811af80>"
            ]
          },
          "metadata": {},
          "execution_count": 36
        }
      ]
    },
    {
      "cell_type": "code",
      "source": [
        "#Get a summary of our model\n",
        "model.summary()"
      ],
      "metadata": {
        "colab": {
          "base_uri": "https://localhost:8080/"
        },
        "id": "lwSBH8yUwLV8",
        "outputId": "e210f36e-3b93-483c-f6e1-55985918eba3"
      },
      "execution_count": 37,
      "outputs": [
        {
          "output_type": "stream",
          "name": "stdout",
          "text": [
            "Model: \"sequential_5\"\n",
            "_________________________________________________________________\n",
            " Layer (type)                Output Shape              Param #   \n",
            "=================================================================\n",
            " dense_7 (Dense)             (None, 100)               200       \n",
            "                                                                 \n",
            "=================================================================\n",
            "Total params: 200\n",
            "Trainable params: 200\n",
            "Non-trainable params: 0\n",
            "_________________________________________________________________\n"
          ]
        }
      ]
    },
    {
      "cell_type": "code",
      "source": [
        "from tensorflow.keras.utils import plot_model\n",
        "plot_model(model=model,show_shapes=True)"
      ],
      "metadata": {
        "colab": {
          "base_uri": "https://localhost:8080/",
          "height": 201
        },
        "id": "dWQ216VJ1tbq",
        "outputId": "38dc64b1-0663-49ca-9618-5bd3bb5e8ed6"
      },
      "execution_count": 38,
      "outputs": [
        {
          "output_type": "execute_result",
          "data": {
            "image/png": "[encoded data removed]",
            "text/plain": [
              "<IPython.core.display.Image object>"
            ]
          },
          "metadata": {},
          "execution_count": 38
        }
      ]
    },
    {
      "cell_type": "code",
      "source": [
        "#Creating another with output layer specified\n",
        "tf.random.set_seed(42)\n",
        "\n",
        "#1. Creating the model\n",
        "model=tf.keras.Sequential([\n",
        "    tf.keras.layers.Dense(20,input_shape=[1]),\n",
        "    tf.keras.layers.Dense(1,name=\"output_layer\")\n",
        "],name=\"ModelTry1\")\n",
        "\n",
        "#2. Compile the model\n",
        "model.compile(loss=tf.keras.losses.mae,\n",
        "              optimizer=tf.keras.optimizers.SGD(),\n",
        "              metrics=[\"mae\"])\n",
        "#3. Fitting the model\n",
        "model.fit(X_train,y_train,epochs=100,verbose=0)"
      ],
      "metadata": {
        "colab": {
          "base_uri": "https://localhost:8080/"
        },
        "id": "Ltc8oNiQ2FNo",
        "outputId": "8ad5a0d3-d6c0-41df-a27d-11ccd5dad799"
      },
      "execution_count": 39,
      "outputs": [
        {
          "output_type": "execute_result",
          "data": {
            "text/plain": [
              "<keras.callbacks.History at 0x7f4de811beb0>"
            ]
          },
          "metadata": {},
          "execution_count": 39
        }
      ]
    },
    {
      "cell_type": "code",
      "source": [
        "model.summary()"
      ],
      "metadata": {
        "colab": {
          "base_uri": "https://localhost:8080/"
        },
        "id": "8RNvPyrv2gML",
        "outputId": "74a12a62-1650-41f5-b337-75bd1124620f"
      },
      "execution_count": 40,
      "outputs": [
        {
          "output_type": "stream",
          "name": "stdout",
          "text": [
            "Model: \"ModelTry1\"\n",
            "_________________________________________________________________\n",
            " Layer (type)                Output Shape              Param #   \n",
            "=================================================================\n",
            " dense_8 (Dense)             (None, 20)                40        \n",
            "                                                                 \n",
            " output_layer (Dense)        (None, 1)                 21        \n",
            "                                                                 \n",
            "=================================================================\n",
            "Total params: 61\n",
            "Trainable params: 61\n",
            "Non-trainable params: 0\n",
            "_________________________________________________________________\n"
          ]
        }
      ]
    },
    {
      "cell_type": "code",
      "source": [
        "plot_model(model,show_shapes=True)"
      ],
      "metadata": {
        "colab": {
          "base_uri": "https://localhost:8080/",
          "height": 312
        },
        "id": "V8J4rhQm2inZ",
        "outputId": "291374a5-b66e-4771-a665-4135ff50a10b"
      },
      "execution_count": 41,
      "outputs": [
        {
          "output_type": "execute_result",
          "data": {
            "image/png": "[encoded data removed]",
            "text/plain": [
              "<IPython.core.display.Image object>"
            ]
          },
          "metadata": {},
          "execution_count": 41
        }
      ]
    },
    {
      "cell_type": "markdown",
      "source": [
        "### Visualising our Model's Prediction"
      ],
      "metadata": {
        "id": "hDBpD-pm29_J"
      }
    },
    {
      "cell_type": "code",
      "source": [
        "#Making prediction\n",
        "y_pred=model.predict(X_test)\n",
        "y_pred"
      ],
      "metadata": {
        "colab": {
          "base_uri": "https://localhost:8080/"
        },
        "id": "Uv_EUL2M3G12",
        "outputId": "fe12a385-aa48-4032-d16a-43e7081baa55"
      },
      "execution_count": 42,
      "outputs": [
        {
          "output_type": "stream",
          "name": "stderr",
          "text": [
            "WARNING:tensorflow:5 out of the last 5 calls to <function Model.make_predict_function.<locals>.predict_function at 0x7f4de0f75480> triggered tf.function retracing. Tracing is expensive and the excessive number of tracings could be due to (1) creating @tf.function repeatedly in a loop, (2) passing tensors with different shapes, (3) passing Python objects instead of tensors. For (1), please define your @tf.function outside of the loop. For (2), @tf.function has reduce_retracing=True option that can avoid unnecessary retracing. For (3), please refer to https://www.tensorflow.org/guide/function#controlling_retracing and https://www.tensorflow.org/api_docs/python/tf/function for  more details.\n"
          ]
        },
        {
          "output_type": "stream",
          "name": "stdout",
          "text": [
            "1/1 [==============================] - 0s 60ms/step\n"
          ]
        },
        {
          "output_type": "execute_result",
          "data": {
            "text/plain": [
              "array([[ 76.5421  ],\n",
              "       [ 81.52796 ],\n",
              "       [ 86.51381 ],\n",
              "       [ 91.49966 ],\n",
              "       [ 96.48551 ],\n",
              "       [101.47137 ],\n",
              "       [106.457214],\n",
              "       [111.44307 ],\n",
              "       [116.42892 ],\n",
              "       [121.41478 ]], dtype=float32)"
            ]
          },
          "metadata": {},
          "execution_count": 42
        }
      ]
    },
    {
      "cell_type": "code",
      "source": [
        "#Plotting Function\n",
        "def plot_predictions(train_data=X_train,\n",
        "                     train_label=y_train,\n",
        "                     test_data=X_test,\n",
        "                     test_label=y_test,\n",
        "                     predictions=y_pred):\n",
        "  plt.figure(figsize=(10,7))\n",
        "  #Plot training data in blue\n",
        "  plt.scatter(train_data,train_label,c=\"b\",label=\"Training data\")\n",
        "\n",
        "  #Plot test data in green\n",
        "  plt.scatter(test_data,test_label,c=\"g\",label=\"Testing data\")\n",
        "\n",
        "  #Plot model's prediction in red\n",
        "  plt.scatter(test_data,predictions,c=\"r\",label=\"Predictions\")\n",
        "  #Showing the legend\n",
        "  plt.legend();\n"
      ],
      "metadata": {
        "id": "Umrqvge54TrF"
      },
      "execution_count": 43,
      "outputs": []
    },
    {
      "cell_type": "code",
      "source": [
        "plot_predictions()"
      ],
      "metadata": {
        "colab": {
          "base_uri": "https://localhost:8080/",
          "height": 452
        },
        "id": "91L4SyRR5kbZ",
        "outputId": "23f89a35-c75b-4201-b534-9a8c43733c08"
      },
      "execution_count": 44,
      "outputs": [
        {
          "output_type": "display_data",
          "data": {
            "text/plain": [
              "<Figure size 1000x700 with 1 Axes>"
            ],
            "image/png": "[encoded data removed]"
          },
          "metadata": {}
        }
      ]
    },
    {
      "cell_type": "markdown",
      "source": [
        "### Evaluating Model Prediction using Regression Metrics\n",
        "\n",
        "Some of the main metrics that we will use for evaluating our model are:\n",
        "* MAE = Mean Absolute Error\n",
        "* MSE = Mean Square Error\n",
        "* Huber = Combination of MAE and MSE, Less sensitive to outliers than MSE\n",
        "\n",
        "**Note:- You need to have Y_pred as a tensor and with the same shape as Y_test so that you can compare them properly**"
      ],
      "metadata": {
        "id": "NvFpg3Yb61SV"
      }
    },
    {
      "cell_type": "code",
      "source": [
        "#Evaluate the model on the test data\n",
        "model.evaluate(X_test,y_test)\n",
        "#[loss,mae] as defined in the model compilation"
      ],
      "metadata": {
        "colab": {
          "base_uri": "https://localhost:8080/"
        },
        "id": "yAGJ0Xbj8JdT",
        "outputId": "2932264d-de99-4768-92f3-31b0f25fefa1"
      },
      "execution_count": 45,
      "outputs": [
        {
          "output_type": "stream",
          "name": "stdout",
          "text": [
            "1/1 [==============================] - 0s 149ms/step - loss: 10.9784 - mae: 10.9784\n"
          ]
        },
        {
          "output_type": "execute_result",
          "data": {
            "text/plain": [
              "[10.978437423706055, 10.978437423706055]"
            ]
          },
          "metadata": {},
          "execution_count": 45
        }
      ]
    },
    {
      "cell_type": "code",
      "source": [
        "# Calculate Mean Absolute Error\n",
        "mae=tf.metrics.mean_absolute_error(y_test,tf.constant(y_pred,shape=(10,)))\n",
        "mae"
      ],
      "metadata": {
        "id": "-dv8NY7z7ccU",
        "colab": {
          "base_uri": "https://localhost:8080/"
        },
        "outputId": "5be15cf0-ebc0-4a02-c504-a3e4cc79e98a"
      },
      "execution_count": 46,
      "outputs": [
        {
          "output_type": "execute_result",
          "data": {
            "text/plain": [
              "<tf.Tensor: shape=(), dtype=float32, numpy=10.978438>"
            ]
          },
          "metadata": {},
          "execution_count": 46
        }
      ]
    },
    {
      "cell_type": "code",
      "source": [
        "#Calculate the mean squared error\n",
        "mse=tf.metrics.mean_squared_error(y_test,tf.constant(y_pred,shape=(10,)))\n",
        "mse"
      ],
      "metadata": {
        "colab": {
          "base_uri": "https://localhost:8080/"
        },
        "id": "tw9JuK_Q7HyX",
        "outputId": "570e239c-09b9-4387-89ca-8720089115a6"
      },
      "execution_count": 47,
      "outputs": [
        {
          "output_type": "execute_result",
          "data": {
            "text/plain": [
              "<tf.Tensor: shape=(), dtype=float32, numpy=128.54434>"
            ]
          },
          "metadata": {},
          "execution_count": 47
        }
      ]
    },
    {
      "cell_type": "code",
      "source": [
        "#Function to return MAE and MSE\n",
        "def mae(y_true,y_pred):\n",
        "  return tf.metrics.mean_absolute_error(y_test,tf.constant(y_pred,shape=(10,)))\n",
        "\n",
        "def mse(y_true,y_pred):\n",
        "  return tf.metrics.mean_squared_error(y_test,tf.constant(y_pred,shape=(10,)))"
      ],
      "metadata": {
        "id": "bfPuHwIuAGpO"
      },
      "execution_count": 48,
      "outputs": []
    },
    {
      "cell_type": "markdown",
      "source": [
        "### Running experiments to improve our model\n",
        "\n",
        "1. Get more data- get more examples for your model to train on (more opportunities to learn patterns or relationships between features and labels).\n",
        "2. Make your model larger (using a more complex model) - This might come in the form of more layers or more hidden units in each layer.\n",
        "\n",
        "3. Train for longer - give your model more of a chance to find patterns in the data.\n",
        "\n",
        "Trying different models:-\n",
        "1. `model 1` - same as the original model, 1 layer, trained for 100 epochs\n",
        "2. `model 2` - 2 layers, trained for 100 epochs\n",
        "3. `model 3` - 2 layers, trained for 500 epochs"
      ],
      "metadata": {
        "id": "fc1Y4nqRAn4U"
      }
    },
    {
      "cell_type": "markdown",
      "source": [
        "**Model 1**"
      ],
      "metadata": {
        "id": "swVuwuDSNizq"
      }
    },
    {
      "cell_type": "code",
      "source": [
        "#Random Seed\n",
        "tf.random.set_seed(42)\n",
        "\n",
        "#1. Create the model\n",
        "model_1=tf.keras.Sequential([\n",
        "    tf.keras.layers.Dense(1,input_shape=[1])\n",
        "])\n",
        "\n",
        "#2. Compile the model\n",
        "model_1.compile(loss=tf.keras.losses.mae,\n",
        "                optimizer=tf.keras.optimizers.SGD(),\n",
        "                metrics=[\"mae\"])\n",
        "#3. Fitting the model\n",
        "model_1.fit(X_train,y_train,epochs=100,verbose=0)"
      ],
      "metadata": {
        "colab": {
          "base_uri": "https://localhost:8080/"
        },
        "id": "4YYxeTRTCHY0",
        "outputId": "add18aab-b77b-4616-cae7-09e9af6973e2"
      },
      "execution_count": 49,
      "outputs": [
        {
          "output_type": "execute_result",
          "data": {
            "text/plain": [
              "<keras.callbacks.History at 0x7f4de0641ed0>"
            ]
          },
          "metadata": {},
          "execution_count": 49
        }
      ]
    },
    {
      "cell_type": "code",
      "source": [
        "#Plotting Predictions for model_1\n",
        "y_preds_1=model_1.predict(X_test)\n",
        "plot_predictions(predictions= y_preds_1)"
      ],
      "metadata": {
        "colab": {
          "base_uri": "https://localhost:8080/",
          "height": 511
        },
        "id": "4sdXN785CpJ2",
        "outputId": "6dada3fb-3d01-4d1b-c5db-d4a5d4e37c68"
      },
      "execution_count": 50,
      "outputs": [
        {
          "output_type": "stream",
          "name": "stderr",
          "text": [
            "WARNING:tensorflow:6 out of the last 6 calls to <function Model.make_predict_function.<locals>.predict_function at 0x7f4de85f84c0> triggered tf.function retracing. Tracing is expensive and the excessive number of tracings could be due to (1) creating @tf.function repeatedly in a loop, (2) passing tensors with different shapes, (3) passing Python objects instead of tensors. For (1), please define your @tf.function outside of the loop. For (2), @tf.function has reduce_retracing=True option that can avoid unnecessary retracing. For (3), please refer to https://www.tensorflow.org/guide/function#controlling_retracing and https://www.tensorflow.org/api_docs/python/tf/function for  more details.\n"
          ]
        },
        {
          "output_type": "stream",
          "name": "stdout",
          "text": [
            "1/1 [==============================] - 0s 54ms/step\n"
          ]
        },
        {
          "output_type": "display_data",
          "data": {
            "text/plain": [
              "<Figure size 1000x700 with 1 Axes>"
            ],
            "image/png": "[encoded data removed]"
          },
          "metadata": {}
        }
      ]
    },
    {
      "cell_type": "code",
      "source": [
        "#Model 1 Calculation metrics\n",
        "mae_1=mae(y_test,y_preds_1)\n",
        "mse_1=mse(y_test,y_preds_1)\n",
        "\n",
        "mae_1,mse_1"
      ],
      "metadata": {
        "colab": {
          "base_uri": "https://localhost:8080/"
        },
        "id": "yiOjJKgICDot",
        "outputId": "57975453-84dd-4c1a-b7d4-277f42a6dbf0"
      },
      "execution_count": 51,
      "outputs": [
        {
          "output_type": "execute_result",
          "data": {
            "text/plain": [
              "(<tf.Tensor: shape=(), dtype=float32, numpy=30.608759>,\n",
              " <tf.Tensor: shape=(), dtype=float32, numpy=947.30237>)"
            ]
          },
          "metadata": {},
          "execution_count": 51
        }
      ]
    },
    {
      "cell_type": "markdown",
      "source": [
        "**Model 2**"
      ],
      "metadata": {
        "id": "Jn3rLjNyAzHv"
      }
    },
    {
      "cell_type": "code",
      "source": [
        "#Random Seed\n",
        "tf.random.set_seed(42)\n",
        "\n",
        "#1. Create the model\n",
        "model_2=tf.keras.Sequential([\n",
        "    tf.keras.layers.Dense(10,input_shape=[1]),\n",
        "    tf.keras.layers.Dense(1,input_shape=[1])\n",
        "])\n",
        "\n",
        "#2. Compile the model\n",
        "model_2.compile(loss=tf.keras.losses.mae,\n",
        "                optimizer=tf.keras.optimizers.SGD(),\n",
        "                metrics=[\"mae\",\"mse\"])\n",
        "#3. Fitting the model\n",
        "model_2.fit(X_train,y_train,epochs=100,verbose=0)"
      ],
      "metadata": {
        "colab": {
          "base_uri": "https://localhost:8080/"
        },
        "id": "lTH4gAwyNuEL",
        "outputId": "48a1e75d-0e4a-45e9-fd9a-7996f6c33b22"
      },
      "execution_count": 52,
      "outputs": [
        {
          "output_type": "execute_result",
          "data": {
            "text/plain": [
              "<keras.callbacks.History at 0x7f4de057e950>"
            ]
          },
          "metadata": {},
          "execution_count": 52
        }
      ]
    },
    {
      "cell_type": "code",
      "source": [
        "#Plotting Predictions for model_1\n",
        "y_preds_2=model_2.predict(X_test)\n",
        "plot_predictions(predictions= y_preds_2)"
      ],
      "metadata": {
        "colab": {
          "base_uri": "https://localhost:8080/",
          "height": 469
        },
        "id": "f1Tx6LvhOeLa",
        "outputId": "15d7e6be-99ac-4a27-f1a9-bc0c60bbc85d"
      },
      "execution_count": 53,
      "outputs": [
        {
          "output_type": "stream",
          "name": "stdout",
          "text": [
            "1/1 [==============================] - 0s 57ms/step\n"
          ]
        },
        {
          "output_type": "display_data",
          "data": {
            "text/plain": [
              "<Figure size 1000x700 with 1 Axes>"
            ],
            "image/png": "[encoded data removed]"
          },
          "metadata": {}
        }
      ]
    },
    {
      "cell_type": "code",
      "source": [
        "#Model 2 Calculation metrics\n",
        "mae_2=mae(y_test,y_preds_2)\n",
        "mse_2=mse(y_test,y_preds_2)\n",
        "\n",
        "mae_2,mse_2"
      ],
      "metadata": {
        "colab": {
          "base_uri": "https://localhost:8080/"
        },
        "id": "gWLsSgRdOwMX",
        "outputId": "b66a71c6-1c0e-476f-a79f-e8ff18581f7c"
      },
      "execution_count": 54,
      "outputs": [
        {
          "output_type": "execute_result",
          "data": {
            "text/plain": [
              "(<tf.Tensor: shape=(), dtype=float32, numpy=9.957228>,\n",
              " <tf.Tensor: shape=(), dtype=float32, numpy=106.37447>)"
            ]
          },
          "metadata": {},
          "execution_count": 54
        }
      ]
    },
    {
      "cell_type": "markdown",
      "source": [
        "**Model 3**"
      ],
      "metadata": {
        "id": "EASlzSPhO_Sr"
      }
    },
    {
      "cell_type": "code",
      "source": [
        "#Random Seed\n",
        "tf.random.set_seed(42)\n",
        "\n",
        "#1. Create the model\n",
        "model_3=tf.keras.Sequential([\n",
        "    tf.keras.layers.Dense(10,input_shape=[1]),\n",
        "    tf.keras.layers.Dense(1,input_shape=[1])\n",
        "])\n",
        "\n",
        "#2. Compile the model\n",
        "model_3.compile(loss=tf.keras.losses.mae,\n",
        "                optimizer=tf.keras.optimizers.SGD(),\n",
        "                metrics=[\"mae\",\"mse\"])\n",
        "#3. Fitting the model\n",
        "model_3.fit(X_train,y_train,epochs=500,verbose=0)"
      ],
      "metadata": {
        "colab": {
          "base_uri": "https://localhost:8080/"
        },
        "outputId": "23dc8ba9-41d1-4ca9-ff68-c64be8b978b0",
        "id": "adBPBIaGO_Ss"
      },
      "execution_count": 55,
      "outputs": [
        {
          "output_type": "execute_result",
          "data": {
            "text/plain": [
              "<keras.callbacks.History at 0x7f4de0ec9390>"
            ]
          },
          "metadata": {},
          "execution_count": 55
        }
      ]
    },
    {
      "cell_type": "code",
      "source": [
        "#Plotting Predictions for model_1\n",
        "y_preds_3=model_3.predict(X_test)\n",
        "plot_predictions(predictions= y_preds_3)"
      ],
      "metadata": {
        "colab": {
          "base_uri": "https://localhost:8080/",
          "height": 474
        },
        "outputId": "95b74170-8a92-411f-d164-90535d8db091",
        "id": "99rjaX6aO_Ss"
      },
      "execution_count": 56,
      "outputs": [
        {
          "output_type": "stream",
          "name": "stdout",
          "text": [
            "1/1 [==============================] - 0s 86ms/step\n"
          ]
        },
        {
          "output_type": "display_data",
          "data": {
            "text/plain": [
              "<Figure size 1000x700 with 1 Axes>"
            ],
            "image/png": "[encoded data removed]"
          },
          "metadata": {}
        }
      ]
    },
    {
      "cell_type": "code",
      "source": [
        "#Model 3 Calculation metrics\n",
        "mae_3=mae(y_test,y_preds_3)\n",
        "mse_3=mse(y_test,y_preds_3)\n",
        "\n",
        "mae_3,mse_3"
      ],
      "metadata": {
        "colab": {
          "base_uri": "https://localhost:8080/"
        },
        "outputId": "6b9f6cc9-c93e-4728-bb75-b320519154da",
        "id": "8CT9AjGnO_Ss"
      },
      "execution_count": 57,
      "outputs": [
        {
          "output_type": "execute_result",
          "data": {
            "text/plain": [
              "(<tf.Tensor: shape=(), dtype=float32, numpy=68.691505>,\n",
              " <tf.Tensor: shape=(), dtype=float32, numpy=4804.91>)"
            ]
          },
          "metadata": {},
          "execution_count": 57
        }
      ]
    },
    {
      "cell_type": "markdown",
      "source": [
        "### Comparing the results of our experiments"
      ],
      "metadata": {
        "id": "rE99yD3nr3Cr"
      }
    },
    {
      "cell_type": "code",
      "source": [
        "# Comparing Model Results\n",
        "import pandas as pd\n",
        "\n",
        "model_results=[[\"model_1\",mae_1.numpy(),mse_1.numpy()],\n",
        "                [\"model_2\",mae_2.numpy(),mse_2.numpy()],\n",
        "                [\"model_3\",mae_3.numpy(),mse_3.numpy()]]\n",
        "\n",
        "all_results = pd.DataFrame(model_results, columns=[\"model\",\"mae\",\"mse\"])\n",
        "all_results"
      ],
      "metadata": {
        "colab": {
          "base_uri": "https://localhost:8080/",
          "height": 143
        },
        "id": "jpUUkZ6rsGEd",
        "outputId": "7b55454b-4877-430c-a527-e8cb68dcaecd"
      },
      "execution_count": 64,
      "outputs": [
        {
          "output_type": "execute_result",
          "data": {
            "text/plain": [
              "     model        mae          mse\n",
              "0  model_1  30.608759   947.302368\n",
              "1  model_2   9.957228   106.374474\n",
              "2  model_3  68.691505  4804.910156"
            ],
            "text/html": [
              "\n",
              "  <div id=\"df-ca350158-d57b-4009-9cc4-a62302ff1119\">\n",
              "    <div class=\"colab-df-container\">\n",
              "      <div>\n",
              "<style scoped>\n",
              "    .dataframe tbody tr th:only-of-type {\n",
              "        vertical-align: middle;\n",
              "    }\n",
              "\n",
              "    .dataframe tbody tr th {\n",
              "        vertical-align: top;\n",
              "    }\n",
              "\n",
              "    .dataframe thead th {\n",
              "        text-align: right;\n",
              "    }\n",
              "</style>\n",
              "<table border=\"1\" class=\"dataframe\">\n",
              "  <thead>\n",
              "    <tr style=\"text-align: right;\">\n",
              "      <th></th>\n",
              "      <th>model</th>\n",
              "      <th>mae</th>\n",
              "      <th>mse</th>\n",
              "    </tr>\n",
              "  </thead>\n",
              "  <tbody>\n",
              "    <tr>\n",
              "      <th>0</th>\n",
              "      <td>model_1</td>\n",
              "      <td>30.608759</td>\n",
              "      <td>947.302368</td>\n",
              "    </tr>\n",
              "    <tr>\n",
              "      <th>1</th>\n",
              "      <td>model_2</td>\n",
              "      <td>9.957228</td>\n",
              "      <td>106.374474</td>\n",
              "    </tr>\n",
              "    <tr>\n",
              "      <th>2</th>\n",
              "      <td>model_3</td>\n",
              "      <td>68.691505</td>\n",
              "      <td>4804.910156</td>\n",
              "    </tr>\n",
              "  </tbody>\n",
              "</table>\n",
              "</div>\n",
              "      <button class=\"colab-df-convert\" onclick=\"convertToInteractive('df-ca350158-d57b-4009-9cc4-a62302ff1119')\"\n",
              "              title=\"Convert this dataframe to an interactive table.\"\n",
              "              style=\"display:none;\">\n",
              "        \n",
              "  <svg xmlns=\"http://www.w3.org/2000/svg\" height=\"24px\"viewBox=\"0 0 24 24\"\n",
              "       width=\"24px\">\n",
              "    <path d=\"M0 0h24v24H0V0z\" fill=\"none\"/>\n",
              "    <path d=\"M18.56 5.44l.94 2.06.94-2.06 2.06-.94-2.06-.94-.94-2.06-.94 2.06-2.06.94zm-11 1L8.5 8.5l.94-2.06 2.06-.94-2.06-.94L8.5 2.5l-.94 2.06-2.06.94zm10 10l.94 2.06.94-2.06 2.06-.94-2.06-.94-.94-2.06-.94 2.06-2.06.94z\"/><path d=\"M17.41 7.96l-1.37-1.37c-.4-.4-.92-.59-1.43-.59-.52 0-1.04.2-1.43.59L10.3 9.45l-7.72 7.72c-.78.78-.78 2.05 0 2.83L4 21.41c.39.39.9.59 1.41.59.51 0 1.02-.2 1.41-.59l7.78-7.78 2.81-2.81c.8-.78.8-2.07 0-2.86zM5.41 20L4 18.59l7.72-7.72 1.47 1.35L5.41 20z\"/>\n",
              "  </svg>\n",
              "      </button>\n",
              "      \n",
              "  <style>\n",
              "    .colab-df-container {\n",
              "      display:flex;\n",
              "      flex-wrap:wrap;\n",
              "      gap: 12px;\n",
              "    }\n",
              "\n",
              "    .colab-df-convert {\n",
              "      background-color: #E8F0FE;\n",
              "      border: none;\n",
              "      border-radius: 50%;\n",
              "      cursor: pointer;\n",
              "      display: none;\n",
              "      fill: #1967D2;\n",
              "      height: 32px;\n",
              "      padding: 0 0 0 0;\n",
              "      width: 32px;\n",
              "    }\n",
              "\n",
              "    .colab-df-convert:hover {\n",
              "      background-color: #E2EBFA;\n",
              "      box-shadow: 0px 1px 2px rgba(60, 64, 67, 0.3), 0px 1px 3px 1px rgba(60, 64, 67, 0.15);\n",
              "      fill: #174EA6;\n",
              "    }\n",
              "\n",
              "    [theme=dark] .colab-df-convert {\n",
              "      background-color: #3B4455;\n",
              "      fill: #D2E3FC;\n",
              "    }\n",
              "\n",
              "    [theme=dark] .colab-df-convert:hover {\n",
              "      background-color: #434B5C;\n",
              "      box-shadow: 0px 1px 3px 1px rgba(0, 0, 0, 0.15);\n",
              "      filter: drop-shadow(0px 1px 2px rgba(0, 0, 0, 0.3));\n",
              "      fill: #FFFFFF;\n",
              "    }\n",
              "  </style>\n",
              "\n",
              "      <script>\n",
              "        const buttonEl =\n",
              "          document.querySelector('#df-ca350158-d57b-4009-9cc4-a62302ff1119 button.colab-df-convert');\n",
              "        buttonEl.style.display =\n",
              "          google.colab.kernel.accessAllowed ? 'block' : 'none';\n",
              "\n",
              "        async function convertToInteractive(key) {\n",
              "          const element = document.querySelector('#df-ca350158-d57b-4009-9cc4-a62302ff1119');\n",
              "          const dataTable =\n",
              "            await google.colab.kernel.invokeFunction('convertToInteractive',\n",
              "                                                     [key], {});\n",
              "          if (!dataTable) return;\n",
              "\n",
              "          const docLinkHtml = 'Like what you see? Visit the ' +\n",
              "            '<a target=\"_blank\" href=https://colab.research.google.com/notebooks/data_table.ipynb>data table notebook</a>'\n",
              "            + ' to learn more about interactive tables.';\n",
              "          element.innerHTML = '';\n",
              "          dataTable['output_type'] = 'display_data';\n",
              "          await google.colab.output.renderOutput(dataTable, element);\n",
              "          const docLink = document.createElement('div');\n",
              "          docLink.innerHTML = docLinkHtml;\n",
              "          element.appendChild(docLink);\n",
              "        }\n",
              "      </script>\n",
              "    </div>\n",
              "  </div>\n",
              "  "
            ]
          },
          "metadata": {},
          "execution_count": 64
        }
      ]
    },
    {
      "cell_type": "markdown",
      "source": [
        " #### Tracking Experiments\n",
        " It is very good to track the results of your experiments.\n",
        "\n",
        " Tools that can help us:-\n",
        "\n",
        " 1) TensorBoard - A component of the Tensorflow library to help track modelling\n",
        " experiments.\n",
        "\n",
        " 2) Weights & Biases - A tool for tracking all of kinds of machine learning\n",
        " experiments.\n"
      ],
      "metadata": {
        "id": "goufqU62zLbm"
      }
    },
    {
      "cell_type": "markdown",
      "source": [
        "### Saving our models\n",
        "There are two main formats we can save our model as:-\n",
        "1. The SavedModel format\n",
        "2. The HDFS5 Format\n"
      ],
      "metadata": {
        "id": "gi7UzcAr5oJ8"
      }
    },
    {
      "cell_type": "code",
      "source": [
        "# Using the SavedModel format\n",
        "model_2.save(\"best_model_SavedModel_format\")"
      ],
      "metadata": {
        "colab": {
          "base_uri": "https://localhost:8080/"
        },
        "id": "5FlCGgYM9dUK",
        "outputId": "d32aa6cf-ff0e-4ff8-9624-09c8f502dc19"
      },
      "execution_count": 70,
      "outputs": [
        {
          "output_type": "stream",
          "name": "stderr",
          "text": [
            "WARNING:absl:Found untraced functions such as _update_step_xla while saving (showing 1 of 1). These functions will not be directly callable after loading.\n"
          ]
        }
      ]
    },
    {
      "cell_type": "code",
      "source": [
        "# Using the HDF5 format\n",
        "model_2.save(\"best_model_HDF5_format.h5\")"
      ],
      "metadata": {
        "id": "OJNK0Yll_iZ3"
      },
      "execution_count": 68,
      "outputs": []
    },
    {
      "cell_type": "markdown",
      "source": [
        "### Loading the models"
      ],
      "metadata": {
        "id": "yOj0mHV__y1O"
      }
    },
    {
      "cell_type": "code",
      "source": [
        "#Loading SavedModel Model\n",
        "loaded_SavedModel_format=tf.keras.models.load_model(\"best_model_SavedModel_format\")\n",
        "loaded_SavedModel_format.summary()"
      ],
      "metadata": {
        "colab": {
          "base_uri": "https://localhost:8080/"
        },
        "id": "ftJ-SuJqBe7l",
        "outputId": "7509da23-ee7b-41b9-f50a-cf41f42d8e45"
      },
      "execution_count": 73,
      "outputs": [
        {
          "output_type": "stream",
          "name": "stdout",
          "text": [
            "Model: \"sequential_7\"\n",
            "_________________________________________________________________\n",
            " Layer (type)                Output Shape              Param #   \n",
            "=================================================================\n",
            " dense_10 (Dense)            (None, 10)                20        \n",
            "                                                                 \n",
            " dense_11 (Dense)            (None, 1)                 11        \n",
            "                                                                 \n",
            "=================================================================\n",
            "Total params: 31\n",
            "Trainable params: 31\n",
            "Non-trainable params: 0\n",
            "_________________________________________________________________\n"
          ]
        }
      ]
    },
    {
      "cell_type": "code",
      "source": [
        "#Loading H5 Model\n",
        "loaded_h5_model=tf.keras.models.load_model(\"best_model_HDF5_format.h5\")\n",
        "loaded_h5_model.summary()"
      ],
      "metadata": {
        "colab": {
          "base_uri": "https://localhost:8080/"
        },
        "id": "G_ZEHvaDCR-s",
        "outputId": "6ca2c3e3-0744-41ad-d034-2efb64313c3c"
      },
      "execution_count": 77,
      "outputs": [
        {
          "output_type": "stream",
          "name": "stdout",
          "text": [
            "Model: \"sequential_7\"\n",
            "_________________________________________________________________\n",
            " Layer (type)                Output Shape              Param #   \n",
            "=================================================================\n",
            " dense_10 (Dense)            (None, 10)                20        \n",
            "                                                                 \n",
            " dense_11 (Dense)            (None, 1)                 11        \n",
            "                                                                 \n",
            "=================================================================\n",
            "Total params: 31\n",
            "Trainable params: 31\n",
            "Non-trainable params: 0\n",
            "_________________________________________________________________\n"
          ]
        }
      ]
    },
    {
      "cell_type": "markdown",
      "source": [
        "### Download a model (or any other file)"
      ],
      "metadata": {
        "id": "jl4exEe0E7Ya"
      }
    },
    {
      "cell_type": "code",
      "source": [
        "from google.colab import files\n",
        "files.download('/content/best_model_HDF5_format.h5')"
      ],
      "metadata": {
        "colab": {
          "base_uri": "https://localhost:8080/",
          "height": 17
        },
        "id": "icApsy-lG4S4",
        "outputId": "806452e0-ec16-45b2-c1de-81344012ac74"
      },
      "execution_count": 78,
      "outputs": [
        {
          "output_type": "display_data",
          "data": {
            "text/plain": [
              "<IPython.core.display.Javascript object>"
            ],
            "application/javascript": [
              "\n",
              "    async function download(id, filename, size) {\n",
              "      if (!google.colab.kernel.accessAllowed) {\n",
              "        return;\n",
              "      }\n",
              "      const div = document.createElement('div');\n",
              "      const label = document.createElement('label');\n",
              "      label.textContent = `Downloading \"${filename}\": `;\n",
              "      div.appendChild(label);\n",
              "      const progress = document.createElement('progress');\n",
              "      progress.max = size;\n",
              "      div.appendChild(progress);\n",
              "      document.body.appendChild(div);\n",
              "\n",
              "      const buffers = [];\n",
              "      let downloaded = 0;\n",
              "\n",
              "      const channel = await google.colab.kernel.comms.open(id);\n",
              "      // Send a message to notify the kernel that we're ready.\n",
              "      channel.send({})\n",
              "\n",
              "      for await (const message of channel.messages) {\n",
              "        // Send a message to notify the kernel that we're ready.\n",
              "        channel.send({})\n",
              "        if (message.buffers) {\n",
              "          for (const buffer of message.buffers) {\n",
              "            buffers.push(buffer);\n",
              "            downloaded += buffer.byteLength;\n",
              "            progress.value = downloaded;\n",
              "          }\n",
              "        }\n",
              "      }\n",
              "      const blob = new Blob(buffers, {type: 'application/binary'});\n",
              "      const a = document.createElement('a');\n",
              "      a.href = window.URL.createObjectURL(blob);\n",
              "      a.download = filename;\n",
              "      div.appendChild(a);\n",
              "      a.click();\n",
              "      div.remove();\n",
              "    }\n",
              "  "
            ]
          },
          "metadata": {}
        },
        {
          "output_type": "display_data",
          "data": {
            "text/plain": [
              "<IPython.core.display.Javascript object>"
            ],
            "application/javascript": [
              "download(\"download_9437a94e-25b5-4b59-abe4-8edddfb9d69c\", \"best_model_HDF5_format.h5\", 21952)"
            ]
          },
          "metadata": {}
        }
      ]
    },
    {
      "cell_type": "code",
      "source": [
        "#Copy the file from colab to google drive\n",
        "!cp /content/best_model_HDF5_format.h5 Google drive path"
      ],
      "metadata": {
        "id": "4f2cuc5CGSdI"
      },
      "execution_count": null,
      "outputs": []
    }
  ]
}