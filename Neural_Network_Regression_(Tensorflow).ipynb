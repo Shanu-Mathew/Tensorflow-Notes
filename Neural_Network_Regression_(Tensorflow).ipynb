{
  "nbformat": 4,
  "nbformat_minor": 0,
  "metadata": {
    "colab": {
      "provenance": [],
      "authorship_tag": "ABX9TyNo7+ZFbaZtixr/3TVqgwjo",
      "include_colab_link": true
    },
    "kernelspec": {
      "name": "python3",
      "display_name": "Python 3"
    },
    "language_info": {
      "name": "python"
    }
  },
  "cells": [
    {
      "cell_type": "markdown",
      "metadata": {
        "id": "view-in-github",
        "colab_type": "text"
      },
      "source": [
        "<a href=\"https://colab.research.google.com/github/Shanu-Mathew/Tensorflow-Notes/blob/main/Neural_Network_Regression_(Tensorflow).ipynb\" target=\"_parent\"><img src=\"https://colab.research.google.com/assets/colab-badge.svg\" alt=\"Open In Colab\"/></a>"
      ]
    },
    {
      "cell_type": "markdown",
      "source": [
        "# Introduction to Regression with Neural Networks in Tensorflow\n",
        "\n",
        "There are many definitions for a regression problem but in our case, we are going to somplify it: Predicting a numerical variable based on some other combination of variables, even shorter...predicting a number"
      ],
      "metadata": {
        "id": "PQrWmB5Qn7_w"
      }
    },
    {
      "cell_type": "markdown",
      "source": [
        "### Importing Libraries"
      ],
      "metadata": {
        "id": "coz2w45C5alX"
      }
    },
    {
      "cell_type": "code",
      "execution_count": null,
      "metadata": {
        "id": "cFyqNdfFnezs",
        "colab": {
          "base_uri": "https://localhost:8080/"
        },
        "outputId": "29e63cff-3eac-4efb-ea28-5b5ec7dc7565"
      },
      "outputs": [
        {
          "output_type": "stream",
          "name": "stdout",
          "text": [
            "2.12.0\n"
          ]
        }
      ],
      "source": [
        "import tensorflow as tf\n",
        "print(tf.__version__)\n",
        "import numpy as np\n",
        "import matplotlib.pyplot as plt"
      ]
    },
    {
      "cell_type": "markdown",
      "source": [
        "##Data Ingestion"
      ],
      "metadata": {
        "id": "MhqOtqRP5phf"
      }
    },
    {
      "cell_type": "code",
      "source": [
        "#Create Features\n",
        "X=np.array([-7.0,-4.0,-1.0,2.0,5.0,8.0,11.0,14.0])\n",
        "\n",
        "#Create labels\n",
        "y=np.array([3.0,6.0,9.0,12.0,15.0,18.0,21.0,24.0])\n",
        "\n",
        "#Visualisation\n",
        "plt.scatter(X,y);"
      ],
      "metadata": {
        "colab": {
          "base_uri": "https://localhost:8080/",
          "height": 435
        },
        "id": "5rbm620d5rhk",
        "outputId": "295babf9-8fcb-487a-fbea-742ddf6e9012"
      },
      "execution_count": null,
      "outputs": [
        {
          "output_type": "display_data",
          "data": {
            "text/plain": [
              "<Figure size 640x480 with 1 Axes>"
            ],
            "image/png": "[encoded data removed]"
          },
          "metadata": {}
        }
      ]
    },
    {
      "cell_type": "code",
      "source": [
        "y ==X+10"
      ],
      "metadata": {
        "colab": {
          "base_uri": "https://localhost:8080/"
        },
        "id": "qzvsAXQr9fFI",
        "outputId": "7d039201-8b89-4aab-ed48-f965b5637cb4"
      },
      "execution_count": null,
      "outputs": [
        {
          "output_type": "execute_result",
          "data": {
            "text/plain": [
              "array([ True,  True,  True,  True,  True,  True,  True,  True])"
            ]
          },
          "metadata": {},
          "execution_count": 3
        }
      ]
    },
    {
      "cell_type": "markdown",
      "source": [
        "## Input and Output Shapes"
      ],
      "metadata": {
        "id": "BgL57Epe9tOF"
      }
    },
    {
      "cell_type": "code",
      "source": [
        "#Create a demo tensor\n",
        "house_info=tf.constant(['bedroom','bathroom','garage'])\n",
        "house_price=tf.constant([937000])\n",
        "house_info,house_price"
      ],
      "metadata": {
        "colab": {
          "base_uri": "https://localhost:8080/"
        },
        "id": "w-xYdnLo9wUy",
        "outputId": "e57c3a1b-6cf5-4f69-f52a-e196630b4778"
      },
      "execution_count": null,
      "outputs": [
        {
          "output_type": "execute_result",
          "data": {
            "text/plain": [
              "(<tf.Tensor: shape=(3,), dtype=string, numpy=array([b'bedroom', b'bathroom', b'garage'], dtype=object)>,\n",
              " <tf.Tensor: shape=(1,), dtype=int32, numpy=array([937000], dtype=int32)>)"
            ]
          },
          "metadata": {},
          "execution_count": 4
        }
      ]
    },
    {
      "cell_type": "code",
      "source": [
        "input_shape=X.shape\n",
        "output_shape=y.shape\n",
        "input_shape,output_shape"
      ],
      "metadata": {
        "colab": {
          "base_uri": "https://localhost:8080/"
        },
        "id": "dRn60IoX-CAx",
        "outputId": "55616ad0-2244-4eaa-a6a3-2ee3556ff68f"
      },
      "execution_count": null,
      "outputs": [
        {
          "output_type": "execute_result",
          "data": {
            "text/plain": [
              "((8,), (8,))"
            ]
          },
          "metadata": {},
          "execution_count": 5
        }
      ]
    },
    {
      "cell_type": "code",
      "source": [
        "X[0],y[0]"
      ],
      "metadata": {
        "colab": {
          "base_uri": "https://localhost:8080/"
        },
        "id": "YLNu9Z8g-OkS",
        "outputId": "312e4ffe-5cd2-4e0c-8fbf-17c9d81bd9aa"
      },
      "execution_count": null,
      "outputs": [
        {
          "output_type": "execute_result",
          "data": {
            "text/plain": [
              "(-7.0, 3.0)"
            ]
          },
          "metadata": {},
          "execution_count": 6
        }
      ]
    },
    {
      "cell_type": "code",
      "source": [
        "X[1],y[1]"
      ],
      "metadata": {
        "colab": {
          "base_uri": "https://localhost:8080/"
        },
        "id": "ko_WbpRx-Q7V",
        "outputId": "59d320fb-6c85-418f-b57a-74914e469d8e"
      },
      "execution_count": null,
      "outputs": [
        {
          "output_type": "execute_result",
          "data": {
            "text/plain": [
              "(-4.0, 6.0)"
            ]
          },
          "metadata": {},
          "execution_count": 7
        }
      ]
    },
    {
      "cell_type": "code",
      "source": [
        "input_shape=X[0].shape\n",
        "output_shape=y[0].shape\n",
        "input_shape,output_shape"
      ],
      "metadata": {
        "colab": {
          "base_uri": "https://localhost:8080/"
        },
        "id": "RtW8J6Rk-VqL",
        "outputId": "b4a639b5-7beb-4770-b750-30cadd74cfdc"
      },
      "execution_count": null,
      "outputs": [
        {
          "output_type": "execute_result",
          "data": {
            "text/plain": [
              "((), ())"
            ]
          },
          "metadata": {},
          "execution_count": 8
        }
      ]
    },
    {
      "cell_type": "code",
      "source": [
        "X[0].ndim"
      ],
      "metadata": {
        "colab": {
          "base_uri": "https://localhost:8080/"
        },
        "id": "R2_i9XZxDdRj",
        "outputId": "dd1960c6-c9de-4857-bcb8-4f2046322df9"
      },
      "execution_count": null,
      "outputs": [
        {
          "output_type": "execute_result",
          "data": {
            "text/plain": [
              "0"
            ]
          },
          "metadata": {},
          "execution_count": 9
        }
      ]
    },
    {
      "cell_type": "code",
      "source": [
        "#Numpy array into tensors with dtype float32\n",
        "X=tf.cast(tf.constant(X),dtype=tf.float32)\n",
        "y=tf.cast(tf.constant(y),dtype=tf.float32)\n",
        "X,y"
      ],
      "metadata": {
        "colab": {
          "base_uri": "https://localhost:8080/"
        },
        "id": "lQk139CLDj1h",
        "outputId": "ae6f62a7-fee6-4901-9b41-91eb785a7ebd"
      },
      "execution_count": null,
      "outputs": [
        {
          "output_type": "execute_result",
          "data": {
            "text/plain": [
              "(<tf.Tensor: shape=(8,), dtype=float32, numpy=array([-7., -4., -1.,  2.,  5.,  8., 11., 14.], dtype=float32)>,\n",
              " <tf.Tensor: shape=(8,), dtype=float32, numpy=array([ 3.,  6.,  9., 12., 15., 18., 21., 24.], dtype=float32)>)"
            ]
          },
          "metadata": {},
          "execution_count": 17
        }
      ]
    },
    {
      "cell_type": "code",
      "source": [
        "input_shape=X[0].shape\n",
        "output_shape=y[0].shape\n",
        "input_shape, output_shape"
      ],
      "metadata": {
        "colab": {
          "base_uri": "https://localhost:8080/"
        },
        "id": "nBpcNtiwDs1h",
        "outputId": "fe3eb07f-beff-4c8a-9537-12b4dd620b43"
      },
      "execution_count": null,
      "outputs": [
        {
          "output_type": "execute_result",
          "data": {
            "text/plain": [
              "(TensorShape([]), ())"
            ]
          },
          "metadata": {},
          "execution_count": 11
        }
      ]
    },
    {
      "cell_type": "markdown",
      "source": [
        "## Steps in modelling with Tensorflow\n",
        "1. Creating a model - define the input and output layers, as well as the hidden layers of a deep learning model.\n",
        "2. Compiling a model - define the loss function (in other words, the function which tells our model how wrong it is) and the optimizer (tells our model how to improve the patterns its learning) and the evaluation metrics (which we can use to interpret the performance of our model)\n",
        "3. Fitting a model -  Letting the model try to find patterns between X & y (features and Labels)"
      ],
      "metadata": {
        "id": "w4m577cKF37C"
      }
    },
    {
      "cell_type": "code",
      "source": [
        "from keras.engine.training import optimizer\n",
        "# Set Random Seed\n",
        "tf.random.set_seed(42)\n",
        "\n",
        "#1. Create a model using the Sequential API\n",
        "model=tf.keras.Sequential([\n",
        "    tf.keras.layers.Dense(1)\n",
        "])\n",
        "\n",
        "#2. Compile the model\n",
        "model.compile(loss=tf.keras.losses.mae,\n",
        "               optimizer=tf.keras.optimizers.SGD(),\n",
        "               metrics=[\"mae\"])\n",
        "\n",
        "#Fit the model\n",
        "model.fit(tf.expand_dims(X,axis=-1),y,epochs=5);"
      ],
      "metadata": {
        "id": "T75BXKE2Gmri",
        "colab": {
          "base_uri": "https://localhost:8080/"
        },
        "outputId": "18ef6bf9-1bb1-446e-803d-92f8dc3e03bc"
      },
      "execution_count": null,
      "outputs": [
        {
          "output_type": "stream",
          "name": "stdout",
          "text": [
            "Epoch 1/5\n",
            "1/1 [==============================] - 0s 423ms/step - loss: 12.1080 - mae: 12.1080\n",
            "Epoch 2/5\n",
            "1/1 [==============================] - 0s 10ms/step - loss: 11.9755 - mae: 11.9755\n",
            "Epoch 3/5\n",
            "1/1 [==============================] - 0s 11ms/step - loss: 11.8430 - mae: 11.8430\n",
            "Epoch 4/5\n",
            "1/1 [==============================] - 0s 13ms/step - loss: 11.7105 - mae: 11.7105\n",
            "Epoch 5/5\n",
            "1/1 [==============================] - 0s 13ms/step - loss: 11.5780 - mae: 11.5780\n"
          ]
        }
      ]
    },
    {
      "cell_type": "code",
      "source": [
        "# Making prediction\n",
        "y_pred=model.predict([17.0])\n",
        "y_pred"
      ],
      "metadata": {
        "colab": {
          "base_uri": "https://localhost:8080/"
        },
        "id": "ZLZNCocW2Gtx",
        "outputId": "d705b3e4-1f95-4be2-ddfb-e41113d0da13"
      },
      "execution_count": null,
      "outputs": [
        {
          "output_type": "stream",
          "name": "stdout",
          "text": [
            "1/1 [==============================] - 0s 76ms/step\n"
          ]
        },
        {
          "output_type": "execute_result",
          "data": {
            "text/plain": [
              "array([[29.825813]], dtype=float32)"
            ]
          },
          "metadata": {},
          "execution_count": 23
        }
      ]
    },
    {
      "cell_type": "markdown",
      "source": [
        "## Improving  our Model\n",
        "\n",
        "We can improve our model by altering the steps we took to create a model.\n",
        "\n",
        "1. **Creating a model** -\n",
        "    * We might add more layers,\n",
        "    * Increase the number of hidden units (all called neurons) within each of the hidden layers\n",
        "    * Change the activation function of each layer.\n",
        "2. **Compiling a model** -\n",
        "    * Change the optimization function or **learning rate** of the optimization function\n",
        "3. **Fitting a model** -\n",
        "    * Fit a model for more epochs\n",
        "    * Fit a model with more data (& give the model more examples to learn from)\n"
      ],
      "metadata": {
        "id": "Q9-B3B4f73Ri"
      }
    },
    {
      "cell_type": "code",
      "source": [
        "#Improve the model\n",
        "\n",
        "#1. Create the model\n",
        "model=tf.keras.Sequential([\n",
        "    tf.keras.layers.Dense(1)\n",
        "])\n",
        "\n",
        "#2. Compile the model\n",
        "model.compile(loss=tf.keras.losses.mae,\n",
        "              optimizer=tf.keras.optimizers.SGD(),\n",
        "              metrics=['mae'])\n",
        "\n",
        "#3. Fitting the model\n",
        "model.fit(tf.expand_dims(X,axis=-1),y,epochs=100) #Epochs means how many times the model refines on the training data"
      ],
      "metadata": {
        "colab": {
          "base_uri": "https://localhost:8080/"
        },
        "id": "tT4g6h_89w2P",
        "outputId": "c39769e8-02de-4059-8b6a-f41761ea2381"
      },
      "execution_count": null,
      "outputs": [
        {
          "output_type": "stream",
          "name": "stdout",
          "text": [
            "Epoch 1/100\n",
            "1/1 [==============================] - 1s 666ms/step - loss: 12.6961 - mae: 12.6961\n",
            "Epoch 2/100\n",
            "1/1 [==============================] - 0s 13ms/step - loss: 12.5636 - mae: 12.5636\n",
            "Epoch 3/100\n",
            "1/1 [==============================] - 0s 12ms/step - loss: 12.4311 - mae: 12.4311\n",
            "Epoch 4/100\n",
            "1/1 [==============================] - 0s 12ms/step - loss: 12.2986 - mae: 12.2986\n",
            "Epoch 5/100\n",
            "1/1 [==============================] - 0s 11ms/step - loss: 12.1661 - mae: 12.1661\n",
            "Epoch 6/100\n",
            "1/1 [==============================] - 0s 15ms/step - loss: 12.0336 - mae: 12.0336\n",
            "Epoch 7/100\n",
            "1/1 [==============================] - 0s 11ms/step - loss: 11.9011 - mae: 11.9011\n",
            "Epoch 8/100\n",
            "1/1 [==============================] - 0s 10ms/step - loss: 11.7686 - mae: 11.7686\n",
            "Epoch 9/100\n",
            "1/1 [==============================] - 0s 10ms/step - loss: 11.6361 - mae: 11.6361\n",
            "Epoch 10/100\n",
            "1/1 [==============================] - 0s 11ms/step - loss: 11.5036 - mae: 11.5036\n",
            "Epoch 11/100\n",
            "1/1 [==============================] - 0s 10ms/step - loss: 11.3711 - mae: 11.3711\n",
            "Epoch 12/100\n",
            "1/1 [==============================] - 0s 10ms/step - loss: 11.2386 - mae: 11.2386\n",
            "Epoch 13/100\n",
            "1/1 [==============================] - 0s 10ms/step - loss: 11.1061 - mae: 11.1061\n",
            "Epoch 14/100\n",
            "1/1 [==============================] - 0s 10ms/step - loss: 10.9736 - mae: 10.9736\n",
            "Epoch 15/100\n",
            "1/1 [==============================] - 0s 10ms/step - loss: 10.8411 - mae: 10.8411\n",
            "Epoch 16/100\n",
            "1/1 [==============================] - 0s 11ms/step - loss: 10.7086 - mae: 10.7086\n",
            "Epoch 17/100\n",
            "1/1 [==============================] - 0s 10ms/step - loss: 10.5761 - mae: 10.5761\n",
            "Epoch 18/100\n",
            "1/1 [==============================] - 0s 11ms/step - loss: 10.4436 - mae: 10.4436\n",
            "Epoch 19/100\n",
            "1/1 [==============================] - 0s 10ms/step - loss: 10.3111 - mae: 10.3111\n",
            "Epoch 20/100\n",
            "1/1 [==============================] - 0s 10ms/step - loss: 10.1786 - mae: 10.1786\n",
            "Epoch 21/100\n",
            "1/1 [==============================] - 0s 11ms/step - loss: 10.0461 - mae: 10.0461\n",
            "Epoch 22/100\n",
            "1/1 [==============================] - 0s 10ms/step - loss: 9.9136 - mae: 9.9136\n",
            "Epoch 23/100\n",
            "1/1 [==============================] - 0s 10ms/step - loss: 9.7811 - mae: 9.7811\n",
            "Epoch 24/100\n",
            "1/1 [==============================] - 0s 9ms/step - loss: 9.6486 - mae: 9.6486\n",
            "Epoch 25/100\n",
            "1/1 [==============================] - 0s 9ms/step - loss: 9.5161 - mae: 9.5161\n",
            "Epoch 26/100\n",
            "1/1 [==============================] - 0s 10ms/step - loss: 9.3836 - mae: 9.3836\n",
            "Epoch 27/100\n",
            "1/1 [==============================] - 0s 11ms/step - loss: 9.2511 - mae: 9.2511\n",
            "Epoch 28/100\n",
            "1/1 [==============================] - 0s 10ms/step - loss: 9.1186 - mae: 9.1186\n",
            "Epoch 29/100\n",
            "1/1 [==============================] - 0s 10ms/step - loss: 8.9861 - mae: 8.9861\n",
            "Epoch 30/100\n",
            "1/1 [==============================] - 0s 11ms/step - loss: 8.8536 - mae: 8.8536\n",
            "Epoch 31/100\n",
            "1/1 [==============================] - 0s 10ms/step - loss: 8.7211 - mae: 8.7211\n",
            "Epoch 32/100\n",
            "1/1 [==============================] - 0s 12ms/step - loss: 8.5886 - mae: 8.5886\n",
            "Epoch 33/100\n",
            "1/1 [==============================] - 0s 10ms/step - loss: 8.4561 - mae: 8.4561\n",
            "Epoch 34/100\n",
            "1/1 [==============================] - 0s 11ms/step - loss: 8.3236 - mae: 8.3236\n",
            "Epoch 35/100\n",
            "1/1 [==============================] - 0s 10ms/step - loss: 8.1911 - mae: 8.1911\n",
            "Epoch 36/100\n",
            "1/1 [==============================] - 0s 10ms/step - loss: 8.0586 - mae: 8.0586\n",
            "Epoch 37/100\n",
            "1/1 [==============================] - 0s 10ms/step - loss: 7.9261 - mae: 7.9261\n",
            "Epoch 38/100\n",
            "1/1 [==============================] - 0s 12ms/step - loss: 7.7936 - mae: 7.7936\n",
            "Epoch 39/100\n",
            "1/1 [==============================] - 0s 11ms/step - loss: 7.6611 - mae: 7.6611\n",
            "Epoch 40/100\n",
            "1/1 [==============================] - 0s 11ms/step - loss: 7.5286 - mae: 7.5286\n",
            "Epoch 41/100\n",
            "1/1 [==============================] - 0s 11ms/step - loss: 7.3961 - mae: 7.3961\n",
            "Epoch 42/100\n",
            "1/1 [==============================] - 0s 11ms/step - loss: 7.2636 - mae: 7.2636\n",
            "Epoch 43/100\n",
            "1/1 [==============================] - 0s 10ms/step - loss: 7.1850 - mae: 7.1850\n",
            "Epoch 44/100\n",
            "1/1 [==============================] - 0s 10ms/step - loss: 7.1794 - mae: 7.1794\n",
            "Epoch 45/100\n",
            "1/1 [==============================] - 0s 10ms/step - loss: 7.1737 - mae: 7.1737\n",
            "Epoch 46/100\n",
            "1/1 [==============================] - 0s 9ms/step - loss: 7.1681 - mae: 7.1681\n",
            "Epoch 47/100\n",
            "1/1 [==============================] - 0s 16ms/step - loss: 7.1625 - mae: 7.1625\n",
            "Epoch 48/100\n",
            "1/1 [==============================] - 0s 10ms/step - loss: 7.1569 - mae: 7.1569\n",
            "Epoch 49/100\n",
            "1/1 [==============================] - 0s 10ms/step - loss: 7.1512 - mae: 7.1512\n",
            "Epoch 50/100\n",
            "1/1 [==============================] - 0s 10ms/step - loss: 7.1456 - mae: 7.1456\n",
            "Epoch 51/100\n",
            "1/1 [==============================] - 0s 10ms/step - loss: 7.1400 - mae: 7.1400\n",
            "Epoch 52/100\n",
            "1/1 [==============================] - 0s 10ms/step - loss: 7.1344 - mae: 7.1344\n",
            "Epoch 53/100\n",
            "1/1 [==============================] - 0s 10ms/step - loss: 7.1288 - mae: 7.1288\n",
            "Epoch 54/100\n",
            "1/1 [==============================] - 0s 9ms/step - loss: 7.1231 - mae: 7.1231\n",
            "Epoch 55/100\n",
            "1/1 [==============================] - 0s 10ms/step - loss: 7.1175 - mae: 7.1175\n",
            "Epoch 56/100\n",
            "1/1 [==============================] - 0s 10ms/step - loss: 7.1119 - mae: 7.1119\n",
            "Epoch 57/100\n",
            "1/1 [==============================] - 0s 10ms/step - loss: 7.1063 - mae: 7.1063\n",
            "Epoch 58/100\n",
            "1/1 [==============================] - 0s 10ms/step - loss: 7.1006 - mae: 7.1006\n",
            "Epoch 59/100\n",
            "1/1 [==============================] - 0s 10ms/step - loss: 7.0950 - mae: 7.0950\n",
            "Epoch 60/100\n",
            "1/1 [==============================] - 0s 10ms/step - loss: 7.0894 - mae: 7.0894\n",
            "Epoch 61/100\n",
            "1/1 [==============================] - 0s 11ms/step - loss: 7.0838 - mae: 7.0838\n",
            "Epoch 62/100\n",
            "1/1 [==============================] - 0s 10ms/step - loss: 7.0781 - mae: 7.0781\n",
            "Epoch 63/100\n",
            "1/1 [==============================] - 0s 10ms/step - loss: 7.0725 - mae: 7.0725\n",
            "Epoch 64/100\n",
            "1/1 [==============================] - 0s 12ms/step - loss: 7.0669 - mae: 7.0669\n",
            "Epoch 65/100\n",
            "1/1 [==============================] - 0s 10ms/step - loss: 7.0613 - mae: 7.0613\n",
            "Epoch 66/100\n",
            "1/1 [==============================] - 0s 10ms/step - loss: 7.0556 - mae: 7.0556\n",
            "Epoch 67/100\n",
            "1/1 [==============================] - 0s 10ms/step - loss: 7.0500 - mae: 7.0500\n",
            "Epoch 68/100\n",
            "1/1 [==============================] - 0s 11ms/step - loss: 7.0444 - mae: 7.0444\n",
            "Epoch 69/100\n",
            "1/1 [==============================] - 0s 11ms/step - loss: 7.0388 - mae: 7.0388\n",
            "Epoch 70/100\n",
            "1/1 [==============================] - 0s 12ms/step - loss: 7.0331 - mae: 7.0331\n",
            "Epoch 71/100\n",
            "1/1 [==============================] - 0s 11ms/step - loss: 7.0275 - mae: 7.0275\n",
            "Epoch 72/100\n",
            "1/1 [==============================] - 0s 13ms/step - loss: 7.0219 - mae: 7.0219\n",
            "Epoch 73/100\n",
            "1/1 [==============================] - 0s 10ms/step - loss: 7.0163 - mae: 7.0163\n",
            "Epoch 74/100\n",
            "1/1 [==============================] - 0s 11ms/step - loss: 7.0106 - mae: 7.0106\n",
            "Epoch 75/100\n",
            "1/1 [==============================] - 0s 10ms/step - loss: 7.0050 - mae: 7.0050\n",
            "Epoch 76/100\n",
            "1/1 [==============================] - 0s 10ms/step - loss: 6.9994 - mae: 6.9994\n",
            "Epoch 77/100\n",
            "1/1 [==============================] - 0s 10ms/step - loss: 6.9938 - mae: 6.9938\n",
            "Epoch 78/100\n",
            "1/1 [==============================] - 0s 11ms/step - loss: 6.9881 - mae: 6.9881\n",
            "Epoch 79/100\n",
            "1/1 [==============================] - 0s 10ms/step - loss: 6.9825 - mae: 6.9825\n",
            "Epoch 80/100\n",
            "1/1 [==============================] - 0s 11ms/step - loss: 6.9769 - mae: 6.9769\n",
            "Epoch 81/100\n",
            "1/1 [==============================] - 0s 10ms/step - loss: 6.9713 - mae: 6.9713\n",
            "Epoch 82/100\n",
            "1/1 [==============================] - 0s 11ms/step - loss: 6.9656 - mae: 6.9656\n",
            "Epoch 83/100\n",
            "1/1 [==============================] - 0s 10ms/step - loss: 6.9600 - mae: 6.9600\n",
            "Epoch 84/100\n",
            "1/1 [==============================] - 0s 13ms/step - loss: 6.9544 - mae: 6.9544\n",
            "Epoch 85/100\n",
            "1/1 [==============================] - 0s 11ms/step - loss: 6.9488 - mae: 6.9488\n",
            "Epoch 86/100\n",
            "1/1 [==============================] - 0s 11ms/step - loss: 6.9431 - mae: 6.9431\n",
            "Epoch 87/100\n",
            "1/1 [==============================] - 0s 11ms/step - loss: 6.9375 - mae: 6.9375\n",
            "Epoch 88/100\n",
            "1/1 [==============================] - 0s 11ms/step - loss: 6.9319 - mae: 6.9319\n",
            "Epoch 89/100\n",
            "1/1 [==============================] - 0s 11ms/step - loss: 6.9263 - mae: 6.9263\n",
            "Epoch 90/100\n",
            "1/1 [==============================] - 0s 11ms/step - loss: 6.9206 - mae: 6.9206\n",
            "Epoch 91/100\n",
            "1/1 [==============================] - 0s 10ms/step - loss: 6.9150 - mae: 6.9150\n",
            "Epoch 92/100\n",
            "1/1 [==============================] - 0s 10ms/step - loss: 6.9094 - mae: 6.9094\n",
            "Epoch 93/100\n",
            "1/1 [==============================] - 0s 10ms/step - loss: 6.9038 - mae: 6.9038\n",
            "Epoch 94/100\n",
            "1/1 [==============================] - 0s 10ms/step - loss: 6.8981 - mae: 6.8981\n",
            "Epoch 95/100\n",
            "1/1 [==============================] - 0s 10ms/step - loss: 6.8925 - mae: 6.8925\n",
            "Epoch 96/100\n",
            "1/1 [==============================] - 0s 10ms/step - loss: 6.8869 - mae: 6.8869\n",
            "Epoch 97/100\n",
            "1/1 [==============================] - 0s 10ms/step - loss: 6.8813 - mae: 6.8813\n",
            "Epoch 98/100\n",
            "1/1 [==============================] - 0s 10ms/step - loss: 6.8756 - mae: 6.8756\n",
            "Epoch 99/100\n",
            "1/1 [==============================] - 0s 10ms/step - loss: 6.8700 - mae: 6.8700\n",
            "Epoch 100/100\n",
            "1/1 [==============================] - 0s 10ms/step - loss: 6.8644 - mae: 6.8644\n"
          ]
        },
        {
          "output_type": "execute_result",
          "data": {
            "text/plain": [
              "<keras.callbacks.History at 0x7f0eeb3407c0>"
            ]
          },
          "metadata": {},
          "execution_count": 30
        }
      ]
    },
    {
      "cell_type": "code",
      "source": [
        "#Prediction of values by new model\n",
        "model.predict([17.0])"
      ],
      "metadata": {
        "colab": {
          "base_uri": "https://localhost:8080/"
        },
        "id": "72lppNNM8m5X",
        "outputId": "4784082e-69e4-48a8-8844-861ee137a493"
      },
      "execution_count": null,
      "outputs": [
        {
          "output_type": "stream",
          "name": "stdout",
          "text": [
            "1/1 [==============================] - 0s 105ms/step\n"
          ]
        },
        {
          "output_type": "execute_result",
          "data": {
            "text/plain": [
              "array([[29.749546]], dtype=float32)"
            ]
          },
          "metadata": {},
          "execution_count": 31
        }
      ]
    },
    {
      "cell_type": "code",
      "source": [
        "#Improving Model more\n",
        "\n",
        "#1. Create the model (this time with an extra hidden layer with 100 hidden units)\n",
        "model=tf.keras.Sequential([\n",
        "    tf.keras.layers.Dense(50,activation=\"relu\"),\n",
        "    tf.keras.layers.Dense(1)\n",
        "])\n",
        "#2. Compiling the model\n",
        "model.compile(loss=\"mae\",\n",
        "               optimizer=tf.keras.optimizers.Adam(),\n",
        "               metrics=[\"mae\"])\n",
        "\n",
        "#3. Fit the model\n",
        "model.fit(tf.expand_dims(X,axis=-1),y,epochs=100)\n"
      ],
      "metadata": {
        "colab": {
          "base_uri": "https://localhost:8080/"
        },
        "id": "5n5KprOSHheW",
        "outputId": "4af68c35-b4bc-48aa-e26b-47862dfae7a2"
      },
      "execution_count": null,
      "outputs": [
        {
          "output_type": "stream",
          "name": "stdout",
          "text": [
            "Epoch 1/100\n",
            "1/1 [==============================] - 1s 587ms/step - loss: 13.7673 - mae: 13.7673\n",
            "Epoch 2/100\n",
            "1/1 [==============================] - 0s 17ms/step - loss: 13.6985 - mae: 13.6985\n",
            "Epoch 3/100\n",
            "1/1 [==============================] - 0s 14ms/step - loss: 13.6297 - mae: 13.6297\n",
            "Epoch 4/100\n",
            "1/1 [==============================] - 0s 12ms/step - loss: 13.5608 - mae: 13.5608\n",
            "Epoch 5/100\n",
            "1/1 [==============================] - 0s 12ms/step - loss: 13.4921 - mae: 13.4921\n",
            "Epoch 6/100\n",
            "1/1 [==============================] - 0s 11ms/step - loss: 13.4233 - mae: 13.4233\n",
            "Epoch 7/100\n",
            "1/1 [==============================] - 0s 10ms/step - loss: 13.3545 - mae: 13.3545\n",
            "Epoch 8/100\n",
            "1/1 [==============================] - 0s 10ms/step - loss: 13.2858 - mae: 13.2858\n",
            "Epoch 9/100\n",
            "1/1 [==============================] - 0s 9ms/step - loss: 13.2171 - mae: 13.2171\n",
            "Epoch 10/100\n",
            "1/1 [==============================] - 0s 11ms/step - loss: 13.1484 - mae: 13.1484\n",
            "Epoch 11/100\n",
            "1/1 [==============================] - 0s 10ms/step - loss: 13.0797 - mae: 13.0797\n",
            "Epoch 12/100\n",
            "1/1 [==============================] - 0s 11ms/step - loss: 13.0110 - mae: 13.0110\n",
            "Epoch 13/100\n",
            "1/1 [==============================] - 0s 9ms/step - loss: 12.9423 - mae: 12.9423\n",
            "Epoch 14/100\n",
            "1/1 [==============================] - 0s 9ms/step - loss: 12.8737 - mae: 12.8737\n",
            "Epoch 15/100\n",
            "1/1 [==============================] - 0s 10ms/step - loss: 12.8050 - mae: 12.8050\n",
            "Epoch 16/100\n",
            "1/1 [==============================] - 0s 11ms/step - loss: 12.7364 - mae: 12.7364\n",
            "Epoch 17/100\n",
            "1/1 [==============================] - 0s 12ms/step - loss: 12.6677 - mae: 12.6677\n",
            "Epoch 18/100\n",
            "1/1 [==============================] - 0s 12ms/step - loss: 12.5991 - mae: 12.5991\n",
            "Epoch 19/100\n",
            "1/1 [==============================] - 0s 12ms/step - loss: 12.5305 - mae: 12.5305\n",
            "Epoch 20/100\n",
            "1/1 [==============================] - 0s 15ms/step - loss: 12.4619 - mae: 12.4619\n",
            "Epoch 21/100\n",
            "1/1 [==============================] - 0s 12ms/step - loss: 12.3932 - mae: 12.3932\n",
            "Epoch 22/100\n",
            "1/1 [==============================] - 0s 10ms/step - loss: 12.3246 - mae: 12.3246\n",
            "Epoch 23/100\n",
            "1/1 [==============================] - 0s 12ms/step - loss: 12.2560 - mae: 12.2560\n",
            "Epoch 24/100\n",
            "1/1 [==============================] - 0s 12ms/step - loss: 12.1874 - mae: 12.1874\n",
            "Epoch 25/100\n",
            "1/1 [==============================] - 0s 11ms/step - loss: 12.1187 - mae: 12.1187\n",
            "Epoch 26/100\n",
            "1/1 [==============================] - 0s 11ms/step - loss: 12.0501 - mae: 12.0501\n",
            "Epoch 27/100\n",
            "1/1 [==============================] - 0s 11ms/step - loss: 11.9814 - mae: 11.9814\n",
            "Epoch 28/100\n",
            "1/1 [==============================] - 0s 9ms/step - loss: 11.9127 - mae: 11.9127\n",
            "Epoch 29/100\n",
            "1/1 [==============================] - 0s 13ms/step - loss: 11.8440 - mae: 11.8440\n",
            "Epoch 30/100\n",
            "1/1 [==============================] - 0s 10ms/step - loss: 11.7753 - mae: 11.7753\n",
            "Epoch 31/100\n",
            "1/1 [==============================] - 0s 10ms/step - loss: 11.7066 - mae: 11.7066\n",
            "Epoch 32/100\n",
            "1/1 [==============================] - 0s 10ms/step - loss: 11.6378 - mae: 11.6378\n",
            "Epoch 33/100\n",
            "1/1 [==============================] - 0s 11ms/step - loss: 11.5691 - mae: 11.5691\n",
            "Epoch 34/100\n",
            "1/1 [==============================] - 0s 9ms/step - loss: 11.5002 - mae: 11.5002\n",
            "Epoch 35/100\n",
            "1/1 [==============================] - 0s 10ms/step - loss: 11.4314 - mae: 11.4314\n",
            "Epoch 36/100\n",
            "1/1 [==============================] - 0s 9ms/step - loss: 11.3625 - mae: 11.3625\n",
            "Epoch 37/100\n",
            "1/1 [==============================] - 0s 10ms/step - loss: 11.2936 - mae: 11.2936\n",
            "Epoch 38/100\n",
            "1/1 [==============================] - 0s 11ms/step - loss: 11.2246 - mae: 11.2246\n",
            "Epoch 39/100\n",
            "1/1 [==============================] - 0s 9ms/step - loss: 11.1556 - mae: 11.1556\n",
            "Epoch 40/100\n",
            "1/1 [==============================] - 0s 11ms/step - loss: 11.0865 - mae: 11.0865\n",
            "Epoch 41/100\n",
            "1/1 [==============================] - 0s 11ms/step - loss: 11.0174 - mae: 11.0174\n",
            "Epoch 42/100\n",
            "1/1 [==============================] - 0s 12ms/step - loss: 10.9482 - mae: 10.9482\n",
            "Epoch 43/100\n",
            "1/1 [==============================] - 0s 12ms/step - loss: 10.8790 - mae: 10.8790\n",
            "Epoch 44/100\n",
            "1/1 [==============================] - 0s 13ms/step - loss: 10.8098 - mae: 10.8098\n",
            "Epoch 45/100\n",
            "1/1 [==============================] - 0s 12ms/step - loss: 10.7405 - mae: 10.7405\n",
            "Epoch 46/100\n",
            "1/1 [==============================] - 0s 12ms/step - loss: 10.6712 - mae: 10.6712\n",
            "Epoch 47/100\n",
            "1/1 [==============================] - 0s 11ms/step - loss: 10.6017 - mae: 10.6017\n",
            "Epoch 48/100\n",
            "1/1 [==============================] - 0s 12ms/step - loss: 10.5322 - mae: 10.5322\n",
            "Epoch 49/100\n",
            "1/1 [==============================] - 0s 10ms/step - loss: 10.4626 - mae: 10.4626\n",
            "Epoch 50/100\n",
            "1/1 [==============================] - 0s 10ms/step - loss: 10.3930 - mae: 10.3930\n",
            "Epoch 51/100\n",
            "1/1 [==============================] - 0s 11ms/step - loss: 10.3232 - mae: 10.3232\n",
            "Epoch 52/100\n",
            "1/1 [==============================] - 0s 11ms/step - loss: 10.2534 - mae: 10.2534\n",
            "Epoch 53/100\n",
            "1/1 [==============================] - 0s 11ms/step - loss: 10.1835 - mae: 10.1835\n",
            "Epoch 54/100\n",
            "1/1 [==============================] - 0s 10ms/step - loss: 10.1136 - mae: 10.1136\n",
            "Epoch 55/100\n",
            "1/1 [==============================] - 0s 10ms/step - loss: 10.0435 - mae: 10.0435\n",
            "Epoch 56/100\n",
            "1/1 [==============================] - 0s 10ms/step - loss: 9.9734 - mae: 9.9734\n",
            "Epoch 57/100\n",
            "1/1 [==============================] - 0s 10ms/step - loss: 9.9032 - mae: 9.9032\n",
            "Epoch 58/100\n",
            "1/1 [==============================] - 0s 11ms/step - loss: 9.8328 - mae: 9.8328\n",
            "Epoch 59/100\n",
            "1/1 [==============================] - 0s 11ms/step - loss: 9.7625 - mae: 9.7625\n",
            "Epoch 60/100\n",
            "1/1 [==============================] - 0s 11ms/step - loss: 9.6920 - mae: 9.6920\n",
            "Epoch 61/100\n",
            "1/1 [==============================] - 0s 10ms/step - loss: 9.6215 - mae: 9.6215\n",
            "Epoch 62/100\n",
            "1/1 [==============================] - 0s 9ms/step - loss: 9.5547 - mae: 9.5547\n",
            "Epoch 63/100\n",
            "1/1 [==============================] - 0s 10ms/step - loss: 9.5000 - mae: 9.5000\n",
            "Epoch 64/100\n",
            "1/1 [==============================] - 0s 10ms/step - loss: 9.4450 - mae: 9.4450\n",
            "Epoch 65/100\n",
            "1/1 [==============================] - 0s 10ms/step - loss: 9.3898 - mae: 9.3898\n",
            "Epoch 66/100\n",
            "1/1 [==============================] - 0s 10ms/step - loss: 9.3342 - mae: 9.3342\n",
            "Epoch 67/100\n",
            "1/1 [==============================] - 0s 10ms/step - loss: 9.2785 - mae: 9.2785\n",
            "Epoch 68/100\n",
            "1/1 [==============================] - 0s 10ms/step - loss: 9.2224 - mae: 9.2224\n",
            "Epoch 69/100\n",
            "1/1 [==============================] - 0s 10ms/step - loss: 9.1662 - mae: 9.1662\n",
            "Epoch 70/100\n",
            "1/1 [==============================] - 0s 11ms/step - loss: 9.1097 - mae: 9.1097\n",
            "Epoch 71/100\n",
            "1/1 [==============================] - 0s 10ms/step - loss: 9.0530 - mae: 9.0530\n",
            "Epoch 72/100\n",
            "1/1 [==============================] - 0s 10ms/step - loss: 8.9961 - mae: 8.9961\n",
            "Epoch 73/100\n",
            "1/1 [==============================] - 0s 11ms/step - loss: 8.9390 - mae: 8.9390\n",
            "Epoch 74/100\n",
            "1/1 [==============================] - 0s 10ms/step - loss: 8.8817 - mae: 8.8817\n",
            "Epoch 75/100\n",
            "1/1 [==============================] - 0s 10ms/step - loss: 8.8242 - mae: 8.8242\n",
            "Epoch 76/100\n",
            "1/1 [==============================] - 0s 11ms/step - loss: 8.7664 - mae: 8.7664\n",
            "Epoch 77/100\n",
            "1/1 [==============================] - 0s 11ms/step - loss: 8.7085 - mae: 8.7085\n",
            "Epoch 78/100\n",
            "1/1 [==============================] - 0s 11ms/step - loss: 8.6504 - mae: 8.6504\n",
            "Epoch 79/100\n",
            "1/1 [==============================] - 0s 11ms/step - loss: 8.5921 - mae: 8.5921\n",
            "Epoch 80/100\n",
            "1/1 [==============================] - 0s 14ms/step - loss: 8.5336 - mae: 8.5336\n",
            "Epoch 81/100\n",
            "1/1 [==============================] - 0s 11ms/step - loss: 8.4750 - mae: 8.4750\n",
            "Epoch 82/100\n",
            "1/1 [==============================] - 0s 10ms/step - loss: 8.4161 - mae: 8.4161\n",
            "Epoch 83/100\n",
            "1/1 [==============================] - 0s 12ms/step - loss: 8.3571 - mae: 8.3571\n",
            "Epoch 84/100\n",
            "1/1 [==============================] - 0s 10ms/step - loss: 8.2978 - mae: 8.2978\n",
            "Epoch 85/100\n",
            "1/1 [==============================] - 0s 10ms/step - loss: 8.2384 - mae: 8.2384\n",
            "Epoch 86/100\n",
            "1/1 [==============================] - 0s 10ms/step - loss: 8.1788 - mae: 8.1788\n",
            "Epoch 87/100\n",
            "1/1 [==============================] - 0s 11ms/step - loss: 8.1191 - mae: 8.1191\n",
            "Epoch 88/100\n",
            "1/1 [==============================] - 0s 11ms/step - loss: 8.0592 - mae: 8.0592\n",
            "Epoch 89/100\n",
            "1/1 [==============================] - 0s 13ms/step - loss: 7.9990 - mae: 7.9990\n",
            "Epoch 90/100\n",
            "1/1 [==============================] - 0s 11ms/step - loss: 7.9387 - mae: 7.9387\n",
            "Epoch 91/100\n",
            "1/1 [==============================] - 0s 15ms/step - loss: 7.8783 - mae: 7.8783\n",
            "Epoch 92/100\n",
            "1/1 [==============================] - 0s 10ms/step - loss: 7.8177 - mae: 7.8177\n",
            "Epoch 93/100\n",
            "1/1 [==============================] - 0s 9ms/step - loss: 7.7569 - mae: 7.7569\n",
            "Epoch 94/100\n",
            "1/1 [==============================] - 0s 9ms/step - loss: 7.6959 - mae: 7.6959\n",
            "Epoch 95/100\n",
            "1/1 [==============================] - 0s 9ms/step - loss: 7.6347 - mae: 7.6347\n",
            "Epoch 96/100\n",
            "1/1 [==============================] - 0s 13ms/step - loss: 7.5734 - mae: 7.5734\n",
            "Epoch 97/100\n",
            "1/1 [==============================] - 0s 9ms/step - loss: 7.5118 - mae: 7.5118\n",
            "Epoch 98/100\n",
            "1/1 [==============================] - 0s 9ms/step - loss: 7.4501 - mae: 7.4501\n",
            "Epoch 99/100\n",
            "1/1 [==============================] - 0s 10ms/step - loss: 7.3881 - mae: 7.3881\n",
            "Epoch 100/100\n",
            "1/1 [==============================] - 0s 9ms/step - loss: 7.3260 - mae: 7.3260\n"
          ]
        },
        {
          "output_type": "execute_result",
          "data": {
            "text/plain": [
              "<keras.callbacks.History at 0x7f0eeb384760>"
            ]
          },
          "metadata": {},
          "execution_count": 56
        }
      ]
    },
    {
      "cell_type": "code",
      "source": [
        "#Predicting the values\n",
        "model.predict([27.0])"
      ],
      "metadata": {
        "colab": {
          "base_uri": "https://localhost:8080/"
        },
        "id": "hA7X0kBJHj63",
        "outputId": "e347b742-0e4a-48dd-8778-cec45272d9f1"
      },
      "execution_count": null,
      "outputs": [
        {
          "output_type": "stream",
          "name": "stdout",
          "text": [
            "1/1 [==============================] - 0s 72ms/step\n"
          ]
        },
        {
          "output_type": "execute_result",
          "data": {
            "text/plain": [
              "array([[28.429766]], dtype=float32)"
            ]
          },
          "metadata": {},
          "execution_count": 57
        }
      ]
    },
    {
      "cell_type": "code",
      "source": [
        "#Improving Model more\n",
        "\n",
        "#1. Create the model (this time with an extra hidden layer with 100 hidden units)\n",
        "model=tf.keras.Sequential([\n",
        "    tf.keras.layers.Dense(50,activation=None),\n",
        "    tf.keras.layers.Dense(1)\n",
        "])\n",
        "#2. Compiling the model\n",
        "model.compile(loss=\"mae\",\n",
        "               optimizer=tf.keras.optimizers.Adam(learning_rate=0.01),\n",
        "               metrics=[\"mae\"])\n",
        "\n",
        "#3. Fit the model\n",
        "model.fit(tf.expand_dims(X,axis=-1),y,epochs=100)\n"
      ],
      "metadata": {
        "colab": {
          "base_uri": "https://localhost:8080/"
        },
        "id": "m6pGIUukA9ir",
        "outputId": "77ed6fa3-cd40-408e-a83a-a06d8e218f73"
      },
      "execution_count": null,
      "outputs": [
        {
          "output_type": "stream",
          "name": "stdout",
          "text": [
            "Epoch 1/100\n",
            "1/1 [==============================] - 1s 612ms/step - loss: 13.4403 - mae: 13.4403\n",
            "Epoch 2/100\n",
            "1/1 [==============================] - 0s 12ms/step - loss: 12.6989 - mae: 12.6989\n",
            "Epoch 3/100\n",
            "1/1 [==============================] - 0s 12ms/step - loss: 11.9614 - mae: 11.9614\n",
            "Epoch 4/100\n",
            "1/1 [==============================] - 0s 10ms/step - loss: 11.2262 - mae: 11.2262\n",
            "Epoch 5/100\n",
            "1/1 [==============================] - 0s 14ms/step - loss: 10.4919 - mae: 10.4919\n",
            "Epoch 6/100\n",
            "1/1 [==============================] - 0s 11ms/step - loss: 9.7559 - mae: 9.7559\n",
            "Epoch 7/100\n",
            "1/1 [==============================] - 0s 10ms/step - loss: 9.0156 - mae: 9.0156\n",
            "Epoch 8/100\n",
            "1/1 [==============================] - 0s 11ms/step - loss: 8.2682 - mae: 8.2682\n",
            "Epoch 9/100\n",
            "1/1 [==============================] - 0s 10ms/step - loss: 7.5105 - mae: 7.5105\n",
            "Epoch 10/100\n",
            "1/1 [==============================] - 0s 10ms/step - loss: 6.7694 - mae: 6.7694\n",
            "Epoch 11/100\n",
            "1/1 [==============================] - 0s 10ms/step - loss: 6.7167 - mae: 6.7167\n",
            "Epoch 12/100\n",
            "1/1 [==============================] - 0s 10ms/step - loss: 6.9944 - mae: 6.9944\n",
            "Epoch 13/100\n",
            "1/1 [==============================] - 0s 10ms/step - loss: 7.1612 - mae: 7.1612\n",
            "Epoch 14/100\n",
            "1/1 [==============================] - 0s 11ms/step - loss: 7.2337 - mae: 7.2337\n",
            "Epoch 15/100\n",
            "1/1 [==============================] - 0s 10ms/step - loss: 7.2767 - mae: 7.2767\n",
            "Epoch 16/100\n",
            "1/1 [==============================] - 0s 14ms/step - loss: 7.1354 - mae: 7.1354\n",
            "Epoch 17/100\n",
            "1/1 [==============================] - 0s 11ms/step - loss: 6.9245 - mae: 6.9245\n",
            "Epoch 18/100\n",
            "1/1 [==============================] - 0s 10ms/step - loss: 6.7034 - mae: 6.7034\n",
            "Epoch 19/100\n",
            "1/1 [==============================] - 0s 13ms/step - loss: 6.4572 - mae: 6.4572\n",
            "Epoch 20/100\n",
            "1/1 [==============================] - 0s 11ms/step - loss: 6.1909 - mae: 6.1909\n",
            "Epoch 21/100\n",
            "1/1 [==============================] - 0s 11ms/step - loss: 6.0359 - mae: 6.0359\n",
            "Epoch 22/100\n",
            "1/1 [==============================] - 0s 13ms/step - loss: 5.9829 - mae: 5.9829\n",
            "Epoch 23/100\n",
            "1/1 [==============================] - 0s 11ms/step - loss: 6.0299 - mae: 6.0299\n",
            "Epoch 24/100\n",
            "1/1 [==============================] - 0s 11ms/step - loss: 6.0771 - mae: 6.0771\n",
            "Epoch 25/100\n",
            "1/1 [==============================] - 0s 11ms/step - loss: 6.0195 - mae: 6.0195\n",
            "Epoch 26/100\n",
            "1/1 [==============================] - 0s 10ms/step - loss: 5.8708 - mae: 5.8708\n",
            "Epoch 27/100\n",
            "1/1 [==============================] - 0s 9ms/step - loss: 5.6409 - mae: 5.6409\n",
            "Epoch 28/100\n",
            "1/1 [==============================] - 0s 10ms/step - loss: 5.4861 - mae: 5.4861\n",
            "Epoch 29/100\n",
            "1/1 [==============================] - 0s 10ms/step - loss: 5.3775 - mae: 5.3775\n",
            "Epoch 30/100\n",
            "1/1 [==============================] - 0s 11ms/step - loss: 5.2987 - mae: 5.2987\n",
            "Epoch 31/100\n",
            "1/1 [==============================] - 0s 10ms/step - loss: 5.2873 - mae: 5.2873\n",
            "Epoch 32/100\n",
            "1/1 [==============================] - 0s 10ms/step - loss: 5.2287 - mae: 5.2287\n",
            "Epoch 33/100\n",
            "1/1 [==============================] - 0s 10ms/step - loss: 5.1265 - mae: 5.1265\n",
            "Epoch 34/100\n",
            "1/1 [==============================] - 0s 10ms/step - loss: 4.9844 - mae: 4.9844\n",
            "Epoch 35/100\n",
            "1/1 [==============================] - 0s 10ms/step - loss: 4.8056 - mae: 4.8056\n",
            "Epoch 36/100\n",
            "1/1 [==============================] - 0s 10ms/step - loss: 4.6657 - mae: 4.6657\n",
            "Epoch 37/100\n",
            "1/1 [==============================] - 0s 10ms/step - loss: 4.5647 - mae: 4.5647\n",
            "Epoch 38/100\n",
            "1/1 [==============================] - 0s 10ms/step - loss: 4.4565 - mae: 4.4565\n",
            "Epoch 39/100\n",
            "1/1 [==============================] - 0s 11ms/step - loss: 4.3650 - mae: 4.3650\n",
            "Epoch 40/100\n",
            "1/1 [==============================] - 0s 12ms/step - loss: 4.2274 - mae: 4.2274\n",
            "Epoch 41/100\n",
            "1/1 [==============================] - 0s 10ms/step - loss: 4.0630 - mae: 4.0630\n",
            "Epoch 42/100\n",
            "1/1 [==============================] - 0s 10ms/step - loss: 3.9098 - mae: 3.9098\n",
            "Epoch 43/100\n",
            "1/1 [==============================] - 0s 11ms/step - loss: 3.7496 - mae: 3.7496\n",
            "Epoch 44/100\n",
            "1/1 [==============================] - 0s 10ms/step - loss: 3.6472 - mae: 3.6472\n",
            "Epoch 45/100\n",
            "1/1 [==============================] - 0s 10ms/step - loss: 3.5191 - mae: 3.5191\n",
            "Epoch 46/100\n",
            "1/1 [==============================] - 0s 12ms/step - loss: 3.3343 - mae: 3.3343\n",
            "Epoch 47/100\n",
            "1/1 [==============================] - 0s 12ms/step - loss: 3.0959 - mae: 3.0959\n",
            "Epoch 48/100\n",
            "1/1 [==============================] - 0s 11ms/step - loss: 2.9275 - mae: 2.9275\n",
            "Epoch 49/100\n",
            "1/1 [==============================] - 0s 12ms/step - loss: 2.7962 - mae: 2.7962\n",
            "Epoch 50/100\n",
            "1/1 [==============================] - 0s 10ms/step - loss: 2.6165 - mae: 2.6165\n",
            "Epoch 51/100\n",
            "1/1 [==============================] - 0s 11ms/step - loss: 2.3430 - mae: 2.3430\n",
            "Epoch 52/100\n",
            "1/1 [==============================] - 0s 10ms/step - loss: 2.1176 - mae: 2.1176\n",
            "Epoch 53/100\n",
            "1/1 [==============================] - 0s 10ms/step - loss: 1.9728 - mae: 1.9728\n",
            "Epoch 54/100\n",
            "1/1 [==============================] - 0s 11ms/step - loss: 1.7709 - mae: 1.7709\n",
            "Epoch 55/100\n",
            "1/1 [==============================] - 0s 11ms/step - loss: 1.4962 - mae: 1.4962\n",
            "Epoch 56/100\n",
            "1/1 [==============================] - 0s 10ms/step - loss: 1.1757 - mae: 1.1757\n",
            "Epoch 57/100\n",
            "1/1 [==============================] - 0s 9ms/step - loss: 0.9867 - mae: 0.9867\n",
            "Epoch 58/100\n",
            "1/1 [==============================] - 0s 10ms/step - loss: 0.6833 - mae: 0.6833\n",
            "Epoch 59/100\n",
            "1/1 [==============================] - 0s 11ms/step - loss: 0.4800 - mae: 0.4800\n",
            "Epoch 60/100\n",
            "1/1 [==============================] - 0s 10ms/step - loss: 0.2677 - mae: 0.2677\n",
            "Epoch 61/100\n",
            "1/1 [==============================] - 0s 10ms/step - loss: 0.2842 - mae: 0.2842\n",
            "Epoch 62/100\n",
            "1/1 [==============================] - 0s 10ms/step - loss: 0.5045 - mae: 0.5045\n",
            "Epoch 63/100\n",
            "1/1 [==============================] - 0s 10ms/step - loss: 0.6137 - mae: 0.6137\n",
            "Epoch 64/100\n",
            "1/1 [==============================] - 0s 10ms/step - loss: 0.7139 - mae: 0.7139\n",
            "Epoch 65/100\n",
            "1/1 [==============================] - 0s 10ms/step - loss: 0.7694 - mae: 0.7694\n",
            "Epoch 66/100\n",
            "1/1 [==============================] - 0s 11ms/step - loss: 0.7936 - mae: 0.7936\n",
            "Epoch 67/100\n",
            "1/1 [==============================] - 0s 11ms/step - loss: 0.7543 - mae: 0.7543\n",
            "Epoch 68/100\n",
            "1/1 [==============================] - 0s 10ms/step - loss: 0.6932 - mae: 0.6932\n",
            "Epoch 69/100\n",
            "1/1 [==============================] - 0s 10ms/step - loss: 0.6008 - mae: 0.6008\n",
            "Epoch 70/100\n",
            "1/1 [==============================] - 0s 10ms/step - loss: 0.5389 - mae: 0.5389\n",
            "Epoch 71/100\n",
            "1/1 [==============================] - 0s 9ms/step - loss: 0.3759 - mae: 0.3759\n",
            "Epoch 72/100\n",
            "1/1 [==============================] - 0s 9ms/step - loss: 0.2972 - mae: 0.2972\n",
            "Epoch 73/100\n",
            "1/1 [==============================] - 0s 9ms/step - loss: 0.2404 - mae: 0.2404\n",
            "Epoch 74/100\n",
            "1/1 [==============================] - 0s 9ms/step - loss: 0.1805 - mae: 0.1805\n",
            "Epoch 75/100\n",
            "1/1 [==============================] - 0s 10ms/step - loss: 0.3157 - mae: 0.3157\n",
            "Epoch 76/100\n",
            "1/1 [==============================] - 0s 9ms/step - loss: 0.2912 - mae: 0.2912\n",
            "Epoch 77/100\n",
            "1/1 [==============================] - 0s 11ms/step - loss: 0.3949 - mae: 0.3949\n",
            "Epoch 78/100\n",
            "1/1 [==============================] - 0s 10ms/step - loss: 0.3317 - mae: 0.3317\n",
            "Epoch 79/100\n",
            "1/1 [==============================] - 0s 10ms/step - loss: 0.3205 - mae: 0.3205\n",
            "Epoch 80/100\n",
            "1/1 [==============================] - 0s 11ms/step - loss: 0.2399 - mae: 0.2399\n",
            "Epoch 81/100\n",
            "1/1 [==============================] - 0s 10ms/step - loss: 0.2382 - mae: 0.2382\n",
            "Epoch 82/100\n",
            "1/1 [==============================] - 0s 10ms/step - loss: 0.0959 - mae: 0.0959\n",
            "Epoch 83/100\n",
            "1/1 [==============================] - 0s 10ms/step - loss: 0.3585 - mae: 0.3585\n",
            "Epoch 84/100\n",
            "1/1 [==============================] - 0s 15ms/step - loss: 0.4300 - mae: 0.4300\n",
            "Epoch 85/100\n",
            "1/1 [==============================] - 0s 12ms/step - loss: 0.2433 - mae: 0.2433\n",
            "Epoch 86/100\n",
            "1/1 [==============================] - 0s 10ms/step - loss: 0.4415 - mae: 0.4415\n",
            "Epoch 87/100\n",
            "1/1 [==============================] - 0s 10ms/step - loss: 0.5827 - mae: 0.5827\n",
            "Epoch 88/100\n",
            "1/1 [==============================] - 0s 10ms/step - loss: 0.4859 - mae: 0.4859\n",
            "Epoch 89/100\n",
            "1/1 [==============================] - 0s 10ms/step - loss: 0.1983 - mae: 0.1983\n",
            "Epoch 90/100\n",
            "1/1 [==============================] - 0s 11ms/step - loss: 0.4282 - mae: 0.4282\n",
            "Epoch 91/100\n",
            "1/1 [==============================] - 0s 10ms/step - loss: 0.5519 - mae: 0.5519\n",
            "Epoch 92/100\n",
            "1/1 [==============================] - 0s 10ms/step - loss: 0.3878 - mae: 0.3878\n",
            "Epoch 93/100\n",
            "1/1 [==============================] - 0s 10ms/step - loss: 0.1599 - mae: 0.1599\n",
            "Epoch 94/100\n",
            "1/1 [==============================] - 0s 9ms/step - loss: 0.4050 - mae: 0.4050\n",
            "Epoch 95/100\n",
            "1/1 [==============================] - 0s 10ms/step - loss: 0.4066 - mae: 0.4066\n",
            "Epoch 96/100\n",
            "1/1 [==============================] - 0s 10ms/step - loss: 0.2010 - mae: 0.2010\n",
            "Epoch 97/100\n",
            "1/1 [==============================] - 0s 10ms/step - loss: 0.3242 - mae: 0.3242\n",
            "Epoch 98/100\n",
            "1/1 [==============================] - 0s 10ms/step - loss: 0.3959 - mae: 0.3959\n",
            "Epoch 99/100\n",
            "1/1 [==============================] - 0s 9ms/step - loss: 0.2284 - mae: 0.2284\n",
            "Epoch 100/100\n",
            "1/1 [==============================] - 0s 9ms/step - loss: 0.1956 - mae: 0.1956\n"
          ]
        },
        {
          "output_type": "execute_result",
          "data": {
            "text/plain": [
              "<keras.callbacks.History at 0x7f0ee20c1420>"
            ]
          },
          "metadata": {},
          "execution_count": 54
        }
      ]
    },
    {
      "cell_type": "code",
      "source": [
        "#Predicting the values\n",
        "model.predict([27.0])"
      ],
      "metadata": {
        "colab": {
          "base_uri": "https://localhost:8080/"
        },
        "id": "_JsVImI1EY15",
        "outputId": "14e4efb6-4177-47ef-ec00-5ec01dd3e109"
      },
      "execution_count": null,
      "outputs": [
        {
          "output_type": "stream",
          "name": "stdout",
          "text": [
            "1/1 [==============================] - 0s 102ms/step\n"
          ]
        },
        {
          "output_type": "execute_result",
          "data": {
            "text/plain": [
              "array([[38.17404]], dtype=float32)"
            ]
          },
          "metadata": {},
          "execution_count": 55
        }
      ]
    },
    {
      "cell_type": "markdown",
      "source": [
        "## Evaluating a Model\n",
        "In practice, a typical workflow, you'll go through when building a neural network is:\n",
        "\n",
        "```\n",
        "Build a model -> Fit the Model -> Evaluate the model -> Tweak the model -> Fit the model -> Evaluate the model\n",
        "```\n",
        "\n",
        "When we are evaluating the models, We should always visualise.\n",
        "\n",
        "It is good to visualize:-\n",
        "* The data\n",
        "* The model itself\n",
        "* The training of a model\n",
        "* The predictions of a model\n"
      ],
      "metadata": {
        "id": "N57PbjEWEp3G"
      }
    },
    {
      "cell_type": "code",
      "source": [
        "# Make a bigger dataset\n",
        "X=tf.range(-100,100,4)\n",
        "X"
      ],
      "metadata": {
        "colab": {
          "base_uri": "https://localhost:8080/"
        },
        "id": "Ro1H4WBdJ6Q0",
        "outputId": "cb6948aa-fcf6-44f7-c032-467c5677413f"
      },
      "execution_count": null,
      "outputs": [
        {
          "output_type": "execute_result",
          "data": {
            "text/plain": [
              "<tf.Tensor: shape=(50,), dtype=int32, numpy=\n",
              "array([-100,  -96,  -92,  -88,  -84,  -80,  -76,  -72,  -68,  -64,  -60,\n",
              "        -56,  -52,  -48,  -44,  -40,  -36,  -32,  -28,  -24,  -20,  -16,\n",
              "        -12,   -8,   -4,    0,    4,    8,   12,   16,   20,   24,   28,\n",
              "         32,   36,   40,   44,   48,   52,   56,   60,   64,   68,   72,\n",
              "         76,   80,   84,   88,   92,   96], dtype=int32)>"
            ]
          },
          "metadata": {},
          "execution_count": 8
        }
      ]
    },
    {
      "cell_type": "code",
      "source": [
        "# Make labels for the dataset\n",
        "y=X+10\n",
        "y"
      ],
      "metadata": {
        "colab": {
          "base_uri": "https://localhost:8080/"
        },
        "id": "UBCaa4uvJ1ji",
        "outputId": "a48dea89-346c-45be-a49b-7aa7a355b537"
      },
      "execution_count": null,
      "outputs": [
        {
          "output_type": "execute_result",
          "data": {
            "text/plain": [
              "<tf.Tensor: shape=(50,), dtype=int32, numpy=\n",
              "array([-90, -86, -82, -78, -74, -70, -66, -62, -58, -54, -50, -46, -42,\n",
              "       -38, -34, -30, -26, -22, -18, -14, -10,  -6,  -2,   2,   6,  10,\n",
              "        14,  18,  22,  26,  30,  34,  38,  42,  46,  50,  54,  58,  62,\n",
              "        66,  70,  74,  78,  82,  86,  90,  94,  98, 102, 106], dtype=int32)>"
            ]
          },
          "metadata": {},
          "execution_count": 9
        }
      ]
    },
    {
      "cell_type": "code",
      "source": [
        "#Visualise the data\n",
        "plt.plot(X,y)"
      ],
      "metadata": {
        "colab": {
          "base_uri": "https://localhost:8080/",
          "height": 448
        },
        "id": "exWKtfLIHdYl",
        "outputId": "d19b63b8-0a14-4224-91f2-3f49760a5933"
      },
      "execution_count": null,
      "outputs": [
        {
          "output_type": "execute_result",
          "data": {
            "text/plain": [
              "[<matplotlib.lines.Line2D at 0x7f0ee1f9c7f0>]"
            ]
          },
          "metadata": {},
          "execution_count": 60
        },
        {
          "output_type": "display_data",
          "data": {
            "text/plain": [
              "<Figure size 640x480 with 1 Axes>"
            ],
            "image/png": "[encoded data removed]"
          },
          "metadata": {}
        }
      ]
    },
    {
      "cell_type": "code",
      "source": [
        "plt.scatter(X,y)"
      ],
      "metadata": {
        "colab": {
          "base_uri": "https://localhost:8080/",
          "height": 448
        },
        "id": "noICSdwaKNZU",
        "outputId": "bd8c2d9d-1c6b-4f7e-adfb-3955d0ac2a38"
      },
      "execution_count": null,
      "outputs": [
        {
          "output_type": "execute_result",
          "data": {
            "text/plain": [
              "<matplotlib.collections.PathCollection at 0x7f0eeb3848e0>"
            ]
          },
          "metadata": {},
          "execution_count": 61
        },
        {
          "output_type": "display_data",
          "data": {
            "text/plain": [
              "<Figure size 640x480 with 1 Axes>"
            ],
            "image/png": "[encoded data removed]"
          },
          "metadata": {}
        }
      ]
    },
    {
      "cell_type": "markdown",
      "source": [
        "### The 3 sets....\n",
        "* **Training Set** - The model learns from this data , typically 7-80% of the total data.\n",
        "* **Validation Set** - The models gets tunes on this data, which is typically 10-15% of the data available\n",
        "* **Test Set** - The model gets evaluated on this data, which is typically 10-15% of the data available.\n",
        "\n"
      ],
      "metadata": {
        "id": "iTSYlhKLKTMU"
      }
    },
    {
      "cell_type": "code",
      "source": [
        "len(X)"
      ],
      "metadata": {
        "colab": {
          "base_uri": "https://localhost:8080/"
        },
        "id": "bI1atFPULWEw",
        "outputId": "56af826d-82b1-4626-ca10-b15c767b8f9e"
      },
      "execution_count": null,
      "outputs": [
        {
          "output_type": "execute_result",
          "data": {
            "text/plain": [
              "50"
            ]
          },
          "metadata": {},
          "execution_count": 63
        }
      ]
    },
    {
      "cell_type": "code",
      "source": [
        "#Train Test Split\n",
        "X_train=X[:40] #first 40 are training samples (80% of the data)\n",
        "y_train=y[:40]\n",
        "\n",
        "X_test=X[40:] #last 10 are testing samples (20% of the data)\n",
        "y_test=y[40:]\n",
        "\n",
        "len(X_train),len(X_test), len(y_train), len(y_test)"
      ],
      "metadata": {
        "colab": {
          "base_uri": "https://localhost:8080/"
        },
        "id": "4QxMoK55N8ZB",
        "outputId": "3c7e589c-cfe8-46ae-9445-97bafd85bdf0"
      },
      "execution_count": null,
      "outputs": [
        {
          "output_type": "execute_result",
          "data": {
            "text/plain": [
              "(40, 10, 40, 10)"
            ]
          },
          "metadata": {},
          "execution_count": 50
        }
      ]
    },
    {
      "cell_type": "markdown",
      "source": [
        "### Visualising Training and Testing Data"
      ],
      "metadata": {
        "id": "6B_e_T2MOe83"
      }
    },
    {
      "cell_type": "code",
      "source": [
        "plt.figure(figsize=(10,7))\n",
        "\n",
        "# Plot training data in blue\n",
        "plt.scatter(X_train,y_train,c=\"b\",label=\"Training Data\")\n",
        "\n",
        "# Plot the testing data in green\n",
        "plt.scatter(X_test,y_test,c=\"g\",label=\"Test Data\")"
      ],
      "metadata": {
        "colab": {
          "base_uri": "https://localhost:8080/"
        },
        "id": "EMdnIEZ4Orjw",
        "outputId": "ae96af3e-454c-47e8-f09e-70ee3edb65c1"
      },
      "execution_count": null,
      "outputs": [
        {
          "output_type": "execute_result",
          "data": {
            "text/plain": [
              "<matplotlib.collections.PathCollection at 0x7f6136df7970>"
            ]
          },
          "metadata": {},
          "execution_count": 51
        },
        {
          "output_type": "display_data",
          "data": {
            "text/plain": [
              "<Figure size 1000x700 with 1 Axes>"
            ],
            "image/png": "[encoded data removed]"
          },
          "metadata": {}
        }
      ]
    },
    {
      "cell_type": "markdown",
      "source": [
        "### Building Neural Network for the new Data"
      ],
      "metadata": {
        "id": "3fC8tS8POqqD"
      }
    },
    {
      "cell_type": "code",
      "source": [
        "#1. Create a model\n",
        "model=tf.keras.Sequential([\n",
        "    tf.keras.layers.Dense(1)\n",
        "])\n",
        "\n",
        "#2. Compile the model\n",
        "model.compile(loss=tf.keras.losses.mae,\n",
        "               optimizer=tf.keras.optimizers.SGD(),\n",
        "               metrics=[\"mae\"])\n",
        "\n",
        "#3. Fit the model\n",
        "#model.fit(tf.expand_dims(X_train,axis=-1),y_train,epochs=100)"
      ],
      "metadata": {
        "id": "_tNNB1fQPXw0"
      },
      "execution_count": null,
      "outputs": []
    },
    {
      "cell_type": "markdown",
      "source": [
        "### Visualising the new Neural Network Model\n"
      ],
      "metadata": {
        "id": "FZPicn43QM8A"
      }
    },
    {
      "cell_type": "code",
      "source": [
        "model.summary()"
      ],
      "metadata": {
        "colab": {
          "base_uri": "https://localhost:8080/",
          "height": 350
        },
        "id": "3mMXUETxQTtw",
        "outputId": "88cc996d-c5c8-4226-dee6-a681d16f5692"
      },
      "execution_count": null,
      "outputs": [
        {
          "output_type": "error",
          "ename": "ValueError",
          "evalue": "ignored",
          "traceback": [
            "\u001b[0;31m---------------------------------------------------------------------------\u001b[0m",
            "\u001b[0;31mValueError\u001b[0m                                Traceback (most recent call last)",
            "\u001b[0;32m<ipython-input-75-5f15418b3570>\u001b[0m in \u001b[0;36m<cell line: 1>\u001b[0;34m()\u001b[0m\n\u001b[0;32m----> 1\u001b[0;31m \u001b[0mmodel\u001b[0m\u001b[0;34m.\u001b[0m\u001b[0msummary\u001b[0m\u001b[0;34m(\u001b[0m\u001b[0;34m)\u001b[0m\u001b[0;34m\u001b[0m\u001b[0;34m\u001b[0m\u001b[0m\n\u001b[0m",
            "\u001b[0;32m/usr/local/lib/python3.10/dist-packages/keras/engine/training.py\u001b[0m in \u001b[0;36msummary\u001b[0;34m(self, line_length, positions, print_fn, expand_nested, show_trainable, layer_range)\u001b[0m\n\u001b[1;32m   3227\u001b[0m         \"\"\"\n\u001b[1;32m   3228\u001b[0m         \u001b[0;32mif\u001b[0m \u001b[0;32mnot\u001b[0m \u001b[0mself\u001b[0m\u001b[0;34m.\u001b[0m\u001b[0mbuilt\u001b[0m\u001b[0;34m:\u001b[0m\u001b[0;34m\u001b[0m\u001b[0;34m\u001b[0m\u001b[0m\n\u001b[0;32m-> 3229\u001b[0;31m             raise ValueError(\n\u001b[0m\u001b[1;32m   3230\u001b[0m                 \u001b[0;34m\"This model has not yet been built. \"\u001b[0m\u001b[0;34m\u001b[0m\u001b[0;34m\u001b[0m\u001b[0m\n\u001b[1;32m   3231\u001b[0m                 \u001b[0;34m\"Build the model first by calling `build()` or by calling \"\u001b[0m\u001b[0;34m\u001b[0m\u001b[0;34m\u001b[0m\u001b[0m\n",
            "\u001b[0;31mValueError\u001b[0m: This model has not yet been built. Build the model first by calling `build()` or by calling the model on a batch of data."
          ]
        }
      ]
    },
    {
      "cell_type": "code",
      "source": [
        "tf.random.set_seed(42)\n",
        "\n",
        "#1. Creating the model\n",
        "model=tf.keras.Sequential([\n",
        "    tf.keras.layers.Dense(100,input_shape=[1])\n",
        "])\n",
        "\n",
        "#2. Compile the model\n",
        "model.compile(loss=tf.keras.losses.mae,\n",
        "              optimizer=tf.keras.optimizers.SGD(),\n",
        "              metrics=[\"mae\"])"
      ],
      "metadata": {
        "id": "8Ft5gns1Qg3S"
      },
      "execution_count": null,
      "outputs": []
    },
    {
      "cell_type": "code",
      "source": [
        "model.summary()"
      ],
      "metadata": {
        "id": "z7uvhY6SRBxE",
        "outputId": "e4098e76-4482-4b33-a5c1-8cd5ed000978",
        "colab": {
          "base_uri": "https://localhost:8080/"
        }
      },
      "execution_count": null,
      "outputs": [
        {
          "output_type": "stream",
          "name": "stdout",
          "text": [
            "Model: \"sequential_3\"\n",
            "_________________________________________________________________\n",
            " Layer (type)                Output Shape              Param #   \n",
            "=================================================================\n",
            " dense_3 (Dense)             (None, 100)               200       \n",
            "                                                                 \n",
            "=================================================================\n",
            "Total params: 200\n",
            "Trainable params: 200\n",
            "Non-trainable params: 0\n",
            "_________________________________________________________________\n"
          ]
        }
      ]
    },
    {
      "cell_type": "markdown",
      "source": [
        "* Total params - total number of parameters in the model\n",
        "* Trainable Parameteres - These are the parameters (patterns) the model can update as it trains.\n",
        "* Non-trainable params - These parameters aren't updated during training ( this is typical when you bring in already learn patterns or parameters from other models during **transfer learning**\n",
        "\n",
        "\n",
        "**Resource:** For a more in-depth overview of the trainable parameters within a layer, check out MIT's introduction to deep learning video.\n"
      ],
      "metadata": {
        "id": "QE_B7126vQp8"
      }
    },
    {
      "cell_type": "code",
      "source": [
        "# Fitting the model\n",
        "model.fit(X_train,y_train,epochs=100)"
      ],
      "metadata": {
        "colab": {
          "base_uri": "https://localhost:8080/"
        },
        "id": "DzMjnftIxPpp",
        "outputId": "bb69aee4-86a4-402d-dc60-d3cae8e67fc5"
      },
      "execution_count": null,
      "outputs": [
        {
          "output_type": "stream",
          "name": "stdout",
          "text": [
            "Epoch 1/100\n",
            "2/2 [==============================] - 0s 18ms/step - loss: 41.2007 - mae: 41.2007\n",
            "Epoch 2/100\n",
            "2/2 [==============================] - 0s 11ms/step - loss: 40.8528 - mae: 40.8528\n",
            "Epoch 3/100\n",
            "2/2 [==============================] - 0s 10ms/step - loss: 40.4826 - mae: 40.4826\n",
            "Epoch 4/100\n",
            "2/2 [==============================] - 0s 9ms/step - loss: 40.1284 - mae: 40.1284\n",
            "Epoch 5/100\n",
            "2/2 [==============================] - 0s 10ms/step - loss: 39.7713 - mae: 39.7713\n",
            "Epoch 6/100\n",
            "2/2 [==============================] - 0s 8ms/step - loss: 39.4340 - mae: 39.4340\n",
            "Epoch 7/100\n",
            "2/2 [==============================] - 0s 9ms/step - loss: 39.0996 - mae: 39.0996\n",
            "Epoch 8/100\n",
            "2/2 [==============================] - 0s 8ms/step - loss: 38.7398 - mae: 38.7398\n",
            "Epoch 9/100\n",
            "2/2 [==============================] - 0s 7ms/step - loss: 38.3325 - mae: 38.3325\n",
            "Epoch 10/100\n",
            "2/2 [==============================] - 0s 9ms/step - loss: 37.9661 - mae: 37.9661\n",
            "Epoch 11/100\n",
            "2/2 [==============================] - 0s 11ms/step - loss: 37.6268 - mae: 37.6268\n",
            "Epoch 12/100\n",
            "2/2 [==============================] - 0s 8ms/step - loss: 37.2417 - mae: 37.2417\n",
            "Epoch 13/100\n",
            "2/2 [==============================] - 0s 8ms/step - loss: 36.8665 - mae: 36.8665\n",
            "Epoch 14/100\n",
            "2/2 [==============================] - 0s 10ms/step - loss: 36.4613 - mae: 36.4613\n",
            "Epoch 15/100\n",
            "2/2 [==============================] - 0s 8ms/step - loss: 36.0922 - mae: 36.0922\n",
            "Epoch 16/100\n",
            "2/2 [==============================] - 0s 10ms/step - loss: 35.7510 - mae: 35.7510\n",
            "Epoch 17/100\n",
            "2/2 [==============================] - 0s 8ms/step - loss: 35.3875 - mae: 35.3875\n",
            "Epoch 18/100\n",
            "2/2 [==============================] - 0s 11ms/step - loss: 35.0155 - mae: 35.0155\n",
            "Epoch 19/100\n",
            "2/2 [==============================] - 0s 9ms/step - loss: 34.6574 - mae: 34.6574\n",
            "Epoch 20/100\n",
            "2/2 [==============================] - 0s 9ms/step - loss: 34.3189 - mae: 34.3189\n",
            "Epoch 21/100\n",
            "2/2 [==============================] - 0s 8ms/step - loss: 33.9549 - mae: 33.9549\n",
            "Epoch 22/100\n",
            "2/2 [==============================] - 0s 11ms/step - loss: 33.5977 - mae: 33.5977\n",
            "Epoch 23/100\n",
            "2/2 [==============================] - 0s 10ms/step - loss: 33.2752 - mae: 33.2752\n",
            "Epoch 24/100\n",
            "2/2 [==============================] - 0s 8ms/step - loss: 32.9473 - mae: 32.9473\n",
            "Epoch 25/100\n",
            "2/2 [==============================] - 0s 9ms/step - loss: 32.5843 - mae: 32.5843\n",
            "Epoch 26/100\n",
            "2/2 [==============================] - 0s 11ms/step - loss: 32.2067 - mae: 32.2067\n",
            "Epoch 27/100\n",
            "2/2 [==============================] - 0s 9ms/step - loss: 31.8441 - mae: 31.8441\n",
            "Epoch 28/100\n",
            "2/2 [==============================] - 0s 9ms/step - loss: 31.4623 - mae: 31.4623\n",
            "Epoch 29/100\n",
            "2/2 [==============================] - 0s 10ms/step - loss: 31.1037 - mae: 31.1037\n",
            "Epoch 30/100\n",
            "2/2 [==============================] - 0s 12ms/step - loss: 30.6819 - mae: 30.6819\n",
            "Epoch 31/100\n",
            "2/2 [==============================] - 0s 9ms/step - loss: 30.2515 - mae: 30.2515\n",
            "Epoch 32/100\n",
            "2/2 [==============================] - 0s 10ms/step - loss: 29.9082 - mae: 29.9082\n",
            "Epoch 33/100\n",
            "2/2 [==============================] - 0s 11ms/step - loss: 29.5645 - mae: 29.5645\n",
            "Epoch 34/100\n",
            "2/2 [==============================] - 0s 9ms/step - loss: 29.2188 - mae: 29.2188\n",
            "Epoch 35/100\n",
            "2/2 [==============================] - 0s 8ms/step - loss: 28.8919 - mae: 28.8919\n",
            "Epoch 36/100\n",
            "2/2 [==============================] - 0s 10ms/step - loss: 28.5421 - mae: 28.5421\n",
            "Epoch 37/100\n",
            "2/2 [==============================] - 0s 9ms/step - loss: 28.2315 - mae: 28.2315\n",
            "Epoch 38/100\n",
            "2/2 [==============================] - 0s 9ms/step - loss: 27.8884 - mae: 27.8884\n",
            "Epoch 39/100\n",
            "2/2 [==============================] - 0s 9ms/step - loss: 27.5477 - mae: 27.5477\n",
            "Epoch 40/100\n",
            "2/2 [==============================] - 0s 10ms/step - loss: 27.2091 - mae: 27.2091\n",
            "Epoch 41/100\n",
            "2/2 [==============================] - 0s 9ms/step - loss: 26.8735 - mae: 26.8735\n",
            "Epoch 42/100\n",
            "2/2 [==============================] - 0s 10ms/step - loss: 26.5443 - mae: 26.5443\n",
            "Epoch 43/100\n",
            "2/2 [==============================] - 0s 10ms/step - loss: 26.2198 - mae: 26.2198\n",
            "Epoch 44/100\n",
            "2/2 [==============================] - 0s 9ms/step - loss: 25.8382 - mae: 25.8382\n",
            "Epoch 45/100\n",
            "2/2 [==============================] - 0s 10ms/step - loss: 25.4995 - mae: 25.4995\n",
            "Epoch 46/100\n",
            "2/2 [==============================] - 0s 8ms/step - loss: 25.1764 - mae: 25.1764\n",
            "Epoch 47/100\n",
            "2/2 [==============================] - 0s 10ms/step - loss: 24.8925 - mae: 24.8925\n",
            "Epoch 48/100\n",
            "2/2 [==============================] - 0s 9ms/step - loss: 24.5795 - mae: 24.5795\n",
            "Epoch 49/100\n",
            "2/2 [==============================] - 0s 11ms/step - loss: 24.2687 - mae: 24.2687\n",
            "Epoch 50/100\n",
            "2/2 [==============================] - 0s 9ms/step - loss: 23.9554 - mae: 23.9554\n",
            "Epoch 51/100\n",
            "2/2 [==============================] - 0s 8ms/step - loss: 23.6340 - mae: 23.6340\n",
            "Epoch 52/100\n",
            "2/2 [==============================] - 0s 8ms/step - loss: 23.2494 - mae: 23.2494\n",
            "Epoch 53/100\n",
            "2/2 [==============================] - 0s 8ms/step - loss: 22.8908 - mae: 22.8908\n",
            "Epoch 54/100\n",
            "2/2 [==============================] - 0s 9ms/step - loss: 22.4990 - mae: 22.4990\n",
            "Epoch 55/100\n",
            "2/2 [==============================] - 0s 10ms/step - loss: 22.1274 - mae: 22.1274\n",
            "Epoch 56/100\n",
            "2/2 [==============================] - 0s 10ms/step - loss: 21.8061 - mae: 21.8061\n",
            "Epoch 57/100\n",
            "2/2 [==============================] - 0s 9ms/step - loss: 21.4847 - mae: 21.4847\n",
            "Epoch 58/100\n",
            "2/2 [==============================] - 0s 9ms/step - loss: 21.1900 - mae: 21.1900\n",
            "Epoch 59/100\n",
            "2/2 [==============================] - 0s 10ms/step - loss: 20.8868 - mae: 20.8868\n",
            "Epoch 60/100\n",
            "2/2 [==============================] - 0s 11ms/step - loss: 20.5783 - mae: 20.5783\n",
            "Epoch 61/100\n",
            "2/2 [==============================] - 0s 10ms/step - loss: 20.2633 - mae: 20.2633\n",
            "Epoch 62/100\n",
            "2/2 [==============================] - 0s 10ms/step - loss: 19.9393 - mae: 19.9393\n",
            "Epoch 63/100\n",
            "2/2 [==============================] - 0s 10ms/step - loss: 19.6308 - mae: 19.6308\n",
            "Epoch 64/100\n",
            "2/2 [==============================] - 0s 9ms/step - loss: 19.3128 - mae: 19.3128\n",
            "Epoch 65/100\n",
            "2/2 [==============================] - 0s 8ms/step - loss: 18.9914 - mae: 18.9914\n",
            "Epoch 66/100\n",
            "2/2 [==============================] - 0s 8ms/step - loss: 18.6677 - mae: 18.6677\n",
            "Epoch 67/100\n",
            "2/2 [==============================] - 0s 8ms/step - loss: 18.3608 - mae: 18.3608\n",
            "Epoch 68/100\n",
            "2/2 [==============================] - 0s 9ms/step - loss: 18.0658 - mae: 18.0658\n",
            "Epoch 69/100\n",
            "2/2 [==============================] - 0s 9ms/step - loss: 17.7697 - mae: 17.7697\n",
            "Epoch 70/100\n",
            "2/2 [==============================] - 0s 8ms/step - loss: 17.4909 - mae: 17.4909\n",
            "Epoch 71/100\n",
            "2/2 [==============================] - 0s 9ms/step - loss: 17.1927 - mae: 17.1927\n",
            "Epoch 72/100\n",
            "2/2 [==============================] - 0s 11ms/step - loss: 16.8945 - mae: 16.8945\n",
            "Epoch 73/100\n",
            "2/2 [==============================] - 0s 11ms/step - loss: 16.5952 - mae: 16.5952\n",
            "Epoch 74/100\n",
            "2/2 [==============================] - 0s 9ms/step - loss: 16.2612 - mae: 16.2612\n",
            "Epoch 75/100\n",
            "2/2 [==============================] - 0s 9ms/step - loss: 15.9930 - mae: 15.9930\n",
            "Epoch 76/100\n",
            "2/2 [==============================] - 0s 10ms/step - loss: 15.7046 - mae: 15.7046\n",
            "Epoch 77/100\n",
            "2/2 [==============================] - 0s 10ms/step - loss: 15.4155 - mae: 15.4155\n",
            "Epoch 78/100\n",
            "2/2 [==============================] - 0s 10ms/step - loss: 15.1396 - mae: 15.1396\n",
            "Epoch 79/100\n",
            "2/2 [==============================] - 0s 12ms/step - loss: 14.8365 - mae: 14.8365\n",
            "Epoch 80/100\n",
            "2/2 [==============================] - 0s 16ms/step - loss: 14.5290 - mae: 14.5290\n",
            "Epoch 81/100\n",
            "2/2 [==============================] - 0s 9ms/step - loss: 14.2881 - mae: 14.2881\n",
            "Epoch 82/100\n",
            "2/2 [==============================] - 0s 9ms/step - loss: 14.0933 - mae: 14.0933\n",
            "Epoch 83/100\n",
            "2/2 [==============================] - 0s 8ms/step - loss: 13.8754 - mae: 13.8754\n",
            "Epoch 84/100\n",
            "2/2 [==============================] - 0s 10ms/step - loss: 13.6605 - mae: 13.6605\n",
            "Epoch 85/100\n",
            "2/2 [==============================] - 0s 9ms/step - loss: 13.3720 - mae: 13.3720\n",
            "Epoch 86/100\n",
            "2/2 [==============================] - 0s 8ms/step - loss: 13.1121 - mae: 13.1121\n",
            "Epoch 87/100\n",
            "2/2 [==============================] - 0s 9ms/step - loss: 12.8577 - mae: 12.8577\n",
            "Epoch 88/100\n",
            "2/2 [==============================] - 0s 10ms/step - loss: 12.6006 - mae: 12.6006\n",
            "Epoch 89/100\n",
            "2/2 [==============================] - 0s 9ms/step - loss: 12.3771 - mae: 12.3771\n",
            "Epoch 90/100\n",
            "2/2 [==============================] - 0s 10ms/step - loss: 12.1447 - mae: 12.1447\n",
            "Epoch 91/100\n",
            "2/2 [==============================] - 0s 9ms/step - loss: 11.9285 - mae: 11.9285\n",
            "Epoch 92/100\n",
            "2/2 [==============================] - 0s 8ms/step - loss: 11.7043 - mae: 11.7043\n",
            "Epoch 93/100\n",
            "2/2 [==============================] - 0s 14ms/step - loss: 11.5136 - mae: 11.5136\n",
            "Epoch 94/100\n",
            "2/2 [==============================] - 0s 12ms/step - loss: 11.3312 - mae: 11.3312\n",
            "Epoch 95/100\n",
            "2/2 [==============================] - 0s 9ms/step - loss: 11.1402 - mae: 11.1402\n",
            "Epoch 96/100\n",
            "2/2 [==============================] - 0s 9ms/step - loss: 10.9665 - mae: 10.9665\n",
            "Epoch 97/100\n",
            "2/2 [==============================] - 0s 8ms/step - loss: 10.7684 - mae: 10.7684\n",
            "Epoch 98/100\n",
            "2/2 [==============================] - 0s 9ms/step - loss: 10.6184 - mae: 10.6184\n",
            "Epoch 99/100\n",
            "2/2 [==============================] - 0s 9ms/step - loss: 10.4523 - mae: 10.4523\n",
            "Epoch 100/100\n",
            "2/2 [==============================] - 0s 9ms/step - loss: 10.2714 - mae: 10.2714\n"
          ]
        },
        {
          "output_type": "execute_result",
          "data": {
            "text/plain": [
              "<keras.callbacks.History at 0x7f6136bdd8a0>"
            ]
          },
          "metadata": {},
          "execution_count": 53
        }
      ]
    },
    {
      "cell_type": "code",
      "source": [
        "#Get a summary of our model\n",
        "model.summary()"
      ],
      "metadata": {
        "colab": {
          "base_uri": "https://localhost:8080/"
        },
        "id": "lwSBH8yUwLV8",
        "outputId": "65d3e42d-2886-405b-b4c3-4ae5bbc21e38"
      },
      "execution_count": null,
      "outputs": [
        {
          "output_type": "stream",
          "name": "stdout",
          "text": [
            "Model: \"sequential_3\"\n",
            "_________________________________________________________________\n",
            " Layer (type)                Output Shape              Param #   \n",
            "=================================================================\n",
            " dense_3 (Dense)             (None, 100)               200       \n",
            "                                                                 \n",
            "=================================================================\n",
            "Total params: 200\n",
            "Trainable params: 200\n",
            "Non-trainable params: 0\n",
            "_________________________________________________________________\n"
          ]
        }
      ]
    },
    {
      "cell_type": "code",
      "source": [
        "from tensorflow.keras.utils import plot_model\n",
        "plot_model(model=model,show_shapes=True)"
      ],
      "metadata": {
        "colab": {
          "base_uri": "https://localhost:8080/",
          "height": 201
        },
        "id": "dWQ216VJ1tbq",
        "outputId": "d011f1b9-0aba-47c7-ce5a-033be521112b"
      },
      "execution_count": null,
      "outputs": [
        {
          "output_type": "execute_result",
          "data": {
            "image/png": "[encoded data removed]",
            "text/plain": [
              "<IPython.core.display.Image object>"
            ]
          },
          "metadata": {},
          "execution_count": 54
        }
      ]
    },
    {
      "cell_type": "code",
      "source": [
        "#Creating another with output layer specified\n",
        "tf.random.set_seed(42)\n",
        "\n",
        "#1. Creating the model\n",
        "model=tf.keras.Sequential([\n",
        "    tf.keras.layers.Dense(20,input_shape=[1]),\n",
        "    tf.keras.layers.Dense(1,name=\"output_layer\")\n",
        "],name=\"ModelTry1\")\n",
        "\n",
        "#2. Compile the model\n",
        "model.compile(loss=tf.keras.losses.mae,\n",
        "              optimizer=tf.keras.optimizers.SGD(),\n",
        "              metrics=[\"mae\"])\n",
        "#3. Fitting the model\n",
        "model.fit(X_train,y_train,epochs=100,verbose=0)"
      ],
      "metadata": {
        "colab": {
          "base_uri": "https://localhost:8080/"
        },
        "id": "Ltc8oNiQ2FNo",
        "outputId": "92674bb0-455e-47c6-b1d2-08b89931e1f9"
      },
      "execution_count": null,
      "outputs": [
        {
          "output_type": "execute_result",
          "data": {
            "text/plain": [
              "<keras.callbacks.History at 0x7f6136905030>"
            ]
          },
          "metadata": {},
          "execution_count": 60
        }
      ]
    },
    {
      "cell_type": "code",
      "source": [
        "model.summary()"
      ],
      "metadata": {
        "colab": {
          "base_uri": "https://localhost:8080/"
        },
        "id": "8RNvPyrv2gML",
        "outputId": "01506eb4-24a9-474b-8ab6-060585c6b68b"
      },
      "execution_count": null,
      "outputs": [
        {
          "output_type": "stream",
          "name": "stdout",
          "text": [
            "Model: \"ModelTry1\"\n",
            "_________________________________________________________________\n",
            " Layer (type)                Output Shape              Param #   \n",
            "=================================================================\n",
            " dense_9 (Dense)             (None, 500)               1000      \n",
            "                                                                 \n",
            " output_layer (Dense)        (None, 1)                 501       \n",
            "                                                                 \n",
            "=================================================================\n",
            "Total params: 1,501\n",
            "Trainable params: 1,501\n",
            "Non-trainable params: 0\n",
            "_________________________________________________________________\n"
          ]
        }
      ]
    },
    {
      "cell_type": "code",
      "source": [
        "plot_model(model,show_shapes=True)"
      ],
      "metadata": {
        "colab": {
          "base_uri": "https://localhost:8080/",
          "height": 312
        },
        "id": "V8J4rhQm2inZ",
        "outputId": "51e89b3c-5081-4081-dbaf-d728fc766d7e"
      },
      "execution_count": null,
      "outputs": [
        {
          "output_type": "execute_result",
          "data": {
            "image/png": "[encoded data removed]",
            "text/plain": [
              "<IPython.core.display.Image object>"
            ]
          },
          "metadata": {},
          "execution_count": 25
        }
      ]
    },
    {
      "cell_type": "markdown",
      "source": [
        "### Visualising our Model's Prediction"
      ],
      "metadata": {
        "id": "hDBpD-pm29_J"
      }
    },
    {
      "cell_type": "code",
      "source": [
        "#Making prediction\n",
        "y_pred=model.predict(X_test)\n",
        "y_pred"
      ],
      "metadata": {
        "colab": {
          "base_uri": "https://localhost:8080/"
        },
        "id": "Uv_EUL2M3G12",
        "outputId": "9386217f-4c97-453a-f915-29f84453b243"
      },
      "execution_count": null,
      "outputs": [
        {
          "output_type": "stream",
          "name": "stdout",
          "text": [
            "1/1 [==============================] - 0s 67ms/step\n"
          ]
        },
        {
          "output_type": "execute_result",
          "data": {
            "text/plain": [
              "array([[ 75.97853 ],\n",
              "       [ 80.92699 ],\n",
              "       [ 85.87544 ],\n",
              "       [ 90.82388 ],\n",
              "       [ 95.77234 ],\n",
              "       [100.72081 ],\n",
              "       [105.66926 ],\n",
              "       [110.61771 ],\n",
              "       [115.566154],\n",
              "       [120.5146  ]], dtype=float32)"
            ]
          },
          "metadata": {},
          "execution_count": 61
        }
      ]
    },
    {
      "cell_type": "code",
      "source": [
        "#Plotting Function\n",
        "def plot_predictions(train_data=X_train,\n",
        "                     train_label=y_train,\n",
        "                     test_data=X_test,\n",
        "                     test_label=y_test,\n",
        "                     predictions=y_pred):\n",
        "  plt.figure(figsize=(10,7))\n",
        "  #Plot training data in blue\n",
        "  plt.scatter(train_data,train_label,c=\"b\",label=\"Training data\")\n",
        "\n",
        "  #Plot test data in green\n",
        "  plt.scatter(test_data,test_label,c=\"g\",label=\"Testing data\")\n",
        "\n",
        "  #Plot model's prediction in red\n",
        "  plt.scatter(test_data,predictions,c=\"r\",label=\"Predictions\")\n",
        "  #Showing the legend\n",
        "  plt.legend();\n"
      ],
      "metadata": {
        "id": "Umrqvge54TrF"
      },
      "execution_count": null,
      "outputs": []
    },
    {
      "cell_type": "code",
      "source": [
        "plot_predictions()"
      ],
      "metadata": {
        "colab": {
          "base_uri": "https://localhost:8080/"
        },
        "id": "91L4SyRR5kbZ",
        "outputId": "f51974bc-3fe5-4b5d-9d43-586695f3dfad"
      },
      "execution_count": null,
      "outputs": [
        {
          "output_type": "display_data",
          "data": {
            "text/plain": [
              "<Figure size 1000x700 with 1 Axes>"
            ],
            "image/png": "[encoded data removed]"
          },
          "metadata": {}
        }
      ]
    },
    {
      "cell_type": "markdown",
      "source": [
        "### Evaluating Model Prediction using Regression Metrics\n",
        "\n",
        "Some of the main metrics that we will use for evaluating our model are:\n",
        "* MAE = Mean Absolute Error\n",
        "* MSE = Mean Square Error\n",
        "* Huber = Combination of MAE and MSE, Less sensitive to outliers than MSE\n",
        "\n",
        "**Note:- You need to have Y_pred as a tensor and with the same shape as Y_test so that you can compare them properly**"
      ],
      "metadata": {
        "id": "NvFpg3Yb61SV"
      }
    },
    {
      "cell_type": "code",
      "source": [
        "#Evaluate the model on the test data\n",
        "model.evaluate(X_test,y_test)\n",
        "#[loss,mae] as defined in the model compilation"
      ],
      "metadata": {
        "colab": {
          "base_uri": "https://localhost:8080/"
        },
        "id": "yAGJ0Xbj8JdT",
        "outputId": "4a30cdb7-61b5-4a80-9913-b78d8bc2aeb7"
      },
      "execution_count": null,
      "outputs": [
        {
          "output_type": "stream",
          "name": "stdout",
          "text": [
            "1/1 [==============================] - 0s 367ms/step - loss: 10.2466 - mae: 10.2466\n"
          ]
        },
        {
          "output_type": "execute_result",
          "data": {
            "text/plain": [
              "[10.246575355529785, 10.246575355529785]"
            ]
          },
          "metadata": {},
          "execution_count": 64
        }
      ]
    },
    {
      "cell_type": "code",
      "source": [
        "# Calculate Mean Absolute Error\n",
        "mae=tf.metrics.mean_absolute_error(y_test,tf.constant(y_pred,shape=(10,)))\n",
        "mae"
      ],
      "metadata": {
        "id": "-dv8NY7z7ccU"
      },
      "execution_count": null,
      "outputs": []
    },
    {
      "cell_type": "code",
      "source": [
        "#Calculate the mean squared error\n",
        "mse=tf.metrics.mean_squared_error(y_test,tf.constant(y_pred,shape=(10,)))\n",
        "mse"
      ],
      "metadata": {
        "colab": {
          "base_uri": "https://localhost:8080/"
        },
        "id": "tw9JuK_Q7HyX",
        "outputId": "cfa07366-b1ae-49fd-f466-66e26ebdb4d4"
      },
      "execution_count": null,
      "outputs": [
        {
          "output_type": "execute_result",
          "data": {
            "text/plain": [
              "<tf.Tensor: shape=(), dtype=float32, numpy=112.41362>"
            ]
          },
          "metadata": {},
          "execution_count": 81
        }
      ]
    },
    {
      "cell_type": "code",
      "source": [
        "#Function to return MAE and MSE\n",
        "def mae(y_true,y_pred):\n",
        "  return tf.metrics.mean_absolute_error(y_test,tf.constant(y_pred,shape=(10,)))\n",
        "\n",
        "def mse(y_true,y_pred):\n",
        "  return tf.metrics.mean_squared_error(y_test,tf.constant(y_pred,shape=(10,)))"
      ],
      "metadata": {
        "id": "bfPuHwIuAGpO"
      },
      "execution_count": null,
      "outputs": []
    },
    {
      "cell_type": "markdown",
      "source": [
        "### Running experiments to improve our model\n",
        "\n",
        "1. Get more data- get more examples for your model to train on (more opportunities to learn patterns or relationships between features and labels).\n",
        "2. Make your model larger (using a more complex model) - This might come in the form of more layers or more hidden units in each layer.\n",
        "\n",
        "3. Train for longer - give your model more of a chance to find patterns in the data.\n",
        "\n",
        "Trying different models:-\n",
        "1. `model 1` - same as the original model, 1 layer, trained for 100 epochs\n",
        "2. `model 2` - 2 layers, trained for 100 epochs\n",
        "3. `model 3` - 2 layers, trained for 500 epochs"
      ],
      "metadata": {
        "id": "fc1Y4nqRAn4U"
      }
    },
    {
      "cell_type": "markdown",
      "source": [
        "**Model 1**"
      ],
      "metadata": {
        "id": "swVuwuDSNizq"
      }
    },
    {
      "cell_type": "code",
      "source": [
        "#Random Seed\n",
        "tf.random.set_seed(42)\n",
        "\n",
        "#1. Create the model\n",
        "model_1=tf.keras.Sequential([\n",
        "    tf.keras.layers.Dense(1,input_shape=[1])\n",
        "])\n",
        "\n",
        "#2. Compile the model\n",
        "model_1.compile(loss=tf.keras.losses.mae,\n",
        "                optimizer=tf.keras.optimizers.SGD(),\n",
        "                metrics=[\"mae\"])\n",
        "#3. Fitting the model\n",
        "model_1.fit(X_train,y_train,epochs=100,verbose=0)"
      ],
      "metadata": {
        "colab": {
          "base_uri": "https://localhost:8080/"
        },
        "id": "4YYxeTRTCHY0",
        "outputId": "34dd53cf-3ba7-4b27-faa2-9907c81ba23d"
      },
      "execution_count": null,
      "outputs": [
        {
          "output_type": "execute_result",
          "data": {
            "text/plain": [
              "<keras.callbacks.History at 0x7f613a4564a0>"
            ]
          },
          "metadata": {},
          "execution_count": 93
        }
      ]
    },
    {
      "cell_type": "code",
      "source": [
        "#Plotting Predictions for model_1\n",
        "y_preds_1=model_1.predict(X_test)\n",
        "plot_predictions(predictions= y_preds_1)"
      ],
      "metadata": {
        "colab": {
          "base_uri": "https://localhost:8080/",
          "height": 474
        },
        "id": "4sdXN785CpJ2",
        "outputId": "e10a6ff5-c27d-4904-ec3e-c8c64abe92eb"
      },
      "execution_count": null,
      "outputs": [
        {
          "output_type": "stream",
          "name": "stdout",
          "text": [
            "1/1 [==============================] - 0s 97ms/step\n"
          ]
        },
        {
          "output_type": "display_data",
          "data": {
            "text/plain": [
              "<Figure size 1000x700 with 1 Axes>"
            ],
            "image/png": "[encoded data removed]"
          },
          "metadata": {}
        }
      ]
    },
    {
      "cell_type": "code",
      "source": [
        "#Model 1 Calculation metrics\n",
        "mae_1=mae(y_test,y_preds_1)\n",
        "mse_1=mse(y_test,y_preds_1)\n",
        "\n",
        "mae_1,mse_1"
      ],
      "metadata": {
        "colab": {
          "base_uri": "https://localhost:8080/"
        },
        "id": "yiOjJKgICDot",
        "outputId": "9d89ea3c-6519-487a-cb14-4d09517dc976"
      },
      "execution_count": null,
      "outputs": [
        {
          "output_type": "execute_result",
          "data": {
            "text/plain": [
              "(<tf.Tensor: shape=(), dtype=float32, numpy=14.835065>,\n",
              " <tf.Tensor: shape=(), dtype=float32, numpy=220.89775>)"
            ]
          },
          "metadata": {},
          "execution_count": 99
        }
      ]
    },
    {
      "cell_type": "markdown",
      "source": [
        "**Model 2**"
      ],
      "metadata": {
        "id": "Jn3rLjNyAzHv"
      }
    },
    {
      "cell_type": "code",
      "source": [
        "#Random Seed\n",
        "tf.random.set_seed(42)\n",
        "\n",
        "#1. Create the model\n",
        "model_2=tf.keras.Sequential([\n",
        "    tf.keras.layers.Dense(10,input_shape=[1]),\n",
        "    tf.keras.layers.Dense(1,input_shape=[1])\n",
        "])\n",
        "\n",
        "#2. Compile the model\n",
        "model_2.compile(loss=tf.keras.losses.mae,\n",
        "                optimizer=tf.keras.optimizers.SGD(),\n",
        "                metrics=[\"mae\",\"mse\"])\n",
        "#3. Fitting the model\n",
        "model_2.fit(X_train,y_train,epochs=100,verbose=0)"
      ],
      "metadata": {
        "colab": {
          "base_uri": "https://localhost:8080/"
        },
        "id": "lTH4gAwyNuEL",
        "outputId": "e4af9846-87a8-4be4-cce8-94c0cc09a616"
      },
      "execution_count": null,
      "outputs": [
        {
          "output_type": "execute_result",
          "data": {
            "text/plain": [
              "<keras.callbacks.History at 0x7f6136cc36d0>"
            ]
          },
          "metadata": {},
          "execution_count": 102
        }
      ]
    },
    {
      "cell_type": "code",
      "source": [
        "#Plotting Predictions for model_1\n",
        "y_preds_2=model_2.predict(X_test)\n",
        "plot_predictions(predictions= y_preds_2)"
      ],
      "metadata": {
        "colab": {
          "base_uri": "https://localhost:8080/",
          "height": 469
        },
        "id": "f1Tx6LvhOeLa",
        "outputId": "89938d18-642e-4191-f14a-d5448364f6cb"
      },
      "execution_count": null,
      "outputs": [
        {
          "output_type": "stream",
          "name": "stdout",
          "text": [
            "1/1 [==============================] - 0s 97ms/step\n"
          ]
        },
        {
          "output_type": "display_data",
          "data": {
            "text/plain": [
              "<Figure size 1000x700 with 1 Axes>"
            ],
            "image/png": "[encoded data removed]"
          },
          "metadata": {}
        }
      ]
    },
    {
      "cell_type": "code",
      "source": [
        "#Model 2 Calculation metrics\n",
        "mae_2=mae(y_test,y_preds_2)\n",
        "mse_2=mse(y_test,y_preds_2)\n",
        "\n",
        "mae_2,mse_2"
      ],
      "metadata": {
        "colab": {
          "base_uri": "https://localhost:8080/"
        },
        "id": "gWLsSgRdOwMX",
        "outputId": "613c79f2-43ff-4910-9991-bdb259f55d55"
      },
      "execution_count": null,
      "outputs": [
        {
          "output_type": "execute_result",
          "data": {
            "text/plain": [
              "(<tf.Tensor: shape=(), dtype=float32, numpy=11.5917015>,\n",
              " <tf.Tensor: shape=(), dtype=float32, numpy=142.95853>)"
            ]
          },
          "metadata": {},
          "execution_count": 106
        }
      ]
    },
    {
      "cell_type": "markdown",
      "source": [
        "**Model 3**"
      ],
      "metadata": {
        "id": "EASlzSPhO_Sr"
      }
    },
    {
      "cell_type": "code",
      "source": [
        "#Random Seed\n",
        "tf.random.set_seed(42)\n",
        "\n",
        "#1. Create the model\n",
        "model_3=tf.keras.Sequential([\n",
        "    tf.keras.layers.Dense(10,input_shape=[1]),\n",
        "    tf.keras.layers.Dense(1,input_shape=[1])\n",
        "])\n",
        "\n",
        "#2. Compile the model\n",
        "model_3.compile(loss=tf.keras.losses.mae,\n",
        "                optimizer=tf.keras.optimizers.SGD(),\n",
        "                metrics=[\"mae\",\"mse\"])\n",
        "#3. Fitting the model\n",
        "model_3.fit(X_train,y_train,epochs=500,verbose=0)"
      ],
      "metadata": {
        "colab": {
          "base_uri": "https://localhost:8080/"
        },
        "outputId": "b3a2fb6e-9f43-4dad-c336-39eb16cc172a",
        "id": "adBPBIaGO_Ss"
      },
      "execution_count": null,
      "outputs": [
        {
          "output_type": "execute_result",
          "data": {
            "text/plain": [
              "<keras.callbacks.History at 0x7f613abb0e50>"
            ]
          },
          "metadata": {},
          "execution_count": 107
        }
      ]
    },
    {
      "cell_type": "code",
      "source": [
        "#Plotting Predictions for model_1\n",
        "y_preds_3=model_3.predict(X_test)\n",
        "plot_predictions(predictions= y_preds_3)"
      ],
      "metadata": {
        "colab": {
          "base_uri": "https://localhost:8080/",
          "height": 474
        },
        "outputId": "fcdf8cdd-580a-4937-a8af-75b6468ba4b0",
        "id": "99rjaX6aO_Ss"
      },
      "execution_count": null,
      "outputs": [
        {
          "output_type": "stream",
          "name": "stdout",
          "text": [
            "1/1 [==============================] - 0s 66ms/step\n"
          ]
        },
        {
          "output_type": "display_data",
          "data": {
            "text/plain": [
              "<Figure size 1000x700 with 1 Axes>"
            ],
            "image/png": "[encoded data removed]"
          },
          "metadata": {}
        }
      ]
    },
    {
      "cell_type": "code",
      "source": [
        "#Model 2 Calculation metrics\n",
        "mae_3=mae(y_test,y_preds_3)\n",
        "mse_3=mse(y_test,y_preds_3)\n",
        "\n",
        "mae_3,mse_3"
      ],
      "metadata": {
        "colab": {
          "base_uri": "https://localhost:8080/"
        },
        "outputId": "5b2f48f2-e87b-4db8-ea23-319cb920248f",
        "id": "8CT9AjGnO_Ss"
      },
      "execution_count": null,
      "outputs": [
        {
          "output_type": "execute_result",
          "data": {
            "text/plain": [
              "(<tf.Tensor: shape=(), dtype=float32, numpy=67.94172>,\n",
              " <tf.Tensor: shape=(), dtype=float32, numpy=4700.737>)"
            ]
          },
          "metadata": {},
          "execution_count": 109
        }
      ]
    }
  ]
}